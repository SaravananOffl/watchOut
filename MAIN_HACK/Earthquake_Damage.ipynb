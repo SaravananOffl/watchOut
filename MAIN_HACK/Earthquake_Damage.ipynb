{
 "cells": [
  {
   "cell_type": "code",
   "execution_count": 1,
   "metadata": {
    "_cell_guid": "b1076dfc-b9ad-4769-8c92-a6c4dae69d19",
    "_uuid": "8f2839f25d086af736a60e9eeb907d3b93b6e0e5",
    "colab": {},
    "colab_type": "code",
    "id": "nOYSKbptfzFO"
   },
   "outputs": [],
   "source": [
    "\n",
    "\n",
    "import numpy as np # linear algebra\n",
    "import pandas as pd # data processing, CSV file I/O (e.g. pd.read_csv)\n",
    "\n",
    "\n",
    "import os\n",
    "import matplotlib.pyplot as plt\n",
    "%matplotlib inline\n",
    "import seaborn as sns\n",
    "import sklearn\n",
    "\n",
    "\n",
    "# Any results you write to the current directory are saved as output."
   ]
  },
  {
   "cell_type": "code",
   "execution_count": 0,
   "metadata": {
    "_uuid": "b656ee7a776c316f0963ad0e6f376f03f285a3fb",
    "colab": {},
    "colab_type": "code",
    "id": "75xT8I1RfzFe"
   },
   "outputs": [],
   "source": [
    "building_own = pd.read_csv('/content/sample_data/Building_Ownership_Use.csv')"
   ]
  },
  {
   "cell_type": "code",
   "execution_count": 114,
   "metadata": {
    "colab": {
     "base_uri": "https://localhost:8080/",
     "height": 215
    },
    "colab_type": "code",
    "id": "8OwoSjaZi-XD",
    "outputId": "8f292ba7-ba93-4c14-f65b-79fe3957bdbd"
   },
   "outputs": [
    {
     "data": {
      "text/html": [
       "<div>\n",
       "<style scoped>\n",
       "    .dataframe tbody tr th:only-of-type {\n",
       "        vertical-align: middle;\n",
       "    }\n",
       "\n",
       "    .dataframe tbody tr th {\n",
       "        vertical-align: top;\n",
       "    }\n",
       "\n",
       "    .dataframe thead th {\n",
       "        text-align: right;\n",
       "    }\n",
       "</style>\n",
       "<table border=\"1\" class=\"dataframe\">\n",
       "  <thead>\n",
       "    <tr style=\"text-align: right;\">\n",
       "      <th></th>\n",
       "      <th>building_id</th>\n",
       "      <th>district_id</th>\n",
       "      <th>vdcmun_id</th>\n",
       "      <th>ward_id</th>\n",
       "      <th>legal_ownership_status</th>\n",
       "      <th>count_families</th>\n",
       "      <th>has_secondary_use</th>\n",
       "      <th>has_secondary_use_agriculture</th>\n",
       "      <th>has_secondary_use_hotel</th>\n",
       "      <th>has_secondary_use_rental</th>\n",
       "      <th>has_secondary_use_institution</th>\n",
       "      <th>has_secondary_use_school</th>\n",
       "      <th>has_secondary_use_industry</th>\n",
       "      <th>has_secondary_use_health_post</th>\n",
       "      <th>has_secondary_use_gov_office</th>\n",
       "      <th>has_secondary_use_use_police</th>\n",
       "      <th>has_secondary_use_other</th>\n",
       "    </tr>\n",
       "  </thead>\n",
       "  <tbody>\n",
       "    <tr>\n",
       "      <th>0</th>\n",
       "      <td>a3380c4f75</td>\n",
       "      <td>7</td>\n",
       "      <td>701</td>\n",
       "      <td>70102</td>\n",
       "      <td>Private</td>\n",
       "      <td>1.0</td>\n",
       "      <td>0.0</td>\n",
       "      <td>0</td>\n",
       "      <td>0</td>\n",
       "      <td>0</td>\n",
       "      <td>0</td>\n",
       "      <td>0</td>\n",
       "      <td>0</td>\n",
       "      <td>0</td>\n",
       "      <td>0</td>\n",
       "      <td>0</td>\n",
       "      <td>0</td>\n",
       "    </tr>\n",
       "    <tr>\n",
       "      <th>1</th>\n",
       "      <td>a3380c4fd9</td>\n",
       "      <td>7</td>\n",
       "      <td>701</td>\n",
       "      <td>70102</td>\n",
       "      <td>Private</td>\n",
       "      <td>1.0</td>\n",
       "      <td>0.0</td>\n",
       "      <td>0</td>\n",
       "      <td>0</td>\n",
       "      <td>0</td>\n",
       "      <td>0</td>\n",
       "      <td>0</td>\n",
       "      <td>0</td>\n",
       "      <td>0</td>\n",
       "      <td>0</td>\n",
       "      <td>0</td>\n",
       "      <td>0</td>\n",
       "    </tr>\n",
       "    <tr>\n",
       "      <th>2</th>\n",
       "      <td>a3380c503e</td>\n",
       "      <td>7</td>\n",
       "      <td>701</td>\n",
       "      <td>70102</td>\n",
       "      <td>Private</td>\n",
       "      <td>1.0</td>\n",
       "      <td>0.0</td>\n",
       "      <td>0</td>\n",
       "      <td>0</td>\n",
       "      <td>0</td>\n",
       "      <td>0</td>\n",
       "      <td>0</td>\n",
       "      <td>0</td>\n",
       "      <td>0</td>\n",
       "      <td>0</td>\n",
       "      <td>0</td>\n",
       "      <td>0</td>\n",
       "    </tr>\n",
       "    <tr>\n",
       "      <th>3</th>\n",
       "      <td>a338a4e5f2</td>\n",
       "      <td>7</td>\n",
       "      <td>701</td>\n",
       "      <td>70103</td>\n",
       "      <td>Private</td>\n",
       "      <td>1.0</td>\n",
       "      <td>0.0</td>\n",
       "      <td>0</td>\n",
       "      <td>0</td>\n",
       "      <td>0</td>\n",
       "      <td>0</td>\n",
       "      <td>0</td>\n",
       "      <td>0</td>\n",
       "      <td>0</td>\n",
       "      <td>0</td>\n",
       "      <td>0</td>\n",
       "      <td>0</td>\n",
       "    </tr>\n",
       "    <tr>\n",
       "      <th>4</th>\n",
       "      <td>a338a4e653</td>\n",
       "      <td>7</td>\n",
       "      <td>701</td>\n",
       "      <td>70103</td>\n",
       "      <td>Private</td>\n",
       "      <td>1.0</td>\n",
       "      <td>0.0</td>\n",
       "      <td>0</td>\n",
       "      <td>0</td>\n",
       "      <td>0</td>\n",
       "      <td>0</td>\n",
       "      <td>0</td>\n",
       "      <td>0</td>\n",
       "      <td>0</td>\n",
       "      <td>0</td>\n",
       "      <td>0</td>\n",
       "      <td>0</td>\n",
       "    </tr>\n",
       "  </tbody>\n",
       "</table>\n",
       "</div>"
      ],
      "text/plain": [
       "  building_id  district_id  vdcmun_id  ward_id legal_ownership_status  \\\n",
       "0  a3380c4f75            7        701    70102                Private   \n",
       "1  a3380c4fd9            7        701    70102                Private   \n",
       "2  a3380c503e            7        701    70102                Private   \n",
       "3  a338a4e5f2            7        701    70103                Private   \n",
       "4  a338a4e653            7        701    70103                Private   \n",
       "\n",
       "   count_families  has_secondary_use  has_secondary_use_agriculture  \\\n",
       "0             1.0                0.0                              0   \n",
       "1             1.0                0.0                              0   \n",
       "2             1.0                0.0                              0   \n",
       "3             1.0                0.0                              0   \n",
       "4             1.0                0.0                              0   \n",
       "\n",
       "   has_secondary_use_hotel  has_secondary_use_rental  \\\n",
       "0                        0                         0   \n",
       "1                        0                         0   \n",
       "2                        0                         0   \n",
       "3                        0                         0   \n",
       "4                        0                         0   \n",
       "\n",
       "   has_secondary_use_institution  has_secondary_use_school  \\\n",
       "0                              0                         0   \n",
       "1                              0                         0   \n",
       "2                              0                         0   \n",
       "3                              0                         0   \n",
       "4                              0                         0   \n",
       "\n",
       "   has_secondary_use_industry  has_secondary_use_health_post  \\\n",
       "0                           0                              0   \n",
       "1                           0                              0   \n",
       "2                           0                              0   \n",
       "3                           0                              0   \n",
       "4                           0                              0   \n",
       "\n",
       "   has_secondary_use_gov_office  has_secondary_use_use_police  \\\n",
       "0                             0                             0   \n",
       "1                             0                             0   \n",
       "2                             0                             0   \n",
       "3                             0                             0   \n",
       "4                             0                             0   \n",
       "\n",
       "   has_secondary_use_other  \n",
       "0                        0  \n",
       "1                        0  \n",
       "2                        0  \n",
       "3                        0  \n",
       "4                        0  "
      ]
     },
     "execution_count": 114,
     "metadata": {
      "tags": []
     },
     "output_type": "execute_result"
    }
   ],
   "source": [
    "building_own.head()"
   ]
  },
  {
   "cell_type": "code",
   "execution_count": 115,
   "metadata": {
    "_uuid": "4b7b4f77944b67e8c284cad69591c8b61666b65b",
    "colab": {
     "base_uri": "https://localhost:8080/",
     "height": 34
    },
    "colab_type": "code",
    "id": "YQMqygtpfzFp",
    "outputId": "8d6b5cfc-054b-4d87-cc8b-3cd159079ed8"
   },
   "outputs": [
    {
     "data": {
      "text/plain": [
       "(631761, 14)"
      ]
     },
     "execution_count": 115,
     "metadata": {
      "tags": []
     },
     "output_type": "execute_result"
    }
   ],
   "source": [
    "train = pd.read_csv('/content/sample_data/train.csv')\n",
    "train.shape"
   ]
  },
  {
   "cell_type": "code",
   "execution_count": 0,
   "metadata": {
    "_cell_guid": "79c7e3d0-c299-4dcb-8224-4455121ee9b0",
    "_uuid": "d629ff2d2480ee46fbb7e2d37f6b5fab8052498a",
    "colab": {},
    "colab_type": "code",
    "id": "s5Laij1tfzFl"
   },
   "outputs": [],
   "source": [
    "building_str = pd.read_csv('/content/sample_data/Building_Structure.csv')"
   ]
  },
  {
   "cell_type": "code",
   "execution_count": 117,
   "metadata": {
    "_uuid": "c44ca6da31478dfbfe3a632d0505c6d54b18694e",
    "colab": {
     "base_uri": "https://localhost:8080/",
     "height": 34
    },
    "colab_type": "code",
    "id": "77C0SPInfzFt",
    "outputId": "8b8897e0-112f-46eb-9aef-0bd99f5d1244"
   },
   "outputs": [
    {
     "data": {
      "text/plain": [
       "(421175, 13)"
      ]
     },
     "execution_count": 117,
     "metadata": {
      "tags": []
     },
     "output_type": "execute_result"
    }
   ],
   "source": [
    "test = pd.read_csv('/content/sample_data/test.csv')\n",
    "test.shape"
   ]
  },
  {
   "cell_type": "code",
   "execution_count": 0,
   "metadata": {
    "colab": {},
    "colab_type": "code",
    "id": "hzCFHBpUhaI4"
   },
   "outputs": [],
   "source": []
  },
  {
   "cell_type": "code",
   "execution_count": 0,
   "metadata": {
    "_uuid": "31212b2b6b600e13e50aa588a808ee3607642d4d",
    "colab": {},
    "colab_type": "code",
    "id": "5EVoR9obfzFx"
   },
   "outputs": [],
   "source": [
    "#Merging the files\n",
    "combine = pd.merge(building_own,building_str, on='building_id')\n",
    "res_train = pd.merge(combine,train, on = 'building_id')\n",
    "res_test = pd.merge(combine,test, on = 'building_id')"
   ]
  },
  {
   "cell_type": "markdown",
   "metadata": {
    "_uuid": "e582a99cdf6e4951db2ea628bc60785562ac2cf7",
    "colab_type": "text",
    "id": "LXSuX6fgfzF1"
   },
   "source": [
    "**Data Analyis**\n"
   ]
  },
  {
   "cell_type": "code",
   "execution_count": 119,
   "metadata": {
    "_uuid": "7abc53485d039a8b11192feae967e2dbdf6a86f4",
    "colab": {
     "base_uri": "https://localhost:8080/",
     "height": 244
    },
    "colab_type": "code",
    "id": "DyKNHpKNfzF2",
    "outputId": "ea5868d4-eb03-4dcc-ce20-d08a7a012b22"
   },
   "outputs": [
    {
     "data": {
      "text/html": [
       "<div>\n",
       "<style scoped>\n",
       "    .dataframe tbody tr th:only-of-type {\n",
       "        vertical-align: middle;\n",
       "    }\n",
       "\n",
       "    .dataframe tbody tr th {\n",
       "        vertical-align: top;\n",
       "    }\n",
       "\n",
       "    .dataframe thead th {\n",
       "        text-align: right;\n",
       "    }\n",
       "</style>\n",
       "<table border=\"1\" class=\"dataframe\">\n",
       "  <thead>\n",
       "    <tr style=\"text-align: right;\">\n",
       "      <th></th>\n",
       "      <th>building_id</th>\n",
       "      <th>district_id_x</th>\n",
       "      <th>vdcmun_id_x</th>\n",
       "      <th>ward_id_x</th>\n",
       "      <th>legal_ownership_status</th>\n",
       "      <th>count_families</th>\n",
       "      <th>has_secondary_use</th>\n",
       "      <th>has_secondary_use_agriculture</th>\n",
       "      <th>has_secondary_use_hotel</th>\n",
       "      <th>has_secondary_use_rental</th>\n",
       "      <th>...</th>\n",
       "      <th>has_geotechnical_risk</th>\n",
       "      <th>has_geotechnical_risk_fault_crack</th>\n",
       "      <th>has_geotechnical_risk_flood</th>\n",
       "      <th>has_geotechnical_risk_land_settlement</th>\n",
       "      <th>has_geotechnical_risk_landslide</th>\n",
       "      <th>has_geotechnical_risk_liquefaction</th>\n",
       "      <th>has_geotechnical_risk_other</th>\n",
       "      <th>has_geotechnical_risk_rock_fall</th>\n",
       "      <th>has_repair_started</th>\n",
       "      <th>vdcmun_id</th>\n",
       "    </tr>\n",
       "  </thead>\n",
       "  <tbody>\n",
       "    <tr>\n",
       "      <th>0</th>\n",
       "      <td>a3380c4fd9</td>\n",
       "      <td>7</td>\n",
       "      <td>701</td>\n",
       "      <td>70102</td>\n",
       "      <td>Private</td>\n",
       "      <td>1.0</td>\n",
       "      <td>0.0</td>\n",
       "      <td>0</td>\n",
       "      <td>0</td>\n",
       "      <td>0</td>\n",
       "      <td>...</td>\n",
       "      <td>0.0</td>\n",
       "      <td>0</td>\n",
       "      <td>0</td>\n",
       "      <td>0</td>\n",
       "      <td>0</td>\n",
       "      <td>0</td>\n",
       "      <td>0</td>\n",
       "      <td>0</td>\n",
       "      <td>1.0</td>\n",
       "      <td>701</td>\n",
       "    </tr>\n",
       "    <tr>\n",
       "      <th>1</th>\n",
       "      <td>a3380c503e</td>\n",
       "      <td>7</td>\n",
       "      <td>701</td>\n",
       "      <td>70102</td>\n",
       "      <td>Private</td>\n",
       "      <td>1.0</td>\n",
       "      <td>0.0</td>\n",
       "      <td>0</td>\n",
       "      <td>0</td>\n",
       "      <td>0</td>\n",
       "      <td>...</td>\n",
       "      <td>0.0</td>\n",
       "      <td>0</td>\n",
       "      <td>0</td>\n",
       "      <td>0</td>\n",
       "      <td>0</td>\n",
       "      <td>0</td>\n",
       "      <td>0</td>\n",
       "      <td>0</td>\n",
       "      <td>1.0</td>\n",
       "      <td>701</td>\n",
       "    </tr>\n",
       "    <tr>\n",
       "      <th>2</th>\n",
       "      <td>a338a4e5f2</td>\n",
       "      <td>7</td>\n",
       "      <td>701</td>\n",
       "      <td>70103</td>\n",
       "      <td>Private</td>\n",
       "      <td>1.0</td>\n",
       "      <td>0.0</td>\n",
       "      <td>0</td>\n",
       "      <td>0</td>\n",
       "      <td>0</td>\n",
       "      <td>...</td>\n",
       "      <td>0.0</td>\n",
       "      <td>0</td>\n",
       "      <td>0</td>\n",
       "      <td>0</td>\n",
       "      <td>0</td>\n",
       "      <td>0</td>\n",
       "      <td>0</td>\n",
       "      <td>0</td>\n",
       "      <td>1.0</td>\n",
       "      <td>701</td>\n",
       "    </tr>\n",
       "    <tr>\n",
       "      <th>3</th>\n",
       "      <td>a338a4e71f</td>\n",
       "      <td>7</td>\n",
       "      <td>701</td>\n",
       "      <td>70103</td>\n",
       "      <td>Private</td>\n",
       "      <td>1.0</td>\n",
       "      <td>0.0</td>\n",
       "      <td>0</td>\n",
       "      <td>0</td>\n",
       "      <td>0</td>\n",
       "      <td>...</td>\n",
       "      <td>0.0</td>\n",
       "      <td>0</td>\n",
       "      <td>0</td>\n",
       "      <td>0</td>\n",
       "      <td>0</td>\n",
       "      <td>0</td>\n",
       "      <td>0</td>\n",
       "      <td>0</td>\n",
       "      <td>1.0</td>\n",
       "      <td>701</td>\n",
       "    </tr>\n",
       "    <tr>\n",
       "      <th>4</th>\n",
       "      <td>a339d612f3</td>\n",
       "      <td>7</td>\n",
       "      <td>701</td>\n",
       "      <td>70105</td>\n",
       "      <td>Private</td>\n",
       "      <td>1.0</td>\n",
       "      <td>0.0</td>\n",
       "      <td>0</td>\n",
       "      <td>0</td>\n",
       "      <td>0</td>\n",
       "      <td>...</td>\n",
       "      <td>0.0</td>\n",
       "      <td>0</td>\n",
       "      <td>0</td>\n",
       "      <td>0</td>\n",
       "      <td>0</td>\n",
       "      <td>0</td>\n",
       "      <td>0</td>\n",
       "      <td>0</td>\n",
       "      <td>1.0</td>\n",
       "      <td>701</td>\n",
       "    </tr>\n",
       "  </tbody>\n",
       "</table>\n",
       "<p>5 rows × 58 columns</p>\n",
       "</div>"
      ],
      "text/plain": [
       "  building_id  district_id_x  vdcmun_id_x  ward_id_x legal_ownership_status  \\\n",
       "0  a3380c4fd9              7          701      70102                Private   \n",
       "1  a3380c503e              7          701      70102                Private   \n",
       "2  a338a4e5f2              7          701      70103                Private   \n",
       "3  a338a4e71f              7          701      70103                Private   \n",
       "4  a339d612f3              7          701      70105                Private   \n",
       "\n",
       "   count_families  has_secondary_use  has_secondary_use_agriculture  \\\n",
       "0             1.0                0.0                              0   \n",
       "1             1.0                0.0                              0   \n",
       "2             1.0                0.0                              0   \n",
       "3             1.0                0.0                              0   \n",
       "4             1.0                0.0                              0   \n",
       "\n",
       "   has_secondary_use_hotel  has_secondary_use_rental    ...      \\\n",
       "0                        0                         0    ...       \n",
       "1                        0                         0    ...       \n",
       "2                        0                         0    ...       \n",
       "3                        0                         0    ...       \n",
       "4                        0                         0    ...       \n",
       "\n",
       "   has_geotechnical_risk  has_geotechnical_risk_fault_crack  \\\n",
       "0                    0.0                                  0   \n",
       "1                    0.0                                  0   \n",
       "2                    0.0                                  0   \n",
       "3                    0.0                                  0   \n",
       "4                    0.0                                  0   \n",
       "\n",
       "   has_geotechnical_risk_flood  has_geotechnical_risk_land_settlement  \\\n",
       "0                            0                                      0   \n",
       "1                            0                                      0   \n",
       "2                            0                                      0   \n",
       "3                            0                                      0   \n",
       "4                            0                                      0   \n",
       "\n",
       "   has_geotechnical_risk_landslide  has_geotechnical_risk_liquefaction  \\\n",
       "0                                0                                   0   \n",
       "1                                0                                   0   \n",
       "2                                0                                   0   \n",
       "3                                0                                   0   \n",
       "4                                0                                   0   \n",
       "\n",
       "   has_geotechnical_risk_other  has_geotechnical_risk_rock_fall  \\\n",
       "0                            0                                0   \n",
       "1                            0                                0   \n",
       "2                            0                                0   \n",
       "3                            0                                0   \n",
       "4                            0                                0   \n",
       "\n",
       "   has_repair_started  vdcmun_id  \n",
       "0                 1.0        701  \n",
       "1                 1.0        701  \n",
       "2                 1.0        701  \n",
       "3                 1.0        701  \n",
       "4                 1.0        701  \n",
       "\n",
       "[5 rows x 58 columns]"
      ]
     },
     "execution_count": 119,
     "metadata": {
      "tags": []
     },
     "output_type": "execute_result"
    }
   ],
   "source": [
    "res_train.head()"
   ]
  },
  {
   "cell_type": "code",
   "execution_count": 120,
   "metadata": {
    "_uuid": "2cd34115d0c57d622088c6cf83cd39af0f2ff107",
    "colab": {
     "base_uri": "https://localhost:8080/",
     "height": 333
    },
    "colab_type": "code",
    "id": "WoEpc-enfzF8",
    "outputId": "45474047-58a8-481f-82bc-39fd06b20cb5"
   },
   "outputs": [
    {
     "data": {
      "text/html": [
       "<div>\n",
       "<style scoped>\n",
       "    .dataframe tbody tr th:only-of-type {\n",
       "        vertical-align: middle;\n",
       "    }\n",
       "\n",
       "    .dataframe tbody tr th {\n",
       "        vertical-align: top;\n",
       "    }\n",
       "\n",
       "    .dataframe thead th {\n",
       "        text-align: right;\n",
       "    }\n",
       "</style>\n",
       "<table border=\"1\" class=\"dataframe\">\n",
       "  <thead>\n",
       "    <tr style=\"text-align: right;\">\n",
       "      <th></th>\n",
       "      <th>district_id_x</th>\n",
       "      <th>vdcmun_id_x</th>\n",
       "      <th>ward_id_x</th>\n",
       "      <th>count_families</th>\n",
       "      <th>has_secondary_use</th>\n",
       "      <th>has_secondary_use_agriculture</th>\n",
       "      <th>has_secondary_use_hotel</th>\n",
       "      <th>has_secondary_use_rental</th>\n",
       "      <th>has_secondary_use_institution</th>\n",
       "      <th>has_secondary_use_school</th>\n",
       "      <th>...</th>\n",
       "      <th>has_geotechnical_risk</th>\n",
       "      <th>has_geotechnical_risk_fault_crack</th>\n",
       "      <th>has_geotechnical_risk_flood</th>\n",
       "      <th>has_geotechnical_risk_land_settlement</th>\n",
       "      <th>has_geotechnical_risk_landslide</th>\n",
       "      <th>has_geotechnical_risk_liquefaction</th>\n",
       "      <th>has_geotechnical_risk_other</th>\n",
       "      <th>has_geotechnical_risk_rock_fall</th>\n",
       "      <th>has_repair_started</th>\n",
       "      <th>vdcmun_id</th>\n",
       "    </tr>\n",
       "  </thead>\n",
       "  <tbody>\n",
       "    <tr>\n",
       "      <th>count</th>\n",
       "      <td>631761.000000</td>\n",
       "      <td>631761.000000</td>\n",
       "      <td>631761.000000</td>\n",
       "      <td>631760.000000</td>\n",
       "      <td>631761.000000</td>\n",
       "      <td>631761.000000</td>\n",
       "      <td>631761.000000</td>\n",
       "      <td>631761.000000</td>\n",
       "      <td>631761.000000</td>\n",
       "      <td>631761.000000</td>\n",
       "      <td>...</td>\n",
       "      <td>631761.000000</td>\n",
       "      <td>631761.000000</td>\n",
       "      <td>631761.000000</td>\n",
       "      <td>631761.000000</td>\n",
       "      <td>631761.000000</td>\n",
       "      <td>631761.000000</td>\n",
       "      <td>631761.000000</td>\n",
       "      <td>631761.000000</td>\n",
       "      <td>598344.000000</td>\n",
       "      <td>631761.000000</td>\n",
       "    </tr>\n",
       "    <tr>\n",
       "      <th>mean</th>\n",
       "      <td>26.831720</td>\n",
       "      <td>2712.186552</td>\n",
       "      <td>271224.334601</td>\n",
       "      <td>0.984075</td>\n",
       "      <td>0.112334</td>\n",
       "      <td>0.063974</td>\n",
       "      <td>0.034182</td>\n",
       "      <td>0.008391</td>\n",
       "      <td>0.000972</td>\n",
       "      <td>0.000397</td>\n",
       "      <td>...</td>\n",
       "      <td>0.123920</td>\n",
       "      <td>0.042708</td>\n",
       "      <td>0.009263</td>\n",
       "      <td>0.034602</td>\n",
       "      <td>0.069629</td>\n",
       "      <td>0.002319</td>\n",
       "      <td>0.001061</td>\n",
       "      <td>0.034853</td>\n",
       "      <td>0.316076</td>\n",
       "      <td>2712.186552</td>\n",
       "    </tr>\n",
       "    <tr>\n",
       "      <th>std</th>\n",
       "      <td>7.771394</td>\n",
       "      <td>777.505768</td>\n",
       "      <td>77750.671303</td>\n",
       "      <td>0.419209</td>\n",
       "      <td>0.315777</td>\n",
       "      <td>0.244706</td>\n",
       "      <td>0.181697</td>\n",
       "      <td>0.091216</td>\n",
       "      <td>0.031160</td>\n",
       "      <td>0.019928</td>\n",
       "      <td>...</td>\n",
       "      <td>0.329491</td>\n",
       "      <td>0.202197</td>\n",
       "      <td>0.095798</td>\n",
       "      <td>0.182769</td>\n",
       "      <td>0.254521</td>\n",
       "      <td>0.048099</td>\n",
       "      <td>0.032548</td>\n",
       "      <td>0.183408</td>\n",
       "      <td>0.464943</td>\n",
       "      <td>777.505768</td>\n",
       "    </tr>\n",
       "    <tr>\n",
       "      <th>min</th>\n",
       "      <td>7.000000</td>\n",
       "      <td>701.000000</td>\n",
       "      <td>70102.000000</td>\n",
       "      <td>0.000000</td>\n",
       "      <td>0.000000</td>\n",
       "      <td>0.000000</td>\n",
       "      <td>0.000000</td>\n",
       "      <td>0.000000</td>\n",
       "      <td>0.000000</td>\n",
       "      <td>0.000000</td>\n",
       "      <td>...</td>\n",
       "      <td>0.000000</td>\n",
       "      <td>0.000000</td>\n",
       "      <td>0.000000</td>\n",
       "      <td>0.000000</td>\n",
       "      <td>0.000000</td>\n",
       "      <td>0.000000</td>\n",
       "      <td>0.000000</td>\n",
       "      <td>0.000000</td>\n",
       "      <td>0.000000</td>\n",
       "      <td>701.000000</td>\n",
       "    </tr>\n",
       "    <tr>\n",
       "      <th>25%</th>\n",
       "      <td>22.000000</td>\n",
       "      <td>2242.000000</td>\n",
       "      <td>224201.000000</td>\n",
       "      <td>1.000000</td>\n",
       "      <td>0.000000</td>\n",
       "      <td>0.000000</td>\n",
       "      <td>0.000000</td>\n",
       "      <td>0.000000</td>\n",
       "      <td>0.000000</td>\n",
       "      <td>0.000000</td>\n",
       "      <td>...</td>\n",
       "      <td>0.000000</td>\n",
       "      <td>0.000000</td>\n",
       "      <td>0.000000</td>\n",
       "      <td>0.000000</td>\n",
       "      <td>0.000000</td>\n",
       "      <td>0.000000</td>\n",
       "      <td>0.000000</td>\n",
       "      <td>0.000000</td>\n",
       "      <td>0.000000</td>\n",
       "      <td>2242.000000</td>\n",
       "    </tr>\n",
       "    <tr>\n",
       "      <th>50%</th>\n",
       "      <td>27.000000</td>\n",
       "      <td>2703.000000</td>\n",
       "      <td>270301.000000</td>\n",
       "      <td>1.000000</td>\n",
       "      <td>0.000000</td>\n",
       "      <td>0.000000</td>\n",
       "      <td>0.000000</td>\n",
       "      <td>0.000000</td>\n",
       "      <td>0.000000</td>\n",
       "      <td>0.000000</td>\n",
       "      <td>...</td>\n",
       "      <td>0.000000</td>\n",
       "      <td>0.000000</td>\n",
       "      <td>0.000000</td>\n",
       "      <td>0.000000</td>\n",
       "      <td>0.000000</td>\n",
       "      <td>0.000000</td>\n",
       "      <td>0.000000</td>\n",
       "      <td>0.000000</td>\n",
       "      <td>0.000000</td>\n",
       "      <td>2703.000000</td>\n",
       "    </tr>\n",
       "    <tr>\n",
       "      <th>75%</th>\n",
       "      <td>31.000000</td>\n",
       "      <td>3119.000000</td>\n",
       "      <td>311901.000000</td>\n",
       "      <td>1.000000</td>\n",
       "      <td>0.000000</td>\n",
       "      <td>0.000000</td>\n",
       "      <td>0.000000</td>\n",
       "      <td>0.000000</td>\n",
       "      <td>0.000000</td>\n",
       "      <td>0.000000</td>\n",
       "      <td>...</td>\n",
       "      <td>0.000000</td>\n",
       "      <td>0.000000</td>\n",
       "      <td>0.000000</td>\n",
       "      <td>0.000000</td>\n",
       "      <td>0.000000</td>\n",
       "      <td>0.000000</td>\n",
       "      <td>0.000000</td>\n",
       "      <td>0.000000</td>\n",
       "      <td>1.000000</td>\n",
       "      <td>3119.000000</td>\n",
       "    </tr>\n",
       "    <tr>\n",
       "      <th>max</th>\n",
       "      <td>51.000000</td>\n",
       "      <td>5142.000000</td>\n",
       "      <td>514209.000000</td>\n",
       "      <td>11.000000</td>\n",
       "      <td>1.000000</td>\n",
       "      <td>1.000000</td>\n",
       "      <td>1.000000</td>\n",
       "      <td>1.000000</td>\n",
       "      <td>1.000000</td>\n",
       "      <td>1.000000</td>\n",
       "      <td>...</td>\n",
       "      <td>1.000000</td>\n",
       "      <td>1.000000</td>\n",
       "      <td>1.000000</td>\n",
       "      <td>1.000000</td>\n",
       "      <td>1.000000</td>\n",
       "      <td>1.000000</td>\n",
       "      <td>1.000000</td>\n",
       "      <td>1.000000</td>\n",
       "      <td>1.000000</td>\n",
       "      <td>5142.000000</td>\n",
       "    </tr>\n",
       "  </tbody>\n",
       "</table>\n",
       "<p>8 rows × 46 columns</p>\n",
       "</div>"
      ],
      "text/plain": [
       "       district_id_x    vdcmun_id_x      ward_id_x  count_families  \\\n",
       "count  631761.000000  631761.000000  631761.000000   631760.000000   \n",
       "mean       26.831720    2712.186552  271224.334601        0.984075   \n",
       "std         7.771394     777.505768   77750.671303        0.419209   \n",
       "min         7.000000     701.000000   70102.000000        0.000000   \n",
       "25%        22.000000    2242.000000  224201.000000        1.000000   \n",
       "50%        27.000000    2703.000000  270301.000000        1.000000   \n",
       "75%        31.000000    3119.000000  311901.000000        1.000000   \n",
       "max        51.000000    5142.000000  514209.000000       11.000000   \n",
       "\n",
       "       has_secondary_use  has_secondary_use_agriculture  \\\n",
       "count      631761.000000                  631761.000000   \n",
       "mean            0.112334                       0.063974   \n",
       "std             0.315777                       0.244706   \n",
       "min             0.000000                       0.000000   \n",
       "25%             0.000000                       0.000000   \n",
       "50%             0.000000                       0.000000   \n",
       "75%             0.000000                       0.000000   \n",
       "max             1.000000                       1.000000   \n",
       "\n",
       "       has_secondary_use_hotel  has_secondary_use_rental  \\\n",
       "count            631761.000000             631761.000000   \n",
       "mean                  0.034182                  0.008391   \n",
       "std                   0.181697                  0.091216   \n",
       "min                   0.000000                  0.000000   \n",
       "25%                   0.000000                  0.000000   \n",
       "50%                   0.000000                  0.000000   \n",
       "75%                   0.000000                  0.000000   \n",
       "max                   1.000000                  1.000000   \n",
       "\n",
       "       has_secondary_use_institution  has_secondary_use_school      ...        \\\n",
       "count                  631761.000000             631761.000000      ...         \n",
       "mean                        0.000972                  0.000397      ...         \n",
       "std                         0.031160                  0.019928      ...         \n",
       "min                         0.000000                  0.000000      ...         \n",
       "25%                         0.000000                  0.000000      ...         \n",
       "50%                         0.000000                  0.000000      ...         \n",
       "75%                         0.000000                  0.000000      ...         \n",
       "max                         1.000000                  1.000000      ...         \n",
       "\n",
       "       has_geotechnical_risk  has_geotechnical_risk_fault_crack  \\\n",
       "count          631761.000000                      631761.000000   \n",
       "mean                0.123920                           0.042708   \n",
       "std                 0.329491                           0.202197   \n",
       "min                 0.000000                           0.000000   \n",
       "25%                 0.000000                           0.000000   \n",
       "50%                 0.000000                           0.000000   \n",
       "75%                 0.000000                           0.000000   \n",
       "max                 1.000000                           1.000000   \n",
       "\n",
       "       has_geotechnical_risk_flood  has_geotechnical_risk_land_settlement  \\\n",
       "count                631761.000000                          631761.000000   \n",
       "mean                      0.009263                               0.034602   \n",
       "std                       0.095798                               0.182769   \n",
       "min                       0.000000                               0.000000   \n",
       "25%                       0.000000                               0.000000   \n",
       "50%                       0.000000                               0.000000   \n",
       "75%                       0.000000                               0.000000   \n",
       "max                       1.000000                               1.000000   \n",
       "\n",
       "       has_geotechnical_risk_landslide  has_geotechnical_risk_liquefaction  \\\n",
       "count                    631761.000000                       631761.000000   \n",
       "mean                          0.069629                            0.002319   \n",
       "std                           0.254521                            0.048099   \n",
       "min                           0.000000                            0.000000   \n",
       "25%                           0.000000                            0.000000   \n",
       "50%                           0.000000                            0.000000   \n",
       "75%                           0.000000                            0.000000   \n",
       "max                           1.000000                            1.000000   \n",
       "\n",
       "       has_geotechnical_risk_other  has_geotechnical_risk_rock_fall  \\\n",
       "count                631761.000000                    631761.000000   \n",
       "mean                      0.001061                         0.034853   \n",
       "std                       0.032548                         0.183408   \n",
       "min                       0.000000                         0.000000   \n",
       "25%                       0.000000                         0.000000   \n",
       "50%                       0.000000                         0.000000   \n",
       "75%                       0.000000                         0.000000   \n",
       "max                       1.000000                         1.000000   \n",
       "\n",
       "       has_repair_started      vdcmun_id  \n",
       "count       598344.000000  631761.000000  \n",
       "mean             0.316076    2712.186552  \n",
       "std              0.464943     777.505768  \n",
       "min              0.000000     701.000000  \n",
       "25%              0.000000    2242.000000  \n",
       "50%              0.000000    2703.000000  \n",
       "75%              1.000000    3119.000000  \n",
       "max              1.000000    5142.000000  \n",
       "\n",
       "[8 rows x 46 columns]"
      ]
     },
     "execution_count": 120,
     "metadata": {
      "tags": []
     },
     "output_type": "execute_result"
    }
   ],
   "source": [
    "res_train.describe()"
   ]
  },
  {
   "cell_type": "code",
   "execution_count": 0,
   "metadata": {
    "_uuid": "585d912144ccd086f329a83e2f04e2130e001ab0",
    "colab": {},
    "colab_type": "code",
    "id": "watzru0RfzGB"
   },
   "outputs": [],
   "source": []
  },
  {
   "cell_type": "code",
   "execution_count": 0,
   "metadata": {
    "_uuid": "579ec8d715883634f69733570e6c3afc194df866",
    "colab": {},
    "colab_type": "code",
    "id": "yeXl1XmCfzGE"
   },
   "outputs": [],
   "source": []
  },
  {
   "cell_type": "code",
   "execution_count": 0,
   "metadata": {
    "_uuid": "04d83071e61e30194e3a4179fd7052ad53cf2dbd",
    "colab": {},
    "colab_type": "code",
    "id": "9jAbSfi5fzGI"
   },
   "outputs": [],
   "source": []
  },
  {
   "cell_type": "code",
   "execution_count": 0,
   "metadata": {
    "_uuid": "8100762f123d758020dc0611ac5edc5a7f19a8e2",
    "colab": {},
    "colab_type": "code",
    "id": "94QV_93EfzGM"
   },
   "outputs": [],
   "source": [
    "res_train = res_train.drop((['vdcmun_id_y','district_id_y','ward_id_y','vdcmun_id','district_id']) , axis = 1)\n"
   ]
  },
  {
   "cell_type": "code",
   "execution_count": 0,
   "metadata": {
    "_uuid": "b9b4a7fd6abac51c726fb580a5dc2df08ac34165",
    "colab": {},
    "colab_type": "code",
    "id": "N-kDJALzfzGP"
   },
   "outputs": [],
   "source": [
    "res_test = res_test.drop((['vdcmun_id_y','district_id_y','ward_id_y','vdcmun_id','district_id']) , axis = 1)"
   ]
  },
  {
   "cell_type": "code",
   "execution_count": 123,
   "metadata": {
    "_uuid": "881c8e4b15fee5932d5afbbfa0bf801657b91c78",
    "colab": {
     "base_uri": "https://localhost:8080/",
     "height": 34
    },
    "colab_type": "code",
    "id": "mUCIn7PsfzGV",
    "outputId": "a34647f0-2a86-4bc9-9a01-de5167510986"
   },
   "outputs": [
    {
     "data": {
      "text/plain": [
       "631761"
      ]
     },
     "execution_count": 123,
     "metadata": {
      "tags": []
     },
     "output_type": "execute_result"
    }
   ],
   "source": [
    "len(res_train)"
   ]
  },
  {
   "cell_type": "code",
   "execution_count": 0,
   "metadata": {
    "_uuid": "33ebbaa581a63e7ccaf944b78e4d026c492eecb6",
    "colab": {},
    "colab_type": "code",
    "id": "qPcARz3afzGa"
   },
   "outputs": [],
   "source": [
    "columns = list(res_train.columns.values)\n",
    "#columns"
   ]
  },
  {
   "cell_type": "code",
   "execution_count": 125,
   "metadata": {
    "colab": {
     "base_uri": "https://localhost:8080/",
     "height": 34
    },
    "colab_type": "code",
    "id": "awR6gZPngfPL",
    "outputId": "067e3570-abf0-43de-8867-dc802ae3981a"
   },
   "outputs": [
    {
     "data": {
      "text/plain": [
       "(421175, 52)"
      ]
     },
     "execution_count": 125,
     "metadata": {
      "tags": []
     },
     "output_type": "execute_result"
    }
   ],
   "source": [
    "res_test.shape"
   ]
  },
  {
   "cell_type": "code",
   "execution_count": 126,
   "metadata": {
    "colab": {
     "base_uri": "https://localhost:8080/",
     "height": 34
    },
    "colab_type": "code",
    "id": "VNUtHr2Tgi5K",
    "outputId": "f8142dcc-6bad-4087-f116-4eb3d8fc6951"
   },
   "outputs": [
    {
     "data": {
      "text/plain": [
       "(631761, 53)"
      ]
     },
     "execution_count": 126,
     "metadata": {
      "tags": []
     },
     "output_type": "execute_result"
    }
   ],
   "source": [
    "res_train.shape"
   ]
  },
  {
   "cell_type": "code",
   "execution_count": 0,
   "metadata": {
    "_uuid": "fe7857d788b0073741fa07a51053c014e04030d9",
    "colab": {},
    "colab_type": "code",
    "id": "b-KnOtMKfzGm"
   },
   "outputs": [],
   "source": [
    "#res_train.dtypes"
   ]
  },
  {
   "cell_type": "markdown",
   "metadata": {
    "_uuid": "6e2ecee398fabae23fcba23e25bad04cfcfd156f",
    "colab_type": "text",
    "id": "SUiVbP36fzGt"
   },
   "source": [
    "**Missing Values**"
   ]
  },
  {
   "cell_type": "code",
   "execution_count": 128,
   "metadata": {
    "_uuid": "8281a794d9fb00b66c8818321b53acf7a522188d",
    "colab": {
     "base_uri": "https://localhost:8080/",
     "height": 34
    },
    "colab_type": "code",
    "id": "MS-lPak6fzGu",
    "outputId": "1cb8d85d-81c4-42dd-f273-d86735c89117"
   },
   "outputs": [
    {
     "data": {
      "text/plain": [
       "Index(['count_families', 'has_repair_started'], dtype='object')"
      ]
     },
     "execution_count": 128,
     "metadata": {
      "tags": []
     },
     "output_type": "execute_result"
    }
   ],
   "source": [
    "res_train.columns[res_train.isnull().any()]"
   ]
  },
  {
   "cell_type": "code",
   "execution_count": 129,
   "metadata": {
    "_uuid": "f6d176b48fc2392a48f1ac1f5bf4970d843b8f1a",
    "colab": {
     "base_uri": "https://localhost:8080/",
     "height": 70
    },
    "colab_type": "code",
    "id": "3uVDFO6ZfzGz",
    "outputId": "5b0a4998-4b21-473e-9b15-66cbe2831c14"
   },
   "outputs": [
    {
     "data": {
      "text/plain": [
       "count_families        0.000002\n",
       "has_repair_started    0.052895\n",
       "dtype: float64"
      ]
     },
     "execution_count": 129,
     "metadata": {
      "tags": []
     },
     "output_type": "execute_result"
    }
   ],
   "source": [
    "miss = res_train.isnull().sum() / len(res_train)\n",
    "miss = miss[miss > 0]\n",
    "miss"
   ]
  },
  {
   "cell_type": "markdown",
   "metadata": {
    "_uuid": "41571f9587709198f67d2d431bfe95c534872571",
    "colab_type": "text",
    "id": "lpCBu-9SfzG3"
   },
   "source": [
    "### Visualizing Missing values"
   ]
  },
  {
   "cell_type": "code",
   "execution_count": 130,
   "metadata": {
    "_uuid": "44ae808a4f9c171f39a8a7761065fa4a60789b42",
    "colab": {
     "base_uri": "https://localhost:8080/",
     "height": 506
    },
    "colab_type": "code",
    "id": "ItNYIkYEfzG4",
    "outputId": "82796b10-d7c3-4f77-9d6b-7ea45ffb35fc"
   },
   "outputs": [
    {
     "name": "stderr",
     "output_type": "stream",
     "text": [
      "/usr/local/lib/python3.6/dist-packages/seaborn/categorical.py:1428: FutureWarning: remove_na is deprecated and is a private function. Do not use.\n",
      "  stat_data = remove_na(group_data)\n"
     ]
    },
    {
     "data": {
      "text/plain": [
       "(array([0, 1]), <a list of 2 Text xticklabel objects>)"
      ]
     },
     "execution_count": 130,
     "metadata": {
      "tags": []
     },
     "output_type": "execute_result"
    },
    {
     "data": {
      "image/png": "[encoded data removed]",
      "text/plain": [
       "<Figure size 576x396 with 1 Axes>"
      ]
     },
     "metadata": {
      "tags": []
     },
     "output_type": "display_data"
    }
   ],
   "source": [
    "miss = miss.to_frame()\n",
    "miss.columns = ['count']\n",
    "miss.index.names = ['Name']\n",
    "miss['Name'] = miss.index\n",
    "\n",
    "#Plotting the values\n",
    "\n",
    "sns.set(style = \"whitegrid\", color_codes = True)\n",
    "sns.barplot(x = 'Name', y = 'count',data = miss )\n",
    "plt.xticks(rotation = 90)"
   ]
  },
  {
   "cell_type": "markdown",
   "metadata": {
    "_uuid": "b21368bb585e228212d4bd6a58e1542ad7c25add",
    "colab_type": "text",
    "id": "_hMbvQsZfzG9"
   },
   "source": [
    "### Visualizing the Target Variable"
   ]
  },
  {
   "cell_type": "code",
   "execution_count": 131,
   "metadata": {
    "_uuid": "54178709658c36c7f192e9c4389d7b17a6af6bc0",
    "colab": {
     "base_uri": "https://localhost:8080/",
     "height": 566
    },
    "colab_type": "code",
    "id": "INFEYd7nfzG-",
    "outputId": "e399dc11-92cf-4718-ffca-1053fcf15526"
   },
   "outputs": [
    {
     "name": "stdout",
     "output_type": "stream",
     "text": [
      "Grade 5    210825\n",
      "Grade 4    152244\n",
      "Grade 3    122288\n",
      "Grade 2     85084\n",
      "Grade 1     61320\n",
      "Name: damage_grade, dtype: int64\n"
     ]
    },
    {
     "name": "stderr",
     "output_type": "stream",
     "text": [
      "/usr/local/lib/python3.6/dist-packages/seaborn/categorical.py:1428: FutureWarning: remove_na is deprecated and is a private function. Do not use.\n",
      "  stat_data = remove_na(group_data)\n"
     ]
    },
    {
     "data": {
      "text/plain": [
       "(array([0, 1, 2, 3, 4]), <a list of 5 Text xticklabel objects>)"
      ]
     },
     "execution_count": 131,
     "metadata": {
      "tags": []
     },
     "output_type": "execute_result"
    },
    {
     "data": {
      "image/png": "[encoded data removed]",
      "text/plain": [
       "<Figure size 576x396 with 1 Axes>"
      ]
     },
     "metadata": {
      "tags": []
     },
     "output_type": "display_data"
    }
   ],
   "source": [
    "target = res_train['damage_grade'].value_counts()\n",
    "print(target)\n",
    "target = target.to_frame()\n",
    "target.columns = ['Count']\n",
    "target.index.names = ['Damage_Grade']\n",
    "target['Damage_Grade'] = target.index \n",
    "\n",
    "#Plotting the Target variable\n",
    "sns.set(style = 'whitegrid', color_codes = True)\n",
    "sns.barplot(x = 'Damage_Grade', y = 'Count', data = target)\n",
    "plt.xticks(rotation = 90)"
   ]
  },
  {
   "cell_type": "markdown",
   "metadata": {
    "_uuid": "607761a30106c7cb1634ae9b63fdf50f56e2c7c9",
    "colab_type": "text",
    "collapsed": true,
    "id": "_TbeagHsfzHC"
   },
   "source": [
    "### Univariate Analysis"
   ]
  },
  {
   "cell_type": "code",
   "execution_count": 132,
   "metadata": {
    "_uuid": "a79bfd6a684149aff7252188b725e0b58a399b08",
    "colab": {
     "base_uri": "https://localhost:8080/",
     "height": 426
    },
    "colab_type": "code",
    "id": "Z7BWS9nTfzHD",
    "outputId": "3deec053-02aa-400e-8cc6-d3ce5655c9e3"
   },
   "outputs": [
    {
     "data": {
      "text/plain": [
       "<matplotlib.axes._subplots.AxesSubplot at 0x7f98b8b318d0>"
      ]
     },
     "execution_count": 132,
     "metadata": {
      "tags": []
     },
     "output_type": "execute_result"
    },
    {
     "data": {
      "image/png": "[encoded data removed]",
      "text/plain": [
       "<Figure size 576x396 with 1 Axes>"
      ]
     },
     "metadata": {
      "tags": []
     },
     "output_type": "display_data"
    }
   ],
   "source": [
    "res_train['legal_ownership_status'].value_counts().plot.bar()"
   ]
  },
  {
   "cell_type": "code",
   "execution_count": 133,
   "metadata": {
    "_uuid": "6062905b75458b2e630068527846a0ae51c3bba8",
    "colab": {
     "base_uri": "https://localhost:8080/",
     "height": 455
    },
    "colab_type": "code",
    "id": "YymDDUT_fzHI",
    "outputId": "5131f804-a0bb-4dfb-9369-b44900308d9b"
   },
   "outputs": [
    {
     "name": "stderr",
     "output_type": "stream",
     "text": [
      "/usr/local/lib/python3.6/dist-packages/matplotlib/axes/_axes.py:6521: MatplotlibDeprecationWarning: \n",
      "The 'normed' kwarg was deprecated in Matplotlib 2.1 and will be removed in 3.1. Use 'density' instead.\n",
      "  alternative=\"'density'\", removal=\"3.1\")\n"
     ]
    },
    {
     "data": {
      "text/plain": [
       "<matplotlib.axes._subplots.AxesSubplot at 0x7f98cc41ef60>"
      ]
     },
     "execution_count": 133,
     "metadata": {
      "tags": []
     },
     "output_type": "execute_result"
    },
    {
     "data": {
      "image/png": "[encoded data removed]",
      "text/plain": [
       "<Figure size 576x396 with 1 Axes>"
      ]
     },
     "metadata": {
      "tags": []
     },
     "output_type": "display_data"
    }
   ],
   "source": [
    "#Age of Building\n",
    "sns.distplot(res_train['age_building'])\n"
   ]
  },
  {
   "cell_type": "code",
   "execution_count": 134,
   "metadata": {
    "_uuid": "99252efe774ba6c55229f6e09f8c18a89ec07811",
    "colab": {
     "base_uri": "https://localhost:8080/",
     "height": 54
    },
    "colab_type": "code",
    "id": "bKe4zpV5fzHM",
    "outputId": "ab24cd8a-182d-48b7-f252-3f885bc39093"
   },
   "outputs": [
    {
     "name": "stdout",
     "output_type": "stream",
     "text": [
      "The skewness of Age of building is 12.356283383410254\n"
     ]
    }
   ],
   "source": [
    "#Skewness\n",
    "print(\"The skewness of Age of building is {}\".format(res_train['age_building'].skew()))"
   ]
  },
  {
   "cell_type": "code",
   "execution_count": 135,
   "metadata": {
    "_uuid": "41eabd0eac8ebc02654b5ee1ee64d7e49c7a384f",
    "colab": {
     "base_uri": "https://localhost:8080/",
     "height": 596
    },
    "colab_type": "code",
    "id": "OzS_2FmpfzHQ",
    "outputId": "5b00aa30-f649-4fc8-89ab-ddada48d87dd"
   },
   "outputs": [
    {
     "name": "stdout",
     "output_type": "stream",
     "text": [
      "1.0     547837\n",
      "0.0      50659\n",
      "2.0      27771\n",
      "3.0       4185\n",
      "4.0        939\n",
      "5.0        262\n",
      "6.0         73\n",
      "7.0         19\n",
      "8.0          9\n",
      "9.0          5\n",
      "11.0         1\n",
      "Name: count_families, dtype: int64\n"
     ]
    },
    {
     "data": {
      "text/plain": [
       "<matplotlib.axes._subplots.AxesSubplot at 0x7f98ca52a278>"
      ]
     },
     "execution_count": 135,
     "metadata": {
      "tags": []
     },
     "output_type": "execute_result"
    },
    {
     "data": {
      "image/png": "[encoded data removed]",
      "text/plain": [
       "<Figure size 576x396 with 1 Axes>"
      ]
     },
     "metadata": {
      "tags": []
     },
     "output_type": "display_data"
    }
   ],
   "source": [
    "print(res_train['count_families'].value_counts())\n",
    "res_train['count_families'].value_counts().sort_index().plot.line()"
   ]
  },
  {
   "cell_type": "code",
   "execution_count": 136,
   "metadata": {
    "_uuid": "45046f8a861ac157d29120fe13d808caaac575a1",
    "colab": {
     "base_uri": "https://localhost:8080/",
     "height": 54
    },
    "colab_type": "code",
    "id": "fKDtWvLOfzHU",
    "outputId": "f61b2b96-1243-4fd8-8dee-8d8345b33072"
   },
   "outputs": [
    {
     "name": "stdout",
     "output_type": "stream",
     "text": [
      "The skewness of Count of families is 1.673681887513851\n"
     ]
    }
   ],
   "source": [
    "print(\"The skewness of Count of families is {}\".format(res_train['count_families'].skew()))"
   ]
  },
  {
   "cell_type": "code",
   "execution_count": 137,
   "metadata": {
    "_uuid": "7ecdb59beea7c869b1849d6e4537197311bbfd1f",
    "colab": {
     "base_uri": "https://localhost:8080/",
     "height": 614
    },
    "colab_type": "code",
    "id": "bCPWQ9SAfzHa",
    "outputId": "735dc1a0-7241-4dc8-92d7-c46d37ff94c8"
   },
   "outputs": [
    {
     "name": "stdout",
     "output_type": "stream",
     "text": [
      "['Damaged-Repaired and used' 'Damaged-Not used' 'Damaged-Rubble clear'\n",
      " 'Damaged-Rubble Clear-New building built' 'Damaged-Used in risk'\n",
      " 'Damaged-Rubble unclear' 'Not damaged' 'Covered by landslide']\n"
     ]
    },
    {
     "data": {
      "text/plain": [
       "<matplotlib.axes._subplots.AxesSubplot at 0x7f98c8ad0ac8>"
      ]
     },
     "execution_count": 137,
     "metadata": {
      "tags": []
     },
     "output_type": "execute_result"
    },
    {
     "data": {
      "image/png": "[encoded data removed]",
      "text/plain": [
       "<Figure size 576x396 with 1 Axes>"
      ]
     },
     "metadata": {
      "tags": []
     },
     "output_type": "display_data"
    }
   ],
   "source": [
    "print(res_train['condition_post_eq'].unique())\n",
    "res_train['condition_post_eq'].value_counts().plot.bar()"
   ]
  },
  {
   "cell_type": "code",
   "execution_count": 138,
   "metadata": {
    "_uuid": "ddee9bd02ecf2159ab37251481b64657d1a95ff3",
    "colab": {
     "base_uri": "https://localhost:8080/",
     "height": 451
    },
    "colab_type": "code",
    "id": "armdlgyTfzHd",
    "outputId": "e0fc92b5-57f6-405e-c6a5-a76c8f0349cb",
    "scrolled": true
   },
   "outputs": [
    {
     "name": "stderr",
     "output_type": "stream",
     "text": [
      "/usr/local/lib/python3.6/dist-packages/matplotlib/axes/_axes.py:6521: MatplotlibDeprecationWarning: \n",
      "The 'normed' kwarg was deprecated in Matplotlib 2.1 and will be removed in 3.1. Use 'density' instead.\n",
      "  alternative=\"'density'\", removal=\"3.1\")\n"
     ]
    },
    {
     "data": {
      "text/plain": [
       "<matplotlib.axes._subplots.AxesSubplot at 0x7f98cad6feb8>"
      ]
     },
     "execution_count": 138,
     "metadata": {
      "tags": []
     },
     "output_type": "execute_result"
    },
    {
     "data": {
      "image/png": "[encoded data removed]",
      "text/plain": [
       "<Figure size 576x396 with 1 Axes>"
      ]
     },
     "metadata": {
      "tags": []
     },
     "output_type": "display_data"
    }
   ],
   "source": [
    "# fig=plt.figure()\n",
    "# ax = fig.add_subplot(1,1,1)\n",
    "# ax.hist(res_train['plinth_area_sq_ft'], bins = 100)\n",
    "# plt.title('Plint Area Distribution')\n",
    "# plt.xlabel('Plint Area in Square feet')\n",
    "# plt.ylabel('Frequency')\n",
    "# plt.show()\n",
    "\n",
    "sns.distplot(res_train['plinth_area_sq_ft'],hist = True, color = 'darkgreen', bins = 100, hist_kws={'edgecolor':'black'})"
   ]
  },
  {
   "cell_type": "code",
   "execution_count": 139,
   "metadata": {
    "_uuid": "9dd8ab3fc9d0644dca7545390de8f3f648c3d04e",
    "colab": {
     "base_uri": "https://localhost:8080/",
     "height": 385
    },
    "colab_type": "code",
    "id": "oZhFm45MfzHh",
    "outputId": "5333f470-4789-460b-cd25-14e01d139ea4"
   },
   "outputs": [
    {
     "data": {
      "text/plain": [
       "<matplotlib.axes._subplots.AxesSubplot at 0x7f98c910d160>"
      ]
     },
     "execution_count": 139,
     "metadata": {
      "tags": []
     },
     "output_type": "execute_result"
    },
    {
     "data": {
      "image/png": "[encoded data removed]",
      "text/plain": [
       "<Figure size 576x396 with 1 Axes>"
      ]
     },
     "metadata": {
      "tags": []
     },
     "output_type": "display_data"
    }
   ],
   "source": [
    "#len(res_train['height_ft_post_eq'].unique())\n",
    "#sns.distplot(res_train['height_ft_pre_eq'].value_counts(), hist = True, color = 'darkblue', bins = 79)\n",
    "res_train['height_ft_pre_eq'].value_counts().plot.hist()"
   ]
  },
  {
   "cell_type": "code",
   "execution_count": 140,
   "metadata": {
    "_uuid": "5e6d9fb82240dc60a2a368ef086b18ec17266366",
    "colab": {
     "base_uri": "https://localhost:8080/",
     "height": 385
    },
    "colab_type": "code",
    "id": "dIGpg1vyfzHl",
    "outputId": "25a78832-bc15-4300-d5c3-9f52461e9345"
   },
   "outputs": [
    {
     "data": {
      "text/plain": [
       "<matplotlib.axes._subplots.AxesSubplot at 0x7f98c88dab70>"
      ]
     },
     "execution_count": 140,
     "metadata": {
      "tags": []
     },
     "output_type": "execute_result"
    },
    {
     "data": {
      "image/png": "[encoded data removed]",
      "text/plain": [
       "<Figure size 576x396 with 1 Axes>"
      ]
     },
     "metadata": {
      "tags": []
     },
     "output_type": "display_data"
    }
   ],
   "source": [
    "res_train['height_ft_post_eq'].value_counts().plot.hist()"
   ]
  },
  {
   "cell_type": "code",
   "execution_count": 141,
   "metadata": {
    "_uuid": "5634fe2f6671cda69495447d929113648b84966b",
    "colab": {
     "base_uri": "https://localhost:8080/",
     "height": 387
    },
    "colab_type": "code",
    "id": "fipBtzrDfzHo",
    "outputId": "8aeb612f-099b-41e3-9875-1e6a4cd215ac"
   },
   "outputs": [
    {
     "data": {
      "text/plain": [
       "<matplotlib.legend.Legend at 0x7f98cc21ac18>"
      ]
     },
     "execution_count": 141,
     "metadata": {
      "tags": []
     },
     "output_type": "execute_result"
    },
    {
     "data": {
      "image/png": "[encoded data removed]",
      "text/plain": [
       "<Figure size 576x396 with 1 Axes>"
      ]
     },
     "metadata": {
      "tags": []
     },
     "output_type": "display_data"
    }
   ],
   "source": [
    "x1 = list(res_train['height_ft_pre_eq'])\n",
    "x2 = list(res_train['height_ft_post_eq'])\n",
    "\n",
    "csaravanan.2016@vitstudent.ac.inolors = ['#E69F00', '#56B4E9']\n",
    "names = ['Height Before Earthquake', 'Height After Earthquake']\n",
    "\n",
    "\n",
    "\n",
    "plt.hist(x1, alpha = 0.5, label = names[0])\n",
    "plt.hist(x2, alpha = 0.5, label = names[1])\n",
    "\n",
    "plt.legend()"
   ]
  },
  {
   "cell_type": "code",
   "execution_count": 142,
   "metadata": {
    "_uuid": "69735ae7e827cbf0efbfc78cd02a09939597d9fe",
    "colab": {
     "base_uri": "https://localhost:8080/",
     "height": 72
    },
    "colab_type": "code",
    "id": "scqM08g5fzHt",
    "outputId": "c6bce64b-e253-4c8e-aec3-47be4ae5e4af"
   },
   "outputs": [
    {
     "data": {
      "text/plain": [
       "array(['Both', 'Building removed', 'Not able to inspect', 'Exterior',\n",
       "       'Interior'], dtype=object)"
      ]
     },
     "execution_count": 142,
     "metadata": {
      "tags": []
     },
     "output_type": "execute_result"
    }
   ],
   "source": [
    "res_train['area_assesed'].unique()"
   ]
  },
  {
   "cell_type": "code",
   "execution_count": 143,
   "metadata": {
    "_uuid": "a141d3405f2e85ae56fcb3340213b7d3739c3295",
    "colab": {
     "base_uri": "https://localhost:8080/",
     "height": 429
    },
    "colab_type": "code",
    "id": "a0WBOB1ofzHx",
    "outputId": "da282533-2efa-45df-c882-34483e5ff7fd"
   },
   "outputs": [
    {
     "name": "stderr",
     "output_type": "stream",
     "text": [
      "/usr/local/lib/python3.6/dist-packages/seaborn/categorical.py:1428: FutureWarning: remove_na is deprecated and is a private function. Do not use.\n",
      "  stat_data = remove_na(group_data)\n"
     ]
    },
    {
     "data": {
      "text/plain": [
       "<matplotlib.axes._subplots.AxesSubplot at 0x7f98cbfbe8d0>"
      ]
     },
     "execution_count": 143,
     "metadata": {
      "tags": []
     },
     "output_type": "execute_result"
    },
    {
     "data": {
      "image/png": "[encoded data removed]",
      "text/plain": [
       "<Figure size 576x396 with 1 Axes>"
      ]
     },
     "metadata": {
      "tags": []
     },
     "output_type": "display_data"
    }
   ],
   "source": [
    "sns.set(font_scale=0.7)\n",
    "sns.countplot(res_train['area_assesed'])"
   ]
  },
  {
   "cell_type": "markdown",
   "metadata": {
    "_uuid": "f2d5868f84aeec1325fdd61b9e5c26fa72919b89",
    "colab_type": "text",
    "collapsed": true,
    "id": "oX371cSkfzH1"
   },
   "source": [
    "### Bivariate Plots and Statistical Tests"
   ]
  },
  {
   "cell_type": "markdown",
   "metadata": {
    "colab_type": "text",
    "id": "obWuJ6FB2qmP"
   },
   "source": []
  },
  {
   "cell_type": "markdown",
   "metadata": {
    "_uuid": "34c1b0c6b65b2c01a40c64f50c9efbf6ecd87da7",
    "colab_type": "text",
    "id": "aGBbi-HLfzH3"
   },
   "source": [
    "Converting Damage Grades to Categorical Values"
   ]
  },
  {
   "cell_type": "code",
   "execution_count": 0,
   "metadata": {
    "_uuid": "99ab9c8e9da04fef9be8b6ef891168b4b2476b3e",
    "colab": {},
    "colab_type": "code",
    "id": "e74oGFsjfzH4"
   },
   "outputs": [],
   "source": [
    "import scipy.stats as ss\n",
    "from scipy.stats import chi2_contingency\n",
    "from scipy.stats import chi2"
   ]
  },
  {
   "cell_type": "code",
   "execution_count": 145,
   "metadata": {
    "_uuid": "cf008e307e457dda7330d598ae0a2cc5b1b72fa8",
    "colab": {
     "base_uri": "https://localhost:8080/",
     "height": 228
    },
    "colab_type": "code",
    "id": "55ASu7lyfzH7",
    "outputId": "6d9e952d-1462-4950-baa7-ac7890340ee1"
   },
   "outputs": [
    {
     "name": "stdout",
     "output_type": "stream",
     "text": [
      "0    2\n",
      "1    3\n",
      "2    3\n",
      "3    4\n",
      "4    3\n",
      "Name: damage_grade, dtype: int64\n"
     ]
    },
    {
     "data": {
      "text/plain": [
       "0    2\n",
       "1    3\n",
       "2    3\n",
       "3    4\n",
       "4    3\n",
       "Name: damage_grade, dtype: int64"
      ]
     },
     "execution_count": 145,
     "metadata": {
      "tags": []
     },
     "output_type": "execute_result"
    }
   ],
   "source": [
    "clean_up = {'damage_grade' : {\"Grade 1\" : 1, \"Grade 2\" : 2, \"Grade 3\" : 3,\"Grade 4\" : 4,\"Grade 5\" : 5}}\n",
    "train_dg = pd.DataFrame()\n",
    "train_dg['damage_grade'] = res_train['damage_grade']\n",
    "\n",
    "train_dg.replace(clean_up, inplace = True)\n",
    "print(train_dg['damage_grade'].head())\n",
    "\n",
    "res_train['damage_grade'] = train_dg['damage_grade']\n",
    "res_train['damage_grade'].head()"
   ]
  },
  {
   "cell_type": "markdown",
   "metadata": {
    "colab_type": "text",
    "id": "UhlcvM86-FD6"
   },
   "source": [
    "Chi Square Test for Categorical Variables"
   ]
  },
  {
   "cell_type": "code",
   "execution_count": 0,
   "metadata": {
    "_uuid": "78e3c8c576a461670a44232fa45c437a96dd7c1d",
    "colab": {},
    "colab_type": "code",
    "id": "tsLVA16hfzIF"
   },
   "outputs": [],
   "source": [
    "cat = [c for c in res_train if res_train[c].dtypes == \"object\"]"
   ]
  },
  {
   "cell_type": "code",
   "execution_count": 0,
   "metadata": {
    "_uuid": "d57b5efa7bf0874d9e0eeb92bdd9ba5f815b933d",
    "colab": {},
    "colab_type": "code",
    "id": "9iYQ-WxGfzIK"
   },
   "outputs": [],
   "source": [
    "cat.remove('building_id')"
   ]
  },
  {
   "cell_type": "code",
   "execution_count": 0,
   "metadata": {
    "_uuid": "4e18ffad58ef29000f937f280689c8c8d9406a19",
    "colab": {},
    "colab_type": "code",
    "id": "g_1QjB_KfzIR"
   },
   "outputs": [],
   "source": [
    "def ChiSquareTest(cat,res_train):\n",
    "  \n",
    "  for c in cat:\n",
    "    print(c)\n",
    "    tab = pd.crosstab(res_train['damage_grade'], res_train[c])\n",
    "    stat, p, dof, expected = chi2_contingency(tab)\n",
    "    print('dof=%d' % dof)\n",
    "    #print(expected)\n",
    "    # interpret test-statistic\n",
    "    prob = 0.95\n",
    "    critical = chi2.ppf(prob, dof)\n",
    "    print('probability=%.3f, critical=%.3f, stat=%.3f' % (prob, critical, stat))\n",
    "    if abs(stat) >= critical:\n",
    "      print('Dependent (reject H0)')\n",
    "    else:\n",
    "      print('Independent (fail to reject H0)')\n",
    "    # interpret p-value\n",
    "    alpha = 1.0 - prob\n",
    "    print('significance=%.3f, p=%.3f' % (alpha, p))\n",
    "    if p <= alpha:\n",
    "      print('Dependent (reject H0)')\n",
    "    else:\n",
    "      print('Independent (fail to reject H0)')\n",
    "     \n",
    "    print(\" \")\n",
    "\n",
    "  \n",
    "  \n",
    "    "
   ]
  },
  {
   "cell_type": "code",
   "execution_count": 149,
   "metadata": {
    "_uuid": "d754f50895512fc4b5439df5aac053279ca7b867",
    "colab": {
     "base_uri": "https://localhost:8080/",
     "height": 1249
    },
    "colab_type": "code",
    "id": "K4lF7UiEfzIY",
    "outputId": "92ffef34-0ace-4183-cb31-5c988df2725e"
   },
   "outputs": [
    {
     "name": "stdout",
     "output_type": "stream",
     "text": [
      "legal_ownership_status\n",
      "dof=12\n",
      "probability=0.950, critical=21.026, stat=8113.932\n",
      "Dependent (reject H0)\n",
      "significance=0.050, p=0.000\n",
      "Dependent (reject H0)\n",
      " \n",
      "land_surface_condition\n",
      "dof=8\n",
      "probability=0.950, critical=15.507, stat=1408.392\n",
      "Dependent (reject H0)\n",
      "significance=0.050, p=0.000\n",
      "Dependent (reject H0)\n",
      " \n",
      "foundation_type\n",
      "dof=16\n",
      "probability=0.950, critical=26.296, stat=138103.743\n",
      "Dependent (reject H0)\n",
      "significance=0.050, p=0.000\n",
      "Dependent (reject H0)\n",
      " \n",
      "roof_type\n",
      "dof=8\n",
      "probability=0.950, critical=15.507, stat=85099.545\n",
      "Dependent (reject H0)\n",
      "significance=0.050, p=0.000\n",
      "Dependent (reject H0)\n",
      " \n",
      "ground_floor_type\n",
      "dof=16\n",
      "probability=0.950, critical=26.296, stat=107177.045\n",
      "Dependent (reject H0)\n",
      "significance=0.050, p=0.000\n",
      "Dependent (reject H0)\n",
      " \n",
      "other_floor_type\n",
      "dof=12\n",
      "probability=0.950, critical=21.026, stat=93978.074\n",
      "Dependent (reject H0)\n",
      "significance=0.050, p=0.000\n",
      "Dependent (reject H0)\n",
      " \n",
      "position\n",
      "dof=12\n",
      "probability=0.950, critical=21.026, stat=5026.896\n",
      "Dependent (reject H0)\n",
      "significance=0.050, p=0.000\n",
      "Dependent (reject H0)\n",
      " \n",
      "plan_configuration\n",
      "dof=36\n",
      "probability=0.950, critical=50.998, stat=4672.139\n",
      "Dependent (reject H0)\n",
      "significance=0.050, p=0.000\n",
      "Dependent (reject H0)\n",
      " \n",
      "condition_post_eq\n",
      "dof=28\n",
      "probability=0.950, critical=41.337, stat=1112041.847\n",
      "Dependent (reject H0)\n",
      "significance=0.050, p=0.000\n",
      "Dependent (reject H0)\n",
      " \n",
      "area_assesed\n",
      "dof=16\n",
      "probability=0.950, critical=26.296, stat=429576.136\n",
      "Dependent (reject H0)\n",
      "significance=0.050, p=0.000\n",
      "Dependent (reject H0)\n",
      " \n"
     ]
    }
   ],
   "source": [
    "ChiSquareTest(cat,res_train)"
   ]
  },
  {
   "cell_type": "markdown",
   "metadata": {
    "colab_type": "text",
    "id": "Rko5JEmG-oCA"
   },
   "source": [
    "All the variables with categories above 2 are significant"
   ]
  },
  {
   "cell_type": "markdown",
   "metadata": {
    "colab_type": "text",
    "id": "5Bl_DX4P-yX9"
   },
   "source": [
    "Relationship between Target and Binary Variables"
   ]
  },
  {
   "cell_type": "code",
   "execution_count": 150,
   "metadata": {
    "_uuid": "209304b631d1a7de11860c3a0989c1fbef6ccbdf",
    "colab": {
     "base_uri": "https://localhost:8080/",
     "height": 545
    },
    "colab_type": "code",
    "id": "y0nJ58apfzIk",
    "outputId": "3ed0642f-0c0e-4fe1-d1e3-65be5a5db314"
   },
   "outputs": [
    {
     "data": {
      "text/plain": [
       "['has_secondary_use',\n",
       " 'has_secondary_use_agriculture',\n",
       " 'has_secondary_use_hotel',\n",
       " 'has_secondary_use_rental',\n",
       " 'has_secondary_use_institution',\n",
       " 'has_secondary_use_school',\n",
       " 'has_secondary_use_industry',\n",
       " 'has_secondary_use_health_post',\n",
       " 'has_secondary_use_gov_office',\n",
       " 'has_secondary_use_use_police',\n",
       " 'has_secondary_use_other',\n",
       " 'has_superstructure_adobe_mud',\n",
       " 'has_superstructure_mud_mortar_stone',\n",
       " 'has_superstructure_stone_flag',\n",
       " 'has_superstructure_cement_mortar_stone',\n",
       " 'has_superstructure_mud_mortar_brick',\n",
       " 'has_superstructure_cement_mortar_brick',\n",
       " 'has_superstructure_timber',\n",
       " 'has_superstructure_bamboo',\n",
       " 'has_superstructure_rc_non_engineered',\n",
       " 'has_superstructure_rc_engineered',\n",
       " 'has_superstructure_other',\n",
       " 'has_geotechnical_risk',\n",
       " 'has_geotechnical_risk_fault_crack',\n",
       " 'has_geotechnical_risk_flood',\n",
       " 'has_geotechnical_risk_land_settlement',\n",
       " 'has_geotechnical_risk_landslide',\n",
       " 'has_geotechnical_risk_liquefaction',\n",
       " 'has_geotechnical_risk_other',\n",
       " 'has_geotechnical_risk_rock_fall']"
      ]
     },
     "execution_count": 150,
     "metadata": {
      "tags": []
     },
     "output_type": "execute_result"
    }
   ],
   "source": [
    "cat_binary = [c for c in res_train if len(res_train[c].unique()) == 2]\n",
    "cat_binary"
   ]
  },
  {
   "cell_type": "code",
   "execution_count": 0,
   "metadata": {
    "colab": {},
    "colab_type": "code",
    "id": "UDQpIfAbEpZX"
   },
   "outputs": [],
   "source": []
  },
  {
   "cell_type": "code",
   "execution_count": 0,
   "metadata": {
    "_uuid": "c7a4c65ca8ec3f925ee59a24303e70f928e1e0f0",
    "colab": {},
    "colab_type": "code",
    "id": "_u55wX-jfzIm"
   },
   "outputs": [],
   "source": [
    "def cramers_v(x, y):\n",
    "  correlation_coeff = []\n",
    "  for c in cat_binary:\n",
    "    confusion_matrix = pd.crosstab(res_train[c],y)\n",
    "    chi2 = ss.chi2_contingency(confusion_matrix)[0]\n",
    "    n = confusion_matrix.sum().sum()\n",
    "    phi2 = chi2/n\n",
    "    r,k = confusion_matrix.shape\n",
    "    phi2corr = max(0, phi2-((k-1)*(r-1))/(n-1))\n",
    "    rcorr = r-((r-1)**2)/(n-1)\n",
    "    kcorr = k-((k-1)**2)/(n-1)\n",
    "    \n",
    "    correlation_coeff.append([c,np.sqrt(phi2corr/min((kcorr-1),(rcorr-1)))])\n",
    "    \n",
    "  return correlation_coeff"
   ]
  },
  {
   "cell_type": "code",
   "execution_count": 152,
   "metadata": {
    "_uuid": "9d823d1554dcb6100f5e4683d35adc729ec169f0",
    "colab": {
     "base_uri": "https://localhost:8080/",
     "height": 545
    },
    "colab_type": "code",
    "id": "FcEG5WphfzIq",
    "outputId": "b7d1c862-60dd-465d-9b60-be5355ec09b7"
   },
   "outputs": [
    {
     "data": {
      "text/plain": [
       "[['has_secondary_use', 0.08441248217165927],\n",
       " ['has_secondary_use_agriculture', 0.05948222661881513],\n",
       " ['has_secondary_use_hotel', 0.11931727185148487],\n",
       " ['has_secondary_use_rental', 0.10798851155159755],\n",
       " ['has_secondary_use_institution', 0.04000696439985445],\n",
       " ['has_secondary_use_school', 0.02115838376096302],\n",
       " ['has_secondary_use_industry', 0.012146442641532596],\n",
       " ['has_secondary_use_health_post', 0.009057079201118534],\n",
       " ['has_secondary_use_gov_office', 0.010428605108001273],\n",
       " ['has_secondary_use_use_police', 0.001672082018154515],\n",
       " ['has_secondary_use_other', 0.024000617699672995],\n",
       " ['has_superstructure_adobe_mud', 0.10906485273848247],\n",
       " ['has_superstructure_mud_mortar_stone', 0.3516007808920147],\n",
       " ['has_superstructure_stone_flag', 0.06369988742717195],\n",
       " ['has_superstructure_cement_mortar_stone', 0.07605311792908845],\n",
       " ['has_superstructure_mud_mortar_brick', 0.09329851436407582],\n",
       " ['has_superstructure_cement_mortar_brick', 0.31581765697361813],\n",
       " ['has_superstructure_timber', 0.08212323869868045],\n",
       " ['has_superstructure_bamboo', 0.07777505487920311],\n",
       " ['has_superstructure_rc_non_engineered', 0.21294726021176905],\n",
       " ['has_superstructure_rc_engineered', 0.24306162571376244],\n",
       " ['has_superstructure_other', 0.035730980209099664],\n",
       " ['has_geotechnical_risk', 0.08894886012774808],\n",
       " ['has_geotechnical_risk_fault_crack', 0.10073006730766738],\n",
       " ['has_geotechnical_risk_flood', 0.03175636548209928],\n",
       " ['has_geotechnical_risk_land_settlement', 0.05789496011707349],\n",
       " ['has_geotechnical_risk_landslide', 0.06986946541177956],\n",
       " ['has_geotechnical_risk_liquefaction', 0.020957175572012158],\n",
       " ['has_geotechnical_risk_other', 0.007301911809520293],\n",
       " ['has_geotechnical_risk_rock_fall', 0.06481739249408013]]"
      ]
     },
     "execution_count": 152,
     "metadata": {
      "tags": []
     },
     "output_type": "execute_result"
    }
   ],
   "source": [
    "cramers_v(cat_binary, res_train['damage_grade'])"
   ]
  },
  {
   "cell_type": "code",
   "execution_count": 153,
   "metadata": {
    "_uuid": "d17a00a9f65fdf0c1c62f168dae84519f296231e",
    "colab": {
     "base_uri": "https://localhost:8080/",
     "height": 3713
    },
    "colab_type": "code",
    "id": "C6R1IR_gfzIw",
    "outputId": "6b89151a-1e0e-4bf5-87bb-fcd9c8d3c539"
   },
   "outputs": [
    {
     "name": "stdout",
     "output_type": "stream",
     "text": [
      "has_secondary_use\n",
      "dof=4\n",
      "probability=0.950, critical=9.488, stat=4505.585\n",
      "Dependent (reject H0)\n",
      "significance=0.050, p=0.000\n",
      "Dependent (reject H0)\n",
      " \n",
      "has_secondary_use_agriculture\n",
      "dof=4\n",
      "probability=0.950, critical=9.488, stat=2239.252\n",
      "Dependent (reject H0)\n",
      "significance=0.050, p=0.000\n",
      "Dependent (reject H0)\n",
      " \n",
      "has_secondary_use_hotel\n",
      "dof=4\n",
      "probability=0.950, critical=9.488, stat=8998.122\n",
      "Dependent (reject H0)\n",
      "significance=0.050, p=0.000\n",
      "Dependent (reject H0)\n",
      " \n",
      "has_secondary_use_rental\n",
      "dof=4\n",
      "probability=0.950, critical=9.488, stat=7371.281\n",
      "Dependent (reject H0)\n",
      "significance=0.050, p=0.000\n",
      "Dependent (reject H0)\n",
      " \n",
      "has_secondary_use_institution\n",
      "dof=4\n",
      "probability=0.950, critical=9.488, stat=1015.168\n",
      "Dependent (reject H0)\n",
      "significance=0.050, p=0.000\n",
      "Dependent (reject H0)\n",
      " \n",
      "has_secondary_use_school\n",
      "dof=4\n",
      "probability=0.950, critical=9.488, stat=286.825\n",
      "Dependent (reject H0)\n",
      "significance=0.050, p=0.000\n",
      "Dependent (reject H0)\n",
      " \n",
      "has_secondary_use_industry\n",
      "dof=4\n",
      "probability=0.950, critical=9.488, stat=97.207\n",
      "Dependent (reject H0)\n",
      "significance=0.050, p=0.000\n",
      "Dependent (reject H0)\n",
      " \n",
      "has_secondary_use_health_post\n",
      "dof=4\n",
      "probability=0.950, critical=9.488, stat=55.824\n",
      "Dependent (reject H0)\n",
      "significance=0.050, p=0.000\n",
      "Dependent (reject H0)\n",
      " \n",
      "has_secondary_use_gov_office\n",
      "dof=4\n",
      "probability=0.950, critical=9.488, stat=72.708\n",
      "Dependent (reject H0)\n",
      "significance=0.050, p=0.000\n",
      "Dependent (reject H0)\n",
      " \n",
      "has_secondary_use_use_police\n",
      "dof=4\n",
      "probability=0.950, critical=9.488, stat=5.766\n",
      "Independent (fail to reject H0)\n",
      "significance=0.050, p=0.217\n",
      "Independent (fail to reject H0)\n",
      " \n",
      "has_secondary_use_other\n",
      "dof=4\n",
      "probability=0.950, critical=9.488, stat=367.912\n",
      "Dependent (reject H0)\n",
      "significance=0.050, p=0.000\n",
      "Dependent (reject H0)\n",
      " \n",
      "has_superstructure_adobe_mud\n",
      "dof=4\n",
      "probability=0.950, critical=9.488, stat=7518.875\n",
      "Dependent (reject H0)\n",
      "significance=0.050, p=0.000\n",
      "Dependent (reject H0)\n",
      " \n",
      "has_superstructure_mud_mortar_stone\n",
      "dof=4\n",
      "probability=0.950, critical=9.488, stat=78104.135\n",
      "Dependent (reject H0)\n",
      "significance=0.050, p=0.000\n",
      "Dependent (reject H0)\n",
      " \n",
      "has_superstructure_stone_flag\n",
      "dof=4\n",
      "probability=0.950, critical=9.488, stat=2567.477\n",
      "Dependent (reject H0)\n",
      "significance=0.050, p=0.000\n",
      "Dependent (reject H0)\n",
      " \n",
      "has_superstructure_cement_mortar_stone\n",
      "dof=4\n",
      "probability=0.950, critical=9.488, stat=3658.148\n",
      "Dependent (reject H0)\n",
      "significance=0.050, p=0.000\n",
      "Dependent (reject H0)\n",
      " \n",
      "has_superstructure_mud_mortar_brick\n",
      "dof=4\n",
      "probability=0.950, critical=9.488, stat=5503.226\n",
      "Dependent (reject H0)\n",
      "significance=0.050, p=0.000\n",
      "Dependent (reject H0)\n",
      " \n",
      "has_superstructure_cement_mortar_brick\n",
      "dof=4\n",
      "probability=0.950, critical=9.488, stat=63016.243\n",
      "Dependent (reject H0)\n",
      "significance=0.050, p=0.000\n",
      "Dependent (reject H0)\n",
      " \n",
      "has_superstructure_timber\n",
      "dof=4\n",
      "probability=0.950, critical=9.488, stat=4264.732\n",
      "Dependent (reject H0)\n",
      "significance=0.050, p=0.000\n",
      "Dependent (reject H0)\n",
      " \n",
      "has_superstructure_bamboo\n",
      "dof=4\n",
      "probability=0.950, critical=9.488, stat=3825.490\n",
      "Dependent (reject H0)\n",
      "significance=0.050, p=0.000\n",
      "Dependent (reject H0)\n",
      " \n",
      "has_superstructure_rc_non_engineered\n",
      "dof=4\n",
      "probability=0.950, critical=9.488, stat=28652.127\n",
      "Dependent (reject H0)\n",
      "significance=0.050, p=0.000\n",
      "Dependent (reject H0)\n",
      " \n",
      "has_superstructure_rc_engineered\n",
      "dof=4\n",
      "probability=0.950, critical=9.488, stat=37327.720\n",
      "Dependent (reject H0)\n",
      "significance=0.050, p=0.000\n",
      "Dependent (reject H0)\n",
      " \n",
      "has_superstructure_other\n",
      "dof=4\n",
      "probability=0.950, critical=9.488, stat=810.570\n",
      "Dependent (reject H0)\n",
      "significance=0.050, p=0.000\n",
      "Dependent (reject H0)\n",
      " \n",
      "has_geotechnical_risk\n",
      "dof=4\n",
      "probability=0.950, critical=9.488, stat=5002.422\n",
      "Dependent (reject H0)\n",
      "significance=0.050, p=0.000\n",
      "Dependent (reject H0)\n",
      " \n",
      "has_geotechnical_risk_fault_crack\n",
      "dof=4\n",
      "probability=0.950, critical=9.488, stat=6414.182\n",
      "Dependent (reject H0)\n",
      "significance=0.050, p=0.000\n",
      "Dependent (reject H0)\n",
      " \n",
      "has_geotechnical_risk_flood\n",
      "dof=4\n",
      "probability=0.950, critical=9.488, stat=641.109\n",
      "Dependent (reject H0)\n",
      "significance=0.050, p=0.000\n",
      "Dependent (reject H0)\n",
      " \n",
      "has_geotechnical_risk_land_settlement\n",
      "dof=4\n",
      "probability=0.950, critical=9.488, stat=2121.550\n",
      "Dependent (reject H0)\n",
      "significance=0.050, p=0.000\n",
      "Dependent (reject H0)\n",
      " \n",
      "has_geotechnical_risk_landslide\n",
      "dof=4\n",
      "probability=0.950, critical=9.488, stat=3088.089\n",
      "Dependent (reject H0)\n",
      "significance=0.050, p=0.000\n",
      "Dependent (reject H0)\n",
      " \n",
      "has_geotechnical_risk_liquefaction\n",
      "dof=4\n",
      "probability=0.950, critical=9.488, stat=281.471\n",
      "Dependent (reject H0)\n",
      "significance=0.050, p=0.000\n",
      "Dependent (reject H0)\n",
      " \n",
      "has_geotechnical_risk_other\n",
      "dof=4\n",
      "probability=0.950, critical=9.488, stat=37.684\n",
      "Dependent (reject H0)\n",
      "significance=0.050, p=0.000\n",
      "Dependent (reject H0)\n",
      " \n",
      "has_geotechnical_risk_rock_fall\n",
      "dof=4\n",
      "probability=0.950, critical=9.488, stat=2658.210\n",
      "Dependent (reject H0)\n",
      "significance=0.050, p=0.000\n",
      "Dependent (reject H0)\n",
      " \n"
     ]
    }
   ],
   "source": [
    "ChiSquareTest(cat_binary,res_train)"
   ]
  },
  {
   "cell_type": "code",
   "execution_count": 154,
   "metadata": {
    "colab": {
     "base_uri": "https://localhost:8080/",
     "height": 2422
    },
    "colab_type": "code",
    "id": "qPrxiB30yk7y",
    "outputId": "6b87b628-fc2b-4183-9cc7-e04115b7cd9e"
   },
   "outputs": [
    {
     "data": {
      "text/html": [
       "<div>\n",
       "<style scoped>\n",
       "    .dataframe tbody tr th:only-of-type {\n",
       "        vertical-align: middle;\n",
       "    }\n",
       "\n",
       "    .dataframe tbody tr th {\n",
       "        vertical-align: top;\n",
       "    }\n",
       "\n",
       "    .dataframe thead th {\n",
       "        text-align: right;\n",
       "    }\n",
       "</style>\n",
       "<table border=\"1\" class=\"dataframe\">\n",
       "  <thead>\n",
       "    <tr style=\"text-align: right;\">\n",
       "      <th></th>\n",
       "      <th>district_id_x</th>\n",
       "      <th>vdcmun_id_x</th>\n",
       "      <th>ward_id_x</th>\n",
       "      <th>legal_ownership_status</th>\n",
       "      <th>count_families</th>\n",
       "      <th>has_secondary_use</th>\n",
       "      <th>has_secondary_use_agriculture</th>\n",
       "      <th>has_secondary_use_hotel</th>\n",
       "      <th>has_secondary_use_rental</th>\n",
       "      <th>has_secondary_use_institution</th>\n",
       "      <th>...</th>\n",
       "      <th>area_assesed</th>\n",
       "      <th>has_geotechnical_risk</th>\n",
       "      <th>has_geotechnical_risk_fault_crack</th>\n",
       "      <th>has_geotechnical_risk_flood</th>\n",
       "      <th>has_geotechnical_risk_land_settlement</th>\n",
       "      <th>has_geotechnical_risk_landslide</th>\n",
       "      <th>has_geotechnical_risk_liquefaction</th>\n",
       "      <th>has_geotechnical_risk_other</th>\n",
       "      <th>has_geotechnical_risk_rock_fall</th>\n",
       "      <th>has_repair_started</th>\n",
       "    </tr>\n",
       "  </thead>\n",
       "  <tbody>\n",
       "    <tr>\n",
       "      <th>0</th>\n",
       "      <td>7</td>\n",
       "      <td>701</td>\n",
       "      <td>70102</td>\n",
       "      <td>Private</td>\n",
       "      <td>1.0</td>\n",
       "      <td>0.0</td>\n",
       "      <td>0</td>\n",
       "      <td>0</td>\n",
       "      <td>0</td>\n",
       "      <td>0</td>\n",
       "      <td>...</td>\n",
       "      <td>Both</td>\n",
       "      <td>0.0</td>\n",
       "      <td>0</td>\n",
       "      <td>0</td>\n",
       "      <td>0</td>\n",
       "      <td>0</td>\n",
       "      <td>0</td>\n",
       "      <td>0</td>\n",
       "      <td>0</td>\n",
       "      <td>1.0</td>\n",
       "    </tr>\n",
       "    <tr>\n",
       "      <th>1</th>\n",
       "      <td>7</td>\n",
       "      <td>701</td>\n",
       "      <td>70103</td>\n",
       "      <td>Private</td>\n",
       "      <td>1.0</td>\n",
       "      <td>0.0</td>\n",
       "      <td>0</td>\n",
       "      <td>0</td>\n",
       "      <td>0</td>\n",
       "      <td>0</td>\n",
       "      <td>...</td>\n",
       "      <td>Both</td>\n",
       "      <td>0.0</td>\n",
       "      <td>0</td>\n",
       "      <td>0</td>\n",
       "      <td>0</td>\n",
       "      <td>0</td>\n",
       "      <td>0</td>\n",
       "      <td>0</td>\n",
       "      <td>0</td>\n",
       "      <td>1.0</td>\n",
       "    </tr>\n",
       "    <tr>\n",
       "      <th>2</th>\n",
       "      <td>7</td>\n",
       "      <td>701</td>\n",
       "      <td>70103</td>\n",
       "      <td>Private</td>\n",
       "      <td>1.0</td>\n",
       "      <td>0.0</td>\n",
       "      <td>0</td>\n",
       "      <td>0</td>\n",
       "      <td>0</td>\n",
       "      <td>0</td>\n",
       "      <td>...</td>\n",
       "      <td>Building removed</td>\n",
       "      <td>0.0</td>\n",
       "      <td>0</td>\n",
       "      <td>0</td>\n",
       "      <td>0</td>\n",
       "      <td>0</td>\n",
       "      <td>0</td>\n",
       "      <td>0</td>\n",
       "      <td>0</td>\n",
       "      <td>1.0</td>\n",
       "    </tr>\n",
       "    <tr>\n",
       "      <th>3</th>\n",
       "      <td>7</td>\n",
       "      <td>701</td>\n",
       "      <td>70106</td>\n",
       "      <td>Private</td>\n",
       "      <td>1.0</td>\n",
       "      <td>0.0</td>\n",
       "      <td>0</td>\n",
       "      <td>0</td>\n",
       "      <td>0</td>\n",
       "      <td>0</td>\n",
       "      <td>...</td>\n",
       "      <td>Both</td>\n",
       "      <td>0.0</td>\n",
       "      <td>0</td>\n",
       "      <td>0</td>\n",
       "      <td>0</td>\n",
       "      <td>0</td>\n",
       "      <td>0</td>\n",
       "      <td>0</td>\n",
       "      <td>0</td>\n",
       "      <td>1.0</td>\n",
       "    </tr>\n",
       "    <tr>\n",
       "      <th>4</th>\n",
       "      <td>7</td>\n",
       "      <td>701</td>\n",
       "      <td>70107</td>\n",
       "      <td>Private</td>\n",
       "      <td>1.0</td>\n",
       "      <td>0.0</td>\n",
       "      <td>0</td>\n",
       "      <td>0</td>\n",
       "      <td>0</td>\n",
       "      <td>0</td>\n",
       "      <td>...</td>\n",
       "      <td>Building removed</td>\n",
       "      <td>0.0</td>\n",
       "      <td>0</td>\n",
       "      <td>0</td>\n",
       "      <td>0</td>\n",
       "      <td>0</td>\n",
       "      <td>0</td>\n",
       "      <td>0</td>\n",
       "      <td>0</td>\n",
       "      <td>1.0</td>\n",
       "    </tr>\n",
       "    <tr>\n",
       "      <th>5</th>\n",
       "      <td>7</td>\n",
       "      <td>701</td>\n",
       "      <td>70107</td>\n",
       "      <td>Private</td>\n",
       "      <td>1.0</td>\n",
       "      <td>0.0</td>\n",
       "      <td>0</td>\n",
       "      <td>0</td>\n",
       "      <td>0</td>\n",
       "      <td>0</td>\n",
       "      <td>...</td>\n",
       "      <td>Both</td>\n",
       "      <td>0.0</td>\n",
       "      <td>0</td>\n",
       "      <td>0</td>\n",
       "      <td>0</td>\n",
       "      <td>0</td>\n",
       "      <td>0</td>\n",
       "      <td>0</td>\n",
       "      <td>0</td>\n",
       "      <td>0.0</td>\n",
       "    </tr>\n",
       "    <tr>\n",
       "      <th>6</th>\n",
       "      <td>7</td>\n",
       "      <td>701</td>\n",
       "      <td>70107</td>\n",
       "      <td>Private</td>\n",
       "      <td>1.0</td>\n",
       "      <td>0.0</td>\n",
       "      <td>0</td>\n",
       "      <td>0</td>\n",
       "      <td>0</td>\n",
       "      <td>0</td>\n",
       "      <td>...</td>\n",
       "      <td>Both</td>\n",
       "      <td>0.0</td>\n",
       "      <td>0</td>\n",
       "      <td>0</td>\n",
       "      <td>0</td>\n",
       "      <td>0</td>\n",
       "      <td>0</td>\n",
       "      <td>0</td>\n",
       "      <td>0</td>\n",
       "      <td>1.0</td>\n",
       "    </tr>\n",
       "    <tr>\n",
       "      <th>7</th>\n",
       "      <td>7</td>\n",
       "      <td>701</td>\n",
       "      <td>70109</td>\n",
       "      <td>Private</td>\n",
       "      <td>1.0</td>\n",
       "      <td>0.0</td>\n",
       "      <td>0</td>\n",
       "      <td>0</td>\n",
       "      <td>0</td>\n",
       "      <td>0</td>\n",
       "      <td>...</td>\n",
       "      <td>Building removed</td>\n",
       "      <td>0.0</td>\n",
       "      <td>0</td>\n",
       "      <td>0</td>\n",
       "      <td>0</td>\n",
       "      <td>0</td>\n",
       "      <td>0</td>\n",
       "      <td>0</td>\n",
       "      <td>0</td>\n",
       "      <td>1.0</td>\n",
       "    </tr>\n",
       "    <tr>\n",
       "      <th>8</th>\n",
       "      <td>7</td>\n",
       "      <td>701</td>\n",
       "      <td>70109</td>\n",
       "      <td>Private</td>\n",
       "      <td>1.0</td>\n",
       "      <td>0.0</td>\n",
       "      <td>0</td>\n",
       "      <td>0</td>\n",
       "      <td>0</td>\n",
       "      <td>0</td>\n",
       "      <td>...</td>\n",
       "      <td>Both</td>\n",
       "      <td>0.0</td>\n",
       "      <td>0</td>\n",
       "      <td>0</td>\n",
       "      <td>0</td>\n",
       "      <td>0</td>\n",
       "      <td>0</td>\n",
       "      <td>0</td>\n",
       "      <td>0</td>\n",
       "      <td>1.0</td>\n",
       "    </tr>\n",
       "    <tr>\n",
       "      <th>9</th>\n",
       "      <td>7</td>\n",
       "      <td>701</td>\n",
       "      <td>70109</td>\n",
       "      <td>Private</td>\n",
       "      <td>1.0</td>\n",
       "      <td>0.0</td>\n",
       "      <td>0</td>\n",
       "      <td>0</td>\n",
       "      <td>0</td>\n",
       "      <td>0</td>\n",
       "      <td>...</td>\n",
       "      <td>Both</td>\n",
       "      <td>0.0</td>\n",
       "      <td>0</td>\n",
       "      <td>0</td>\n",
       "      <td>0</td>\n",
       "      <td>0</td>\n",
       "      <td>0</td>\n",
       "      <td>0</td>\n",
       "      <td>0</td>\n",
       "      <td>1.0</td>\n",
       "    </tr>\n",
       "    <tr>\n",
       "      <th>10</th>\n",
       "      <td>7</td>\n",
       "      <td>701</td>\n",
       "      <td>70109</td>\n",
       "      <td>Private</td>\n",
       "      <td>1.0</td>\n",
       "      <td>0.0</td>\n",
       "      <td>0</td>\n",
       "      <td>0</td>\n",
       "      <td>0</td>\n",
       "      <td>0</td>\n",
       "      <td>...</td>\n",
       "      <td>Both</td>\n",
       "      <td>0.0</td>\n",
       "      <td>0</td>\n",
       "      <td>0</td>\n",
       "      <td>0</td>\n",
       "      <td>0</td>\n",
       "      <td>0</td>\n",
       "      <td>0</td>\n",
       "      <td>0</td>\n",
       "      <td>1.0</td>\n",
       "    </tr>\n",
       "    <tr>\n",
       "      <th>11</th>\n",
       "      <td>7</td>\n",
       "      <td>702</td>\n",
       "      <td>70201</td>\n",
       "      <td>Private</td>\n",
       "      <td>1.0</td>\n",
       "      <td>0.0</td>\n",
       "      <td>0</td>\n",
       "      <td>0</td>\n",
       "      <td>0</td>\n",
       "      <td>0</td>\n",
       "      <td>...</td>\n",
       "      <td>Both</td>\n",
       "      <td>0.0</td>\n",
       "      <td>0</td>\n",
       "      <td>0</td>\n",
       "      <td>0</td>\n",
       "      <td>0</td>\n",
       "      <td>0</td>\n",
       "      <td>0</td>\n",
       "      <td>0</td>\n",
       "      <td>1.0</td>\n",
       "    </tr>\n",
       "    <tr>\n",
       "      <th>12</th>\n",
       "      <td>7</td>\n",
       "      <td>702</td>\n",
       "      <td>70201</td>\n",
       "      <td>Private</td>\n",
       "      <td>1.0</td>\n",
       "      <td>0.0</td>\n",
       "      <td>0</td>\n",
       "      <td>0</td>\n",
       "      <td>0</td>\n",
       "      <td>0</td>\n",
       "      <td>...</td>\n",
       "      <td>Both</td>\n",
       "      <td>0.0</td>\n",
       "      <td>0</td>\n",
       "      <td>0</td>\n",
       "      <td>0</td>\n",
       "      <td>0</td>\n",
       "      <td>0</td>\n",
       "      <td>0</td>\n",
       "      <td>0</td>\n",
       "      <td>1.0</td>\n",
       "    </tr>\n",
       "    <tr>\n",
       "      <th>13</th>\n",
       "      <td>7</td>\n",
       "      <td>702</td>\n",
       "      <td>70202</td>\n",
       "      <td>Private</td>\n",
       "      <td>1.0</td>\n",
       "      <td>0.0</td>\n",
       "      <td>0</td>\n",
       "      <td>0</td>\n",
       "      <td>0</td>\n",
       "      <td>0</td>\n",
       "      <td>...</td>\n",
       "      <td>Both</td>\n",
       "      <td>0.0</td>\n",
       "      <td>0</td>\n",
       "      <td>0</td>\n",
       "      <td>0</td>\n",
       "      <td>0</td>\n",
       "      <td>0</td>\n",
       "      <td>0</td>\n",
       "      <td>0</td>\n",
       "      <td>1.0</td>\n",
       "    </tr>\n",
       "    <tr>\n",
       "      <th>14</th>\n",
       "      <td>7</td>\n",
       "      <td>702</td>\n",
       "      <td>70203</td>\n",
       "      <td>Private</td>\n",
       "      <td>1.0</td>\n",
       "      <td>0.0</td>\n",
       "      <td>0</td>\n",
       "      <td>0</td>\n",
       "      <td>0</td>\n",
       "      <td>0</td>\n",
       "      <td>...</td>\n",
       "      <td>Both</td>\n",
       "      <td>0.0</td>\n",
       "      <td>0</td>\n",
       "      <td>0</td>\n",
       "      <td>0</td>\n",
       "      <td>0</td>\n",
       "      <td>0</td>\n",
       "      <td>0</td>\n",
       "      <td>0</td>\n",
       "      <td>1.0</td>\n",
       "    </tr>\n",
       "    <tr>\n",
       "      <th>15</th>\n",
       "      <td>7</td>\n",
       "      <td>702</td>\n",
       "      <td>70203</td>\n",
       "      <td>Private</td>\n",
       "      <td>1.0</td>\n",
       "      <td>0.0</td>\n",
       "      <td>0</td>\n",
       "      <td>0</td>\n",
       "      <td>0</td>\n",
       "      <td>0</td>\n",
       "      <td>...</td>\n",
       "      <td>Both</td>\n",
       "      <td>0.0</td>\n",
       "      <td>0</td>\n",
       "      <td>0</td>\n",
       "      <td>0</td>\n",
       "      <td>0</td>\n",
       "      <td>0</td>\n",
       "      <td>0</td>\n",
       "      <td>0</td>\n",
       "      <td>1.0</td>\n",
       "    </tr>\n",
       "    <tr>\n",
       "      <th>16</th>\n",
       "      <td>7</td>\n",
       "      <td>702</td>\n",
       "      <td>70204</td>\n",
       "      <td>Private</td>\n",
       "      <td>1.0</td>\n",
       "      <td>0.0</td>\n",
       "      <td>0</td>\n",
       "      <td>0</td>\n",
       "      <td>0</td>\n",
       "      <td>0</td>\n",
       "      <td>...</td>\n",
       "      <td>Both</td>\n",
       "      <td>0.0</td>\n",
       "      <td>0</td>\n",
       "      <td>0</td>\n",
       "      <td>0</td>\n",
       "      <td>0</td>\n",
       "      <td>0</td>\n",
       "      <td>0</td>\n",
       "      <td>0</td>\n",
       "      <td>1.0</td>\n",
       "    </tr>\n",
       "    <tr>\n",
       "      <th>17</th>\n",
       "      <td>7</td>\n",
       "      <td>702</td>\n",
       "      <td>70204</td>\n",
       "      <td>Private</td>\n",
       "      <td>1.0</td>\n",
       "      <td>0.0</td>\n",
       "      <td>0</td>\n",
       "      <td>0</td>\n",
       "      <td>0</td>\n",
       "      <td>0</td>\n",
       "      <td>...</td>\n",
       "      <td>Both</td>\n",
       "      <td>0.0</td>\n",
       "      <td>0</td>\n",
       "      <td>0</td>\n",
       "      <td>0</td>\n",
       "      <td>0</td>\n",
       "      <td>0</td>\n",
       "      <td>0</td>\n",
       "      <td>0</td>\n",
       "      <td>1.0</td>\n",
       "    </tr>\n",
       "    <tr>\n",
       "      <th>18</th>\n",
       "      <td>7</td>\n",
       "      <td>702</td>\n",
       "      <td>70204</td>\n",
       "      <td>Private</td>\n",
       "      <td>1.0</td>\n",
       "      <td>0.0</td>\n",
       "      <td>0</td>\n",
       "      <td>0</td>\n",
       "      <td>0</td>\n",
       "      <td>0</td>\n",
       "      <td>...</td>\n",
       "      <td>Both</td>\n",
       "      <td>0.0</td>\n",
       "      <td>0</td>\n",
       "      <td>0</td>\n",
       "      <td>0</td>\n",
       "      <td>0</td>\n",
       "      <td>0</td>\n",
       "      <td>0</td>\n",
       "      <td>0</td>\n",
       "      <td>1.0</td>\n",
       "    </tr>\n",
       "    <tr>\n",
       "      <th>19</th>\n",
       "      <td>7</td>\n",
       "      <td>702</td>\n",
       "      <td>70205</td>\n",
       "      <td>Private</td>\n",
       "      <td>1.0</td>\n",
       "      <td>0.0</td>\n",
       "      <td>0</td>\n",
       "      <td>0</td>\n",
       "      <td>0</td>\n",
       "      <td>0</td>\n",
       "      <td>...</td>\n",
       "      <td>Both</td>\n",
       "      <td>0.0</td>\n",
       "      <td>0</td>\n",
       "      <td>0</td>\n",
       "      <td>0</td>\n",
       "      <td>0</td>\n",
       "      <td>0</td>\n",
       "      <td>0</td>\n",
       "      <td>0</td>\n",
       "      <td>1.0</td>\n",
       "    </tr>\n",
       "    <tr>\n",
       "      <th>20</th>\n",
       "      <td>7</td>\n",
       "      <td>702</td>\n",
       "      <td>70206</td>\n",
       "      <td>Private</td>\n",
       "      <td>1.0</td>\n",
       "      <td>0.0</td>\n",
       "      <td>0</td>\n",
       "      <td>0</td>\n",
       "      <td>0</td>\n",
       "      <td>0</td>\n",
       "      <td>...</td>\n",
       "      <td>Both</td>\n",
       "      <td>0.0</td>\n",
       "      <td>0</td>\n",
       "      <td>0</td>\n",
       "      <td>0</td>\n",
       "      <td>0</td>\n",
       "      <td>0</td>\n",
       "      <td>0</td>\n",
       "      <td>0</td>\n",
       "      <td>1.0</td>\n",
       "    </tr>\n",
       "    <tr>\n",
       "      <th>21</th>\n",
       "      <td>7</td>\n",
       "      <td>702</td>\n",
       "      <td>70206</td>\n",
       "      <td>Private</td>\n",
       "      <td>1.0</td>\n",
       "      <td>0.0</td>\n",
       "      <td>0</td>\n",
       "      <td>0</td>\n",
       "      <td>0</td>\n",
       "      <td>0</td>\n",
       "      <td>...</td>\n",
       "      <td>Both</td>\n",
       "      <td>0.0</td>\n",
       "      <td>0</td>\n",
       "      <td>0</td>\n",
       "      <td>0</td>\n",
       "      <td>0</td>\n",
       "      <td>0</td>\n",
       "      <td>0</td>\n",
       "      <td>0</td>\n",
       "      <td>1.0</td>\n",
       "    </tr>\n",
       "    <tr>\n",
       "      <th>22</th>\n",
       "      <td>7</td>\n",
       "      <td>703</td>\n",
       "      <td>70301</td>\n",
       "      <td>Private</td>\n",
       "      <td>1.0</td>\n",
       "      <td>0.0</td>\n",
       "      <td>0</td>\n",
       "      <td>0</td>\n",
       "      <td>0</td>\n",
       "      <td>0</td>\n",
       "      <td>...</td>\n",
       "      <td>Both</td>\n",
       "      <td>0.0</td>\n",
       "      <td>0</td>\n",
       "      <td>0</td>\n",
       "      <td>0</td>\n",
       "      <td>0</td>\n",
       "      <td>0</td>\n",
       "      <td>0</td>\n",
       "      <td>0</td>\n",
       "      <td>1.0</td>\n",
       "    </tr>\n",
       "    <tr>\n",
       "      <th>23</th>\n",
       "      <td>7</td>\n",
       "      <td>702</td>\n",
       "      <td>70207</td>\n",
       "      <td>Private</td>\n",
       "      <td>1.0</td>\n",
       "      <td>0.0</td>\n",
       "      <td>0</td>\n",
       "      <td>0</td>\n",
       "      <td>0</td>\n",
       "      <td>0</td>\n",
       "      <td>...</td>\n",
       "      <td>Both</td>\n",
       "      <td>0.0</td>\n",
       "      <td>0</td>\n",
       "      <td>0</td>\n",
       "      <td>0</td>\n",
       "      <td>0</td>\n",
       "      <td>0</td>\n",
       "      <td>0</td>\n",
       "      <td>0</td>\n",
       "      <td>1.0</td>\n",
       "    </tr>\n",
       "    <tr>\n",
       "      <th>24</th>\n",
       "      <td>7</td>\n",
       "      <td>702</td>\n",
       "      <td>70207</td>\n",
       "      <td>Private</td>\n",
       "      <td>1.0</td>\n",
       "      <td>0.0</td>\n",
       "      <td>0</td>\n",
       "      <td>0</td>\n",
       "      <td>0</td>\n",
       "      <td>0</td>\n",
       "      <td>...</td>\n",
       "      <td>Building removed</td>\n",
       "      <td>0.0</td>\n",
       "      <td>0</td>\n",
       "      <td>0</td>\n",
       "      <td>0</td>\n",
       "      <td>0</td>\n",
       "      <td>0</td>\n",
       "      <td>0</td>\n",
       "      <td>0</td>\n",
       "      <td>1.0</td>\n",
       "    </tr>\n",
       "    <tr>\n",
       "      <th>25</th>\n",
       "      <td>7</td>\n",
       "      <td>702</td>\n",
       "      <td>70207</td>\n",
       "      <td>Private</td>\n",
       "      <td>1.0</td>\n",
       "      <td>0.0</td>\n",
       "      <td>0</td>\n",
       "      <td>0</td>\n",
       "      <td>0</td>\n",
       "      <td>0</td>\n",
       "      <td>...</td>\n",
       "      <td>Both</td>\n",
       "      <td>0.0</td>\n",
       "      <td>0</td>\n",
       "      <td>0</td>\n",
       "      <td>0</td>\n",
       "      <td>0</td>\n",
       "      <td>0</td>\n",
       "      <td>0</td>\n",
       "      <td>0</td>\n",
       "      <td>1.0</td>\n",
       "    </tr>\n",
       "    <tr>\n",
       "      <th>26</th>\n",
       "      <td>7</td>\n",
       "      <td>702</td>\n",
       "      <td>70208</td>\n",
       "      <td>Private</td>\n",
       "      <td>1.0</td>\n",
       "      <td>0.0</td>\n",
       "      <td>0</td>\n",
       "      <td>0</td>\n",
       "      <td>0</td>\n",
       "      <td>0</td>\n",
       "      <td>...</td>\n",
       "      <td>Both</td>\n",
       "      <td>0.0</td>\n",
       "      <td>0</td>\n",
       "      <td>0</td>\n",
       "      <td>0</td>\n",
       "      <td>0</td>\n",
       "      <td>0</td>\n",
       "      <td>0</td>\n",
       "      <td>0</td>\n",
       "      <td>1.0</td>\n",
       "    </tr>\n",
       "    <tr>\n",
       "      <th>27</th>\n",
       "      <td>7</td>\n",
       "      <td>702</td>\n",
       "      <td>70208</td>\n",
       "      <td>Private</td>\n",
       "      <td>1.0</td>\n",
       "      <td>0.0</td>\n",
       "      <td>0</td>\n",
       "      <td>0</td>\n",
       "      <td>0</td>\n",
       "      <td>0</td>\n",
       "      <td>...</td>\n",
       "      <td>Both</td>\n",
       "      <td>0.0</td>\n",
       "      <td>0</td>\n",
       "      <td>0</td>\n",
       "      <td>0</td>\n",
       "      <td>0</td>\n",
       "      <td>0</td>\n",
       "      <td>0</td>\n",
       "      <td>0</td>\n",
       "      <td>1.0</td>\n",
       "    </tr>\n",
       "    <tr>\n",
       "      <th>28</th>\n",
       "      <td>7</td>\n",
       "      <td>702</td>\n",
       "      <td>70208</td>\n",
       "      <td>Private</td>\n",
       "      <td>1.0</td>\n",
       "      <td>0.0</td>\n",
       "      <td>0</td>\n",
       "      <td>0</td>\n",
       "      <td>0</td>\n",
       "      <td>0</td>\n",
       "      <td>...</td>\n",
       "      <td>Both</td>\n",
       "      <td>0.0</td>\n",
       "      <td>0</td>\n",
       "      <td>0</td>\n",
       "      <td>0</td>\n",
       "      <td>0</td>\n",
       "      <td>0</td>\n",
       "      <td>0</td>\n",
       "      <td>0</td>\n",
       "      <td>1.0</td>\n",
       "    </tr>\n",
       "    <tr>\n",
       "      <th>29</th>\n",
       "      <td>7</td>\n",
       "      <td>702</td>\n",
       "      <td>70208</td>\n",
       "      <td>Private</td>\n",
       "      <td>1.0</td>\n",
       "      <td>0.0</td>\n",
       "      <td>0</td>\n",
       "      <td>0</td>\n",
       "      <td>0</td>\n",
       "      <td>0</td>\n",
       "      <td>...</td>\n",
       "      <td>Both</td>\n",
       "      <td>0.0</td>\n",
       "      <td>0</td>\n",
       "      <td>0</td>\n",
       "      <td>0</td>\n",
       "      <td>0</td>\n",
       "      <td>0</td>\n",
       "      <td>0</td>\n",
       "      <td>0</td>\n",
       "      <td>1.0</td>\n",
       "    </tr>\n",
       "    <tr>\n",
       "      <th>...</th>\n",
       "      <td>...</td>\n",
       "      <td>...</td>\n",
       "      <td>...</td>\n",
       "      <td>...</td>\n",
       "      <td>...</td>\n",
       "      <td>...</td>\n",
       "      <td>...</td>\n",
       "      <td>...</td>\n",
       "      <td>...</td>\n",
       "      <td>...</td>\n",
       "      <td>...</td>\n",
       "      <td>...</td>\n",
       "      <td>...</td>\n",
       "      <td>...</td>\n",
       "      <td>...</td>\n",
       "      <td>...</td>\n",
       "      <td>...</td>\n",
       "      <td>...</td>\n",
       "      <td>...</td>\n",
       "      <td>...</td>\n",
       "      <td>...</td>\n",
       "    </tr>\n",
       "    <tr>\n",
       "      <th>421145</th>\n",
       "      <td>36</td>\n",
       "      <td>3667</td>\n",
       "      <td>366709</td>\n",
       "      <td>Private</td>\n",
       "      <td>1.0</td>\n",
       "      <td>0.0</td>\n",
       "      <td>0</td>\n",
       "      <td>0</td>\n",
       "      <td>0</td>\n",
       "      <td>0</td>\n",
       "      <td>...</td>\n",
       "      <td>Building removed</td>\n",
       "      <td>0.0</td>\n",
       "      <td>0</td>\n",
       "      <td>0</td>\n",
       "      <td>0</td>\n",
       "      <td>0</td>\n",
       "      <td>0</td>\n",
       "      <td>0</td>\n",
       "      <td>0</td>\n",
       "      <td>1.0</td>\n",
       "    </tr>\n",
       "    <tr>\n",
       "      <th>421146</th>\n",
       "      <td>36</td>\n",
       "      <td>3667</td>\n",
       "      <td>366709</td>\n",
       "      <td>Private</td>\n",
       "      <td>1.0</td>\n",
       "      <td>0.0</td>\n",
       "      <td>0</td>\n",
       "      <td>0</td>\n",
       "      <td>0</td>\n",
       "      <td>0</td>\n",
       "      <td>...</td>\n",
       "      <td>Building removed</td>\n",
       "      <td>0.0</td>\n",
       "      <td>0</td>\n",
       "      <td>0</td>\n",
       "      <td>0</td>\n",
       "      <td>0</td>\n",
       "      <td>0</td>\n",
       "      <td>0</td>\n",
       "      <td>0</td>\n",
       "      <td>1.0</td>\n",
       "    </tr>\n",
       "    <tr>\n",
       "      <th>421147</th>\n",
       "      <td>36</td>\n",
       "      <td>3667</td>\n",
       "      <td>366709</td>\n",
       "      <td>Private</td>\n",
       "      <td>1.0</td>\n",
       "      <td>0.0</td>\n",
       "      <td>0</td>\n",
       "      <td>0</td>\n",
       "      <td>0</td>\n",
       "      <td>0</td>\n",
       "      <td>...</td>\n",
       "      <td>Building removed</td>\n",
       "      <td>0.0</td>\n",
       "      <td>0</td>\n",
       "      <td>0</td>\n",
       "      <td>0</td>\n",
       "      <td>0</td>\n",
       "      <td>0</td>\n",
       "      <td>0</td>\n",
       "      <td>0</td>\n",
       "      <td>1.0</td>\n",
       "    </tr>\n",
       "    <tr>\n",
       "      <th>421148</th>\n",
       "      <td>36</td>\n",
       "      <td>3667</td>\n",
       "      <td>366709</td>\n",
       "      <td>Private</td>\n",
       "      <td>1.0</td>\n",
       "      <td>0.0</td>\n",
       "      <td>0</td>\n",
       "      <td>0</td>\n",
       "      <td>0</td>\n",
       "      <td>0</td>\n",
       "      <td>...</td>\n",
       "      <td>Building removed</td>\n",
       "      <td>0.0</td>\n",
       "      <td>0</td>\n",
       "      <td>0</td>\n",
       "      <td>0</td>\n",
       "      <td>0</td>\n",
       "      <td>0</td>\n",
       "      <td>0</td>\n",
       "      <td>0</td>\n",
       "      <td>0.0</td>\n",
       "    </tr>\n",
       "    <tr>\n",
       "      <th>421149</th>\n",
       "      <td>36</td>\n",
       "      <td>3667</td>\n",
       "      <td>366709</td>\n",
       "      <td>Private</td>\n",
       "      <td>1.0</td>\n",
       "      <td>0.0</td>\n",
       "      <td>0</td>\n",
       "      <td>0</td>\n",
       "      <td>0</td>\n",
       "      <td>0</td>\n",
       "      <td>...</td>\n",
       "      <td>Building removed</td>\n",
       "      <td>0.0</td>\n",
       "      <td>0</td>\n",
       "      <td>0</td>\n",
       "      <td>0</td>\n",
       "      <td>0</td>\n",
       "      <td>0</td>\n",
       "      <td>0</td>\n",
       "      <td>0</td>\n",
       "      <td>0.0</td>\n",
       "    </tr>\n",
       "    <tr>\n",
       "      <th>421150</th>\n",
       "      <td>36</td>\n",
       "      <td>3667</td>\n",
       "      <td>366709</td>\n",
       "      <td>Private</td>\n",
       "      <td>1.0</td>\n",
       "      <td>0.0</td>\n",
       "      <td>0</td>\n",
       "      <td>0</td>\n",
       "      <td>0</td>\n",
       "      <td>0</td>\n",
       "      <td>...</td>\n",
       "      <td>Building removed</td>\n",
       "      <td>0.0</td>\n",
       "      <td>0</td>\n",
       "      <td>0</td>\n",
       "      <td>0</td>\n",
       "      <td>0</td>\n",
       "      <td>0</td>\n",
       "      <td>0</td>\n",
       "      <td>0</td>\n",
       "      <td>1.0</td>\n",
       "    </tr>\n",
       "    <tr>\n",
       "      <th>421151</th>\n",
       "      <td>36</td>\n",
       "      <td>3667</td>\n",
       "      <td>366709</td>\n",
       "      <td>Private</td>\n",
       "      <td>1.0</td>\n",
       "      <td>0.0</td>\n",
       "      <td>0</td>\n",
       "      <td>0</td>\n",
       "      <td>0</td>\n",
       "      <td>0</td>\n",
       "      <td>...</td>\n",
       "      <td>Building removed</td>\n",
       "      <td>0.0</td>\n",
       "      <td>0</td>\n",
       "      <td>0</td>\n",
       "      <td>0</td>\n",
       "      <td>0</td>\n",
       "      <td>0</td>\n",
       "      <td>0</td>\n",
       "      <td>0</td>\n",
       "      <td>1.0</td>\n",
       "    </tr>\n",
       "    <tr>\n",
       "      <th>421152</th>\n",
       "      <td>36</td>\n",
       "      <td>3667</td>\n",
       "      <td>366709</td>\n",
       "      <td>Private</td>\n",
       "      <td>0.0</td>\n",
       "      <td>0.0</td>\n",
       "      <td>0</td>\n",
       "      <td>0</td>\n",
       "      <td>0</td>\n",
       "      <td>0</td>\n",
       "      <td>...</td>\n",
       "      <td>Building removed</td>\n",
       "      <td>0.0</td>\n",
       "      <td>0</td>\n",
       "      <td>0</td>\n",
       "      <td>0</td>\n",
       "      <td>0</td>\n",
       "      <td>0</td>\n",
       "      <td>0</td>\n",
       "      <td>0</td>\n",
       "      <td>1.0</td>\n",
       "    </tr>\n",
       "    <tr>\n",
       "      <th>421153</th>\n",
       "      <td>36</td>\n",
       "      <td>3667</td>\n",
       "      <td>366709</td>\n",
       "      <td>Private</td>\n",
       "      <td>1.0</td>\n",
       "      <td>0.0</td>\n",
       "      <td>0</td>\n",
       "      <td>0</td>\n",
       "      <td>0</td>\n",
       "      <td>0</td>\n",
       "      <td>...</td>\n",
       "      <td>Building removed</td>\n",
       "      <td>0.0</td>\n",
       "      <td>0</td>\n",
       "      <td>0</td>\n",
       "      <td>0</td>\n",
       "      <td>0</td>\n",
       "      <td>0</td>\n",
       "      <td>0</td>\n",
       "      <td>0</td>\n",
       "      <td>0.0</td>\n",
       "    </tr>\n",
       "    <tr>\n",
       "      <th>421154</th>\n",
       "      <td>36</td>\n",
       "      <td>3667</td>\n",
       "      <td>366709</td>\n",
       "      <td>Private</td>\n",
       "      <td>1.0</td>\n",
       "      <td>0.0</td>\n",
       "      <td>0</td>\n",
       "      <td>0</td>\n",
       "      <td>0</td>\n",
       "      <td>0</td>\n",
       "      <td>...</td>\n",
       "      <td>Building removed</td>\n",
       "      <td>0.0</td>\n",
       "      <td>0</td>\n",
       "      <td>0</td>\n",
       "      <td>0</td>\n",
       "      <td>0</td>\n",
       "      <td>0</td>\n",
       "      <td>0</td>\n",
       "      <td>0</td>\n",
       "      <td>0.0</td>\n",
       "    </tr>\n",
       "    <tr>\n",
       "      <th>421155</th>\n",
       "      <td>36</td>\n",
       "      <td>3667</td>\n",
       "      <td>366709</td>\n",
       "      <td>Private</td>\n",
       "      <td>1.0</td>\n",
       "      <td>1.0</td>\n",
       "      <td>0</td>\n",
       "      <td>1</td>\n",
       "      <td>0</td>\n",
       "      <td>0</td>\n",
       "      <td>...</td>\n",
       "      <td>Building removed</td>\n",
       "      <td>0.0</td>\n",
       "      <td>0</td>\n",
       "      <td>0</td>\n",
       "      <td>0</td>\n",
       "      <td>0</td>\n",
       "      <td>0</td>\n",
       "      <td>0</td>\n",
       "      <td>0</td>\n",
       "      <td>0.0</td>\n",
       "    </tr>\n",
       "    <tr>\n",
       "      <th>421156</th>\n",
       "      <td>36</td>\n",
       "      <td>3667</td>\n",
       "      <td>366709</td>\n",
       "      <td>Private</td>\n",
       "      <td>1.0</td>\n",
       "      <td>0.0</td>\n",
       "      <td>0</td>\n",
       "      <td>0</td>\n",
       "      <td>0</td>\n",
       "      <td>0</td>\n",
       "      <td>...</td>\n",
       "      <td>Building removed</td>\n",
       "      <td>0.0</td>\n",
       "      <td>0</td>\n",
       "      <td>0</td>\n",
       "      <td>0</td>\n",
       "      <td>0</td>\n",
       "      <td>0</td>\n",
       "      <td>0</td>\n",
       "      <td>0</td>\n",
       "      <td>1.0</td>\n",
       "    </tr>\n",
       "    <tr>\n",
       "      <th>421157</th>\n",
       "      <td>36</td>\n",
       "      <td>3667</td>\n",
       "      <td>366709</td>\n",
       "      <td>Private</td>\n",
       "      <td>1.0</td>\n",
       "      <td>0.0</td>\n",
       "      <td>0</td>\n",
       "      <td>0</td>\n",
       "      <td>0</td>\n",
       "      <td>0</td>\n",
       "      <td>...</td>\n",
       "      <td>Building removed</td>\n",
       "      <td>0.0</td>\n",
       "      <td>0</td>\n",
       "      <td>0</td>\n",
       "      <td>0</td>\n",
       "      <td>0</td>\n",
       "      <td>0</td>\n",
       "      <td>0</td>\n",
       "      <td>0</td>\n",
       "      <td>1.0</td>\n",
       "    </tr>\n",
       "    <tr>\n",
       "      <th>421158</th>\n",
       "      <td>36</td>\n",
       "      <td>3667</td>\n",
       "      <td>366709</td>\n",
       "      <td>Private</td>\n",
       "      <td>1.0</td>\n",
       "      <td>0.0</td>\n",
       "      <td>0</td>\n",
       "      <td>0</td>\n",
       "      <td>0</td>\n",
       "      <td>0</td>\n",
       "      <td>...</td>\n",
       "      <td>Both</td>\n",
       "      <td>0.0</td>\n",
       "      <td>0</td>\n",
       "      <td>0</td>\n",
       "      <td>0</td>\n",
       "      <td>0</td>\n",
       "      <td>0</td>\n",
       "      <td>0</td>\n",
       "      <td>0</td>\n",
       "      <td>0.0</td>\n",
       "    </tr>\n",
       "    <tr>\n",
       "      <th>421159</th>\n",
       "      <td>36</td>\n",
       "      <td>3667</td>\n",
       "      <td>366709</td>\n",
       "      <td>Private</td>\n",
       "      <td>1.0</td>\n",
       "      <td>0.0</td>\n",
       "      <td>0</td>\n",
       "      <td>0</td>\n",
       "      <td>0</td>\n",
       "      <td>0</td>\n",
       "      <td>...</td>\n",
       "      <td>Building removed</td>\n",
       "      <td>0.0</td>\n",
       "      <td>0</td>\n",
       "      <td>0</td>\n",
       "      <td>0</td>\n",
       "      <td>0</td>\n",
       "      <td>0</td>\n",
       "      <td>0</td>\n",
       "      <td>0</td>\n",
       "      <td>0.0</td>\n",
       "    </tr>\n",
       "    <tr>\n",
       "      <th>421160</th>\n",
       "      <td>36</td>\n",
       "      <td>3667</td>\n",
       "      <td>366709</td>\n",
       "      <td>Private</td>\n",
       "      <td>1.0</td>\n",
       "      <td>0.0</td>\n",
       "      <td>0</td>\n",
       "      <td>0</td>\n",
       "      <td>0</td>\n",
       "      <td>0</td>\n",
       "      <td>...</td>\n",
       "      <td>Building removed</td>\n",
       "      <td>0.0</td>\n",
       "      <td>0</td>\n",
       "      <td>0</td>\n",
       "      <td>0</td>\n",
       "      <td>0</td>\n",
       "      <td>0</td>\n",
       "      <td>0</td>\n",
       "      <td>0</td>\n",
       "      <td>1.0</td>\n",
       "    </tr>\n",
       "    <tr>\n",
       "      <th>421161</th>\n",
       "      <td>36</td>\n",
       "      <td>3667</td>\n",
       "      <td>366709</td>\n",
       "      <td>Private</td>\n",
       "      <td>1.0</td>\n",
       "      <td>0.0</td>\n",
       "      <td>0</td>\n",
       "      <td>0</td>\n",
       "      <td>0</td>\n",
       "      <td>0</td>\n",
       "      <td>...</td>\n",
       "      <td>Building removed</td>\n",
       "      <td>0.0</td>\n",
       "      <td>0</td>\n",
       "      <td>0</td>\n",
       "      <td>0</td>\n",
       "      <td>0</td>\n",
       "      <td>0</td>\n",
       "      <td>0</td>\n",
       "      <td>0</td>\n",
       "      <td>0.0</td>\n",
       "    </tr>\n",
       "    <tr>\n",
       "      <th>421162</th>\n",
       "      <td>36</td>\n",
       "      <td>3667</td>\n",
       "      <td>366709</td>\n",
       "      <td>Private</td>\n",
       "      <td>1.0</td>\n",
       "      <td>0.0</td>\n",
       "      <td>0</td>\n",
       "      <td>0</td>\n",
       "      <td>0</td>\n",
       "      <td>0</td>\n",
       "      <td>...</td>\n",
       "      <td>Building removed</td>\n",
       "      <td>0.0</td>\n",
       "      <td>0</td>\n",
       "      <td>0</td>\n",
       "      <td>0</td>\n",
       "      <td>0</td>\n",
       "      <td>0</td>\n",
       "      <td>0</td>\n",
       "      <td>0</td>\n",
       "      <td>0.0</td>\n",
       "    </tr>\n",
       "    <tr>\n",
       "      <th>421163</th>\n",
       "      <td>36</td>\n",
       "      <td>3667</td>\n",
       "      <td>366709</td>\n",
       "      <td>Private</td>\n",
       "      <td>1.0</td>\n",
       "      <td>0.0</td>\n",
       "      <td>0</td>\n",
       "      <td>0</td>\n",
       "      <td>0</td>\n",
       "      <td>0</td>\n",
       "      <td>...</td>\n",
       "      <td>Building removed</td>\n",
       "      <td>0.0</td>\n",
       "      <td>0</td>\n",
       "      <td>0</td>\n",
       "      <td>0</td>\n",
       "      <td>0</td>\n",
       "      <td>0</td>\n",
       "      <td>0</td>\n",
       "      <td>0</td>\n",
       "      <td>0.0</td>\n",
       "    </tr>\n",
       "    <tr>\n",
       "      <th>421164</th>\n",
       "      <td>36</td>\n",
       "      <td>3667</td>\n",
       "      <td>366709</td>\n",
       "      <td>Private</td>\n",
       "      <td>1.0</td>\n",
       "      <td>0.0</td>\n",
       "      <td>0</td>\n",
       "      <td>0</td>\n",
       "      <td>0</td>\n",
       "      <td>0</td>\n",
       "      <td>...</td>\n",
       "      <td>Building removed</td>\n",
       "      <td>0.0</td>\n",
       "      <td>0</td>\n",
       "      <td>0</td>\n",
       "      <td>0</td>\n",
       "      <td>0</td>\n",
       "      <td>0</td>\n",
       "      <td>0</td>\n",
       "      <td>0</td>\n",
       "      <td>1.0</td>\n",
       "    </tr>\n",
       "    <tr>\n",
       "      <th>421165</th>\n",
       "      <td>36</td>\n",
       "      <td>3667</td>\n",
       "      <td>366709</td>\n",
       "      <td>Private</td>\n",
       "      <td>1.0</td>\n",
       "      <td>0.0</td>\n",
       "      <td>0</td>\n",
       "      <td>0</td>\n",
       "      <td>0</td>\n",
       "      <td>0</td>\n",
       "      <td>...</td>\n",
       "      <td>Both</td>\n",
       "      <td>0.0</td>\n",
       "      <td>0</td>\n",
       "      <td>0</td>\n",
       "      <td>0</td>\n",
       "      <td>0</td>\n",
       "      <td>0</td>\n",
       "      <td>0</td>\n",
       "      <td>0</td>\n",
       "      <td>NaN</td>\n",
       "    </tr>\n",
       "    <tr>\n",
       "      <th>421166</th>\n",
       "      <td>36</td>\n",
       "      <td>3667</td>\n",
       "      <td>366709</td>\n",
       "      <td>Private</td>\n",
       "      <td>1.0</td>\n",
       "      <td>0.0</td>\n",
       "      <td>0</td>\n",
       "      <td>0</td>\n",
       "      <td>0</td>\n",
       "      <td>0</td>\n",
       "      <td>...</td>\n",
       "      <td>Building removed</td>\n",
       "      <td>0.0</td>\n",
       "      <td>0</td>\n",
       "      <td>0</td>\n",
       "      <td>0</td>\n",
       "      <td>0</td>\n",
       "      <td>0</td>\n",
       "      <td>0</td>\n",
       "      <td>0</td>\n",
       "      <td>1.0</td>\n",
       "    </tr>\n",
       "    <tr>\n",
       "      <th>421167</th>\n",
       "      <td>36</td>\n",
       "      <td>3667</td>\n",
       "      <td>366709</td>\n",
       "      <td>Private</td>\n",
       "      <td>1.0</td>\n",
       "      <td>0.0</td>\n",
       "      <td>0</td>\n",
       "      <td>0</td>\n",
       "      <td>0</td>\n",
       "      <td>0</td>\n",
       "      <td>...</td>\n",
       "      <td>Building removed</td>\n",
       "      <td>0.0</td>\n",
       "      <td>0</td>\n",
       "      <td>0</td>\n",
       "      <td>0</td>\n",
       "      <td>0</td>\n",
       "      <td>0</td>\n",
       "      <td>0</td>\n",
       "      <td>0</td>\n",
       "      <td>0.0</td>\n",
       "    </tr>\n",
       "    <tr>\n",
       "      <th>421168</th>\n",
       "      <td>36</td>\n",
       "      <td>3667</td>\n",
       "      <td>366709</td>\n",
       "      <td>Private</td>\n",
       "      <td>1.0</td>\n",
       "      <td>0.0</td>\n",
       "      <td>0</td>\n",
       "      <td>0</td>\n",
       "      <td>0</td>\n",
       "      <td>0</td>\n",
       "      <td>...</td>\n",
       "      <td>Building removed</td>\n",
       "      <td>0.0</td>\n",
       "      <td>0</td>\n",
       "      <td>0</td>\n",
       "      <td>0</td>\n",
       "      <td>0</td>\n",
       "      <td>0</td>\n",
       "      <td>0</td>\n",
       "      <td>0</td>\n",
       "      <td>0.0</td>\n",
       "    </tr>\n",
       "    <tr>\n",
       "      <th>421169</th>\n",
       "      <td>36</td>\n",
       "      <td>3667</td>\n",
       "      <td>366709</td>\n",
       "      <td>Private</td>\n",
       "      <td>1.0</td>\n",
       "      <td>0.0</td>\n",
       "      <td>0</td>\n",
       "      <td>0</td>\n",
       "      <td>0</td>\n",
       "      <td>0</td>\n",
       "      <td>...</td>\n",
       "      <td>Building removed</td>\n",
       "      <td>0.0</td>\n",
       "      <td>0</td>\n",
       "      <td>0</td>\n",
       "      <td>0</td>\n",
       "      <td>0</td>\n",
       "      <td>0</td>\n",
       "      <td>0</td>\n",
       "      <td>0</td>\n",
       "      <td>0.0</td>\n",
       "    </tr>\n",
       "    <tr>\n",
       "      <th>421170</th>\n",
       "      <td>36</td>\n",
       "      <td>3667</td>\n",
       "      <td>366709</td>\n",
       "      <td>Private</td>\n",
       "      <td>1.0</td>\n",
       "      <td>0.0</td>\n",
       "      <td>0</td>\n",
       "      <td>0</td>\n",
       "      <td>0</td>\n",
       "      <td>0</td>\n",
       "      <td>...</td>\n",
       "      <td>Building removed</td>\n",
       "      <td>0.0</td>\n",
       "      <td>0</td>\n",
       "      <td>0</td>\n",
       "      <td>0</td>\n",
       "      <td>0</td>\n",
       "      <td>0</td>\n",
       "      <td>0</td>\n",
       "      <td>0</td>\n",
       "      <td>0.0</td>\n",
       "    </tr>\n",
       "    <tr>\n",
       "      <th>421171</th>\n",
       "      <td>36</td>\n",
       "      <td>3667</td>\n",
       "      <td>366709</td>\n",
       "      <td>Private</td>\n",
       "      <td>1.0</td>\n",
       "      <td>0.0</td>\n",
       "      <td>0</td>\n",
       "      <td>0</td>\n",
       "      <td>0</td>\n",
       "      <td>0</td>\n",
       "      <td>...</td>\n",
       "      <td>Building removed</td>\n",
       "      <td>0.0</td>\n",
       "      <td>0</td>\n",
       "      <td>0</td>\n",
       "      <td>0</td>\n",
       "      <td>0</td>\n",
       "      <td>0</td>\n",
       "      <td>0</td>\n",
       "      <td>0</td>\n",
       "      <td>1.0</td>\n",
       "    </tr>\n",
       "    <tr>\n",
       "      <th>421172</th>\n",
       "      <td>36</td>\n",
       "      <td>3667</td>\n",
       "      <td>366709</td>\n",
       "      <td>Private</td>\n",
       "      <td>1.0</td>\n",
       "      <td>0.0</td>\n",
       "      <td>0</td>\n",
       "      <td>0</td>\n",
       "      <td>0</td>\n",
       "      <td>0</td>\n",
       "      <td>...</td>\n",
       "      <td>Both</td>\n",
       "      <td>0.0</td>\n",
       "      <td>0</td>\n",
       "      <td>0</td>\n",
       "      <td>0</td>\n",
       "      <td>0</td>\n",
       "      <td>0</td>\n",
       "      <td>0</td>\n",
       "      <td>0</td>\n",
       "      <td>NaN</td>\n",
       "    </tr>\n",
       "    <tr>\n",
       "      <th>421173</th>\n",
       "      <td>36</td>\n",
       "      <td>3667</td>\n",
       "      <td>366709</td>\n",
       "      <td>Private</td>\n",
       "      <td>1.0</td>\n",
       "      <td>0.0</td>\n",
       "      <td>0</td>\n",
       "      <td>0</td>\n",
       "      <td>0</td>\n",
       "      <td>0</td>\n",
       "      <td>...</td>\n",
       "      <td>Building removed</td>\n",
       "      <td>0.0</td>\n",
       "      <td>0</td>\n",
       "      <td>0</td>\n",
       "      <td>0</td>\n",
       "      <td>0</td>\n",
       "      <td>0</td>\n",
       "      <td>0</td>\n",
       "      <td>0</td>\n",
       "      <td>0.0</td>\n",
       "    </tr>\n",
       "    <tr>\n",
       "      <th>421174</th>\n",
       "      <td>36</td>\n",
       "      <td>3667</td>\n",
       "      <td>366709</td>\n",
       "      <td>Private</td>\n",
       "      <td>1.0</td>\n",
       "      <td>0.0</td>\n",
       "      <td>0</td>\n",
       "      <td>0</td>\n",
       "      <td>0</td>\n",
       "      <td>0</td>\n",
       "      <td>...</td>\n",
       "      <td>Building removed</td>\n",
       "      <td>0.0</td>\n",
       "      <td>0</td>\n",
       "      <td>0</td>\n",
       "      <td>0</td>\n",
       "      <td>0</td>\n",
       "      <td>0</td>\n",
       "      <td>0</td>\n",
       "      <td>0</td>\n",
       "      <td>0.0</td>\n",
       "    </tr>\n",
       "  </tbody>\n",
       "</table>\n",
       "<p>421175 rows × 50 columns</p>\n",
       "</div>"
      ],
      "text/plain": [
       "        district_id_x  vdcmun_id_x  ward_id_x legal_ownership_status  \\\n",
       "0                   7          701      70102                Private   \n",
       "1                   7          701      70103                Private   \n",
       "2                   7          701      70103                Private   \n",
       "3                   7          701      70106                Private   \n",
       "4                   7          701      70107                Private   \n",
       "5                   7          701      70107                Private   \n",
       "6                   7          701      70107                Private   \n",
       "7                   7          701      70109                Private   \n",
       "8                   7          701      70109                Private   \n",
       "9                   7          701      70109                Private   \n",
       "10                  7          701      70109                Private   \n",
       "11                  7          702      70201                Private   \n",
       "12                  7          702      70201                Private   \n",
       "13                  7          702      70202                Private   \n",
       "14                  7          702      70203                Private   \n",
       "15                  7          702      70203                Private   \n",
       "16                  7          702      70204                Private   \n",
       "17                  7          702      70204                Private   \n",
       "18                  7          702      70204                Private   \n",
       "19                  7          702      70205                Private   \n",
       "20                  7          702      70206                Private   \n",
       "21                  7          702      70206                Private   \n",
       "22                  7          703      70301                Private   \n",
       "23                  7          702      70207                Private   \n",
       "24                  7          702      70207                Private   \n",
       "25                  7          702      70207                Private   \n",
       "26                  7          702      70208                Private   \n",
       "27                  7          702      70208                Private   \n",
       "28                  7          702      70208                Private   \n",
       "29                  7          702      70208                Private   \n",
       "...               ...          ...        ...                    ...   \n",
       "421145             36         3667     366709                Private   \n",
       "421146             36         3667     366709                Private   \n",
       "421147             36         3667     366709                Private   \n",
       "421148             36         3667     366709                Private   \n",
       "421149             36         3667     366709                Private   \n",
       "421150             36         3667     366709                Private   \n",
       "421151             36         3667     366709                Private   \n",
       "421152             36         3667     366709                Private   \n",
       "421153             36         3667     366709                Private   \n",
       "421154             36         3667     366709                Private   \n",
       "421155             36         3667     366709                Private   \n",
       "421156             36         3667     366709                Private   \n",
       "421157             36         3667     366709                Private   \n",
       "421158             36         3667     366709                Private   \n",
       "421159             36         3667     366709                Private   \n",
       "421160             36         3667     366709                Private   \n",
       "421161             36         3667     366709                Private   \n",
       "421162             36         3667     366709                Private   \n",
       "421163             36         3667     366709                Private   \n",
       "421164             36         3667     366709                Private   \n",
       "421165             36         3667     366709                Private   \n",
       "421166             36         3667     366709                Private   \n",
       "421167             36         3667     366709                Private   \n",
       "421168             36         3667     366709                Private   \n",
       "421169             36         3667     366709                Private   \n",
       "421170             36         3667     366709                Private   \n",
       "421171             36         3667     366709                Private   \n",
       "421172             36         3667     366709                Private   \n",
       "421173             36         3667     366709                Private   \n",
       "421174             36         3667     366709                Private   \n",
       "\n",
       "        count_families  has_secondary_use  has_secondary_use_agriculture  \\\n",
       "0                  1.0                0.0                              0   \n",
       "1                  1.0                0.0                              0   \n",
       "2                  1.0                0.0                              0   \n",
       "3                  1.0                0.0                              0   \n",
       "4                  1.0                0.0                              0   \n",
       "5                  1.0                0.0                              0   \n",
       "6                  1.0                0.0                              0   \n",
       "7                  1.0                0.0                              0   \n",
       "8                  1.0                0.0                              0   \n",
       "9                  1.0                0.0                              0   \n",
       "10                 1.0                0.0                              0   \n",
       "11                 1.0                0.0                              0   \n",
       "12                 1.0                0.0                              0   \n",
       "13                 1.0                0.0                              0   \n",
       "14                 1.0                0.0                              0   \n",
       "15                 1.0                0.0                              0   \n",
       "16                 1.0                0.0                              0   \n",
       "17                 1.0                0.0                              0   \n",
       "18                 1.0                0.0                              0   \n",
       "19                 1.0                0.0                              0   \n",
       "20                 1.0                0.0                              0   \n",
       "21                 1.0                0.0                              0   \n",
       "22                 1.0                0.0                              0   \n",
       "23                 1.0                0.0                              0   \n",
       "24                 1.0                0.0                              0   \n",
       "25                 1.0                0.0                              0   \n",
       "26                 1.0                0.0                              0   \n",
       "27                 1.0                0.0                              0   \n",
       "28                 1.0                0.0                              0   \n",
       "29                 1.0                0.0                              0   \n",
       "...                ...                ...                            ...   \n",
       "421145             1.0                0.0                              0   \n",
       "421146             1.0                0.0                              0   \n",
       "421147             1.0                0.0                              0   \n",
       "421148             1.0                0.0                              0   \n",
       "421149             1.0                0.0                              0   \n",
       "421150             1.0                0.0                              0   \n",
       "421151             1.0                0.0                              0   \n",
       "421152             0.0                0.0                              0   \n",
       "421153             1.0                0.0                              0   \n",
       "421154             1.0                0.0                              0   \n",
       "421155             1.0                1.0                              0   \n",
       "421156             1.0                0.0                              0   \n",
       "421157             1.0                0.0                              0   \n",
       "421158             1.0                0.0                              0   \n",
       "421159             1.0                0.0                              0   \n",
       "421160             1.0                0.0                              0   \n",
       "421161             1.0                0.0                              0   \n",
       "421162             1.0                0.0                              0   \n",
       "421163             1.0                0.0                              0   \n",
       "421164             1.0                0.0                              0   \n",
       "421165             1.0                0.0                              0   \n",
       "421166             1.0                0.0                              0   \n",
       "421167             1.0                0.0                              0   \n",
       "421168             1.0                0.0                              0   \n",
       "421169             1.0                0.0                              0   \n",
       "421170             1.0                0.0                              0   \n",
       "421171             1.0                0.0                              0   \n",
       "421172             1.0                0.0                              0   \n",
       "421173             1.0                0.0                              0   \n",
       "421174             1.0                0.0                              0   \n",
       "\n",
       "        has_secondary_use_hotel  has_secondary_use_rental  \\\n",
       "0                             0                         0   \n",
       "1                             0                         0   \n",
       "2                             0                         0   \n",
       "3                             0                         0   \n",
       "4                             0                         0   \n",
       "5                             0                         0   \n",
       "6                             0                         0   \n",
       "7                             0                         0   \n",
       "8                             0                         0   \n",
       "9                             0                         0   \n",
       "10                            0                         0   \n",
       "11                            0                         0   \n",
       "12                            0                         0   \n",
       "13                            0                         0   \n",
       "14                            0                         0   \n",
       "15                            0                         0   \n",
       "16                            0                         0   \n",
       "17                            0                         0   \n",
       "18                            0                         0   \n",
       "19                            0                         0   \n",
       "20                            0                         0   \n",
       "21                            0                         0   \n",
       "22                            0                         0   \n",
       "23                            0                         0   \n",
       "24                            0                         0   \n",
       "25                            0                         0   \n",
       "26                            0                         0   \n",
       "27                            0                         0   \n",
       "28                            0                         0   \n",
       "29                            0                         0   \n",
       "...                         ...                       ...   \n",
       "421145                        0                         0   \n",
       "421146                        0                         0   \n",
       "421147                        0                         0   \n",
       "421148                        0                         0   \n",
       "421149                        0                         0   \n",
       "421150                        0                         0   \n",
       "421151                        0                         0   \n",
       "421152                        0                         0   \n",
       "421153                        0                         0   \n",
       "421154                        0                         0   \n",
       "421155                        1                         0   \n",
       "421156                        0                         0   \n",
       "421157                        0                         0   \n",
       "421158                        0                         0   \n",
       "421159                        0                         0   \n",
       "421160                        0                         0   \n",
       "421161                        0                         0   \n",
       "421162                        0                         0   \n",
       "421163                        0                         0   \n",
       "421164                        0                         0   \n",
       "421165                        0                         0   \n",
       "421166                        0                         0   \n",
       "421167                        0                         0   \n",
       "421168                        0                         0   \n",
       "421169                        0                         0   \n",
       "421170                        0                         0   \n",
       "421171                        0                         0   \n",
       "421172                        0                         0   \n",
       "421173                        0                         0   \n",
       "421174                        0                         0   \n",
       "\n",
       "        has_secondary_use_institution         ...              area_assesed  \\\n",
       "0                                   0         ...                      Both   \n",
       "1                                   0         ...                      Both   \n",
       "2                                   0         ...          Building removed   \n",
       "3                                   0         ...                      Both   \n",
       "4                                   0         ...          Building removed   \n",
       "5                                   0         ...                      Both   \n",
       "6                                   0         ...                      Both   \n",
       "7                                   0         ...          Building removed   \n",
       "8                                   0         ...                      Both   \n",
       "9                                   0         ...                      Both   \n",
       "10                                  0         ...                      Both   \n",
       "11                                  0         ...                      Both   \n",
       "12                                  0         ...                      Both   \n",
       "13                                  0         ...                      Both   \n",
       "14                                  0         ...                      Both   \n",
       "15                                  0         ...                      Both   \n",
       "16                                  0         ...                      Both   \n",
       "17                                  0         ...                      Both   \n",
       "18                                  0         ...                      Both   \n",
       "19                                  0         ...                      Both   \n",
       "20                                  0         ...                      Both   \n",
       "21                                  0         ...                      Both   \n",
       "22                                  0         ...                      Both   \n",
       "23                                  0         ...                      Both   \n",
       "24                                  0         ...          Building removed   \n",
       "25                                  0         ...                      Both   \n",
       "26                                  0         ...                      Both   \n",
       "27                                  0         ...                      Both   \n",
       "28                                  0         ...                      Both   \n",
       "29                                  0         ...                      Both   \n",
       "...                               ...         ...                       ...   \n",
       "421145                              0         ...          Building removed   \n",
       "421146                              0         ...          Building removed   \n",
       "421147                              0         ...          Building removed   \n",
       "421148                              0         ...          Building removed   \n",
       "421149                              0         ...          Building removed   \n",
       "421150                              0         ...          Building removed   \n",
       "421151                              0         ...          Building removed   \n",
       "421152                              0         ...          Building removed   \n",
       "421153                              0         ...          Building removed   \n",
       "421154                              0         ...          Building removed   \n",
       "421155                              0         ...          Building removed   \n",
       "421156                              0         ...          Building removed   \n",
       "421157                              0         ...          Building removed   \n",
       "421158                              0         ...                      Both   \n",
       "421159                              0         ...          Building removed   \n",
       "421160                              0         ...          Building removed   \n",
       "421161                              0         ...          Building removed   \n",
       "421162                              0         ...          Building removed   \n",
       "421163                              0         ...          Building removed   \n",
       "421164                              0         ...          Building removed   \n",
       "421165                              0         ...                      Both   \n",
       "421166                              0         ...          Building removed   \n",
       "421167                              0         ...          Building removed   \n",
       "421168                              0         ...          Building removed   \n",
       "421169                              0         ...          Building removed   \n",
       "421170                              0         ...          Building removed   \n",
       "421171                              0         ...          Building removed   \n",
       "421172                              0         ...                      Both   \n",
       "421173                              0         ...          Building removed   \n",
       "421174                              0         ...          Building removed   \n",
       "\n",
       "        has_geotechnical_risk  has_geotechnical_risk_fault_crack  \\\n",
       "0                         0.0                                  0   \n",
       "1                         0.0                                  0   \n",
       "2                         0.0                                  0   \n",
       "3                         0.0                                  0   \n",
       "4                         0.0                                  0   \n",
       "5                         0.0                                  0   \n",
       "6                         0.0                                  0   \n",
       "7                         0.0                                  0   \n",
       "8                         0.0                                  0   \n",
       "9                         0.0                                  0   \n",
       "10                        0.0                                  0   \n",
       "11                        0.0                                  0   \n",
       "12                        0.0                                  0   \n",
       "13                        0.0                                  0   \n",
       "14                        0.0                                  0   \n",
       "15                        0.0                                  0   \n",
       "16                        0.0                                  0   \n",
       "17                        0.0                                  0   \n",
       "18                        0.0                                  0   \n",
       "19                        0.0                                  0   \n",
       "20                        0.0                                  0   \n",
       "21                        0.0                                  0   \n",
       "22                        0.0                                  0   \n",
       "23                        0.0                                  0   \n",
       "24                        0.0                                  0   \n",
       "25                        0.0                                  0   \n",
       "26                        0.0                                  0   \n",
       "27                        0.0                                  0   \n",
       "28                        0.0                                  0   \n",
       "29                        0.0                                  0   \n",
       "...                       ...                                ...   \n",
       "421145                    0.0                                  0   \n",
       "421146                    0.0                                  0   \n",
       "421147                    0.0                                  0   \n",
       "421148                    0.0                                  0   \n",
       "421149                    0.0                                  0   \n",
       "421150                    0.0                                  0   \n",
       "421151                    0.0                                  0   \n",
       "421152                    0.0                                  0   \n",
       "421153                    0.0                                  0   \n",
       "421154                    0.0                                  0   \n",
       "421155                    0.0                                  0   \n",
       "421156                    0.0                                  0   \n",
       "421157                    0.0                                  0   \n",
       "421158                    0.0                                  0   \n",
       "421159                    0.0                                  0   \n",
       "421160                    0.0                                  0   \n",
       "421161                    0.0                                  0   \n",
       "421162                    0.0                                  0   \n",
       "421163                    0.0                                  0   \n",
       "421164                    0.0                                  0   \n",
       "421165                    0.0                                  0   \n",
       "421166                    0.0                                  0   \n",
       "421167                    0.0                                  0   \n",
       "421168                    0.0                                  0   \n",
       "421169                    0.0                                  0   \n",
       "421170                    0.0                                  0   \n",
       "421171                    0.0                                  0   \n",
       "421172                    0.0                                  0   \n",
       "421173                    0.0                                  0   \n",
       "421174                    0.0                                  0   \n",
       "\n",
       "        has_geotechnical_risk_flood  has_geotechnical_risk_land_settlement  \\\n",
       "0                                 0                                      0   \n",
       "1                                 0                                      0   \n",
       "2                                 0                                      0   \n",
       "3                                 0                                      0   \n",
       "4                                 0                                      0   \n",
       "5                                 0                                      0   \n",
       "6                                 0                                      0   \n",
       "7                                 0                                      0   \n",
       "8                                 0                                      0   \n",
       "9                                 0                                      0   \n",
       "10                                0                                      0   \n",
       "11                                0                                      0   \n",
       "12                                0                                      0   \n",
       "13                                0                                      0   \n",
       "14                                0                                      0   \n",
       "15                                0                                      0   \n",
       "16                                0                                      0   \n",
       "17                                0                                      0   \n",
       "18                                0                                      0   \n",
       "19                                0                                      0   \n",
       "20                                0                                      0   \n",
       "21                                0                                      0   \n",
       "22                                0                                      0   \n",
       "23                                0                                      0   \n",
       "24                                0                                      0   \n",
       "25                                0                                      0   \n",
       "26                                0                                      0   \n",
       "27                                0                                      0   \n",
       "28                                0                                      0   \n",
       "29                                0                                      0   \n",
       "...                             ...                                    ...   \n",
       "421145                            0                                      0   \n",
       "421146                            0                                      0   \n",
       "421147                            0                                      0   \n",
       "421148                            0                                      0   \n",
       "421149                            0                                      0   \n",
       "421150                            0                                      0   \n",
       "421151                            0                                      0   \n",
       "421152                            0                                      0   \n",
       "421153                            0                                      0   \n",
       "421154                            0                                      0   \n",
       "421155                            0                                      0   \n",
       "421156                            0                                      0   \n",
       "421157                            0                                      0   \n",
       "421158                            0                                      0   \n",
       "421159                            0                                      0   \n",
       "421160                            0                                      0   \n",
       "421161                            0                                      0   \n",
       "421162                            0                                      0   \n",
       "421163                            0                                      0   \n",
       "421164                            0                                      0   \n",
       "421165                            0                                      0   \n",
       "421166                            0                                      0   \n",
       "421167                            0                                      0   \n",
       "421168                            0                                      0   \n",
       "421169                            0                                      0   \n",
       "421170                            0                                      0   \n",
       "421171                            0                                      0   \n",
       "421172                            0                                      0   \n",
       "421173                            0                                      0   \n",
       "421174                            0                                      0   \n",
       "\n",
       "        has_geotechnical_risk_landslide  has_geotechnical_risk_liquefaction  \\\n",
       "0                                     0                                   0   \n",
       "1                                     0                                   0   \n",
       "2                                     0                                   0   \n",
       "3                                     0                                   0   \n",
       "4                                     0                                   0   \n",
       "5                                     0                                   0   \n",
       "6                                     0                                   0   \n",
       "7                                     0                                   0   \n",
       "8                                     0                                   0   \n",
       "9                                     0                                   0   \n",
       "10                                    0                                   0   \n",
       "11                                    0                                   0   \n",
       "12                                    0                                   0   \n",
       "13                                    0                                   0   \n",
       "14                                    0                                   0   \n",
       "15                                    0                                   0   \n",
       "16                                    0                                   0   \n",
       "17                                    0                                   0   \n",
       "18                                    0                                   0   \n",
       "19                                    0                                   0   \n",
       "20                                    0                                   0   \n",
       "21                                    0                                   0   \n",
       "22                                    0                                   0   \n",
       "23                                    0                                   0   \n",
       "24                                    0                                   0   \n",
       "25                                    0                                   0   \n",
       "26                                    0                                   0   \n",
       "27                                    0                                   0   \n",
       "28                                    0                                   0   \n",
       "29                                    0                                   0   \n",
       "...                                 ...                                 ...   \n",
       "421145                                0                                   0   \n",
       "421146                                0                                   0   \n",
       "421147                                0                                   0   \n",
       "421148                                0                                   0   \n",
       "421149                                0                                   0   \n",
       "421150                                0                                   0   \n",
       "421151                                0                                   0   \n",
       "421152                                0                                   0   \n",
       "421153                                0                                   0   \n",
       "421154                                0                                   0   \n",
       "421155                                0                                   0   \n",
       "421156                                0                                   0   \n",
       "421157                                0                                   0   \n",
       "421158                                0                                   0   \n",
       "421159                                0                                   0   \n",
       "421160                                0                                   0   \n",
       "421161                                0                                   0   \n",
       "421162                                0                                   0   \n",
       "421163                                0                                   0   \n",
       "421164                                0                                   0   \n",
       "421165                                0                                   0   \n",
       "421166                                0                                   0   \n",
       "421167                                0                                   0   \n",
       "421168                                0                                   0   \n",
       "421169                                0                                   0   \n",
       "421170                                0                                   0   \n",
       "421171                                0                                   0   \n",
       "421172                                0                                   0   \n",
       "421173                                0                                   0   \n",
       "421174                                0                                   0   \n",
       "\n",
       "        has_geotechnical_risk_other  has_geotechnical_risk_rock_fall  \\\n",
       "0                                 0                                0   \n",
       "1                                 0                                0   \n",
       "2                                 0                                0   \n",
       "3                                 0                                0   \n",
       "4                                 0                                0   \n",
       "5                                 0                                0   \n",
       "6                                 0                                0   \n",
       "7                                 0                                0   \n",
       "8                                 0                                0   \n",
       "9                                 0                                0   \n",
       "10                                0                                0   \n",
       "11                                0                                0   \n",
       "12                                0                                0   \n",
       "13                                0                                0   \n",
       "14                                0                                0   \n",
       "15                                0                                0   \n",
       "16                                0                                0   \n",
       "17                                0                                0   \n",
       "18                                0                                0   \n",
       "19                                0                                0   \n",
       "20                                0                                0   \n",
       "21                                0                                0   \n",
       "22                                0                                0   \n",
       "23                                0                                0   \n",
       "24                                0                                0   \n",
       "25                                0                                0   \n",
       "26                                0                                0   \n",
       "27                                0                                0   \n",
       "28                                0                                0   \n",
       "29                                0                                0   \n",
       "...                             ...                              ...   \n",
       "421145                            0                                0   \n",
       "421146                            0                                0   \n",
       "421147                            0                                0   \n",
       "421148                            0                                0   \n",
       "421149                            0                                0   \n",
       "421150                            0                                0   \n",
       "421151                            0                                0   \n",
       "421152                            0                                0   \n",
       "421153                            0                                0   \n",
       "421154                            0                                0   \n",
       "421155                            0                                0   \n",
       "421156                            0                                0   \n",
       "421157                            0                                0   \n",
       "421158                            0                                0   \n",
       "421159                            0                                0   \n",
       "421160                            0                                0   \n",
       "421161                            0                                0   \n",
       "421162                            0                                0   \n",
       "421163                            0                                0   \n",
       "421164                            0                                0   \n",
       "421165                            0                                0   \n",
       "421166                            0                                0   \n",
       "421167                            0                                0   \n",
       "421168                            0                                0   \n",
       "421169                            0                                0   \n",
       "421170                            0                                0   \n",
       "421171                            0                                0   \n",
       "421172                            0                                0   \n",
       "421173                            0                                0   \n",
       "421174                            0                                0   \n",
       "\n",
       "        has_repair_started  \n",
       "0                      1.0  \n",
       "1                      1.0  \n",
       "2                      1.0  \n",
       "3                      1.0  \n",
       "4                      1.0  \n",
       "5                      0.0  \n",
       "6                      1.0  \n",
       "7                      1.0  \n",
       "8                      1.0  \n",
       "9                      1.0  \n",
       "10                     1.0  \n",
       "11                     1.0  \n",
       "12                     1.0  \n",
       "13                     1.0  \n",
       "14                     1.0  \n",
       "15                     1.0  \n",
       "16                     1.0  \n",
       "17                     1.0  \n",
       "18                     1.0  \n",
       "19                     1.0  \n",
       "20                     1.0  \n",
       "21                     1.0  \n",
       "22                     1.0  \n",
       "23                     1.0  \n",
       "24                     1.0  \n",
       "25                     1.0  \n",
       "26                     1.0  \n",
       "27                     1.0  \n",
       "28                     1.0  \n",
       "29                     1.0  \n",
       "...                    ...  \n",
       "421145                 1.0  \n",
       "421146                 1.0  \n",
       "421147                 1.0  \n",
       "421148                 0.0  \n",
       "421149                 0.0  \n",
       "421150                 1.0  \n",
       "421151                 1.0  \n",
       "421152                 1.0  \n",
       "421153                 0.0  \n",
       "421154                 0.0  \n",
       "421155                 0.0  \n",
       "421156                 1.0  \n",
       "421157                 1.0  \n",
       "421158                 0.0  \n",
       "421159                 0.0  \n",
       "421160                 1.0  \n",
       "421161                 0.0  \n",
       "421162                 0.0  \n",
       "421163                 0.0  \n",
       "421164                 1.0  \n",
       "421165                 NaN  \n",
       "421166                 1.0  \n",
       "421167                 0.0  \n",
       "421168                 0.0  \n",
       "421169                 0.0  \n",
       "421170                 0.0  \n",
       "421171                 1.0  \n",
       "421172                 NaN  \n",
       "421173                 0.0  \n",
       "421174                 0.0  \n",
       "\n",
       "[421175 rows x 50 columns]"
      ]
     },
     "execution_count": 154,
     "metadata": {
      "tags": []
     },
     "output_type": "execute_result"
    }
   ],
   "source": [
    "res_train.drop(['has_secondary_use_use_police','building_id'], axis = 1)\n",
    "res_test.drop(['has_secondary_use_use_police','building_id'], axis = 1)"
   ]
  },
  {
   "cell_type": "code",
   "execution_count": 155,
   "metadata": {
    "_uuid": "c318d9045effe1bb472d1a2b2d3e4d607a9d09d0",
    "colab": {
     "base_uri": "https://localhost:8080/",
     "height": 158
    },
    "colab_type": "code",
    "id": "QJJNSWcQfzI2",
    "outputId": "accbd1f3-ce12-4e9e-9743-e088cc275def"
   },
   "outputs": [
    {
     "data": {
      "text/plain": [
       "['building_id',\n",
       " 'district_id_x',\n",
       " 'vdcmun_id_x',\n",
       " 'ward_id_x',\n",
       " 'age_building',\n",
       " 'plinth_area_sq_ft',\n",
       " 'height_ft_pre_eq',\n",
       " 'height_ft_post_eq']"
      ]
     },
     "execution_count": 155,
     "metadata": {
      "tags": []
     },
     "output_type": "execute_result"
    }
   ],
   "source": [
    "cont = [c for c in res_train if len(res_train[c].unique()) > 15]\n",
    "cont"
   ]
  },
  {
   "cell_type": "code",
   "execution_count": 0,
   "metadata": {
    "_uuid": "0cdf691b5c7aa88a642f18a6a8ab969ffd59a82b",
    "colab": {},
    "colab_type": "code",
    "id": "9jodr_tefzI5"
   },
   "outputs": [],
   "source": [
    "indices = 0,1,2,3\n",
    "cont = [i for j, i in enumerate(cont) if j not in indices]"
   ]
  },
  {
   "cell_type": "code",
   "execution_count": 157,
   "metadata": {
    "colab": {
     "base_uri": "https://localhost:8080/",
     "height": 34
    },
    "colab_type": "code",
    "id": "J5_mB5iaH3Th",
    "outputId": "47eab063-4a18-4deb-d328-89bda405320a"
   },
   "outputs": [
    {
     "data": {
      "text/plain": [
       "['age_building', 'plinth_area_sq_ft', 'height_ft_pre_eq', 'height_ft_post_eq']"
      ]
     },
     "execution_count": 157,
     "metadata": {
      "tags": []
     },
     "output_type": "execute_result"
    }
   ],
   "source": [
    "cont"
   ]
  },
  {
   "cell_type": "code",
   "execution_count": 0,
   "metadata": {
    "colab": {},
    "colab_type": "code",
    "id": "yKAU018TH3SQ"
   },
   "outputs": [],
   "source": [
    "def hist_cont(cont, res_train):\n",
    "  nd = pd.melt(res_train, value_vars = cont)\n",
    "  n1 = sns.FacetGrid (nd, col='variable', col_wrap=4, sharex=False, sharey = False)\n",
    "  n1 = n1.map(sns.distplot, 'value')\n",
    "  \n",
    "  return n1"
   ]
  },
  {
   "cell_type": "code",
   "execution_count": 159,
   "metadata": {
    "colab": {
     "base_uri": "https://localhost:8080/",
     "height": 299
    },
    "colab_type": "code",
    "id": "zNt5hJ2td3MH",
    "outputId": "300bf586-2ce8-4313-d86d-84dd31d11b74"
   },
   "outputs": [
    {
     "name": "stderr",
     "output_type": "stream",
     "text": [
      "/usr/local/lib/python3.6/dist-packages/matplotlib/axes/_axes.py:6521: MatplotlibDeprecationWarning: \n",
      "The 'normed' kwarg was deprecated in Matplotlib 2.1 and will be removed in 3.1. Use 'density' instead.\n",
      "  alternative=\"'density'\", removal=\"3.1\")\n"
     ]
    },
    {
     "data": {
      "text/plain": [
       "<seaborn.axisgrid.FacetGrid at 0x7f98cc419d30>"
      ]
     },
     "execution_count": 159,
     "metadata": {
      "tags": []
     },
     "output_type": "execute_result"
    },
    {
     "data": {
      "image/png": "[encoded data removed]",
      "text/plain": [
       "<Figure size 864x216 with 4 Axes>"
      ]
     },
     "metadata": {
      "tags": []
     },
     "output_type": "display_data"
    }
   ],
   "source": [
    "hist_cont(cont,res_train)"
   ]
  },
  {
   "cell_type": "code",
   "execution_count": 0,
   "metadata": {
    "colab": {},
    "colab_type": "code",
    "id": "HUy8eQ9m9ZzA"
   },
   "outputs": [],
   "source": []
  },
  {
   "cell_type": "markdown",
   "metadata": {
    "colab_type": "text",
    "id": "vMXKFDWkYaB9"
   },
   "source": [
    "Data Transformation "
   ]
  },
  {
   "cell_type": "code",
   "execution_count": 160,
   "metadata": {
    "colab": {
     "base_uri": "https://localhost:8080/",
     "height": 105
    },
    "colab_type": "code",
    "id": "qUefCVw9H3Px",
    "outputId": "5c25801a-2420-479f-8f3e-e9c46a18b9cc"
   },
   "outputs": [
    {
     "name": "stdout",
     "output_type": "stream",
     "text": [
      "age_building         12.356254\n",
      "plinth_area_sq_ft     3.611024\n",
      "height_ft_pre_eq      2.024236\n",
      "height_ft_post_eq     0.485025\n",
      "dtype: float64\n"
     ]
    }
   ],
   "source": [
    "from scipy.stats import skew\n",
    "skewed = res_train[cont].apply(lambda x: skew(x.dropna().astype(float)))\n",
    "print(skewed)\n",
    "skewed = skewed[skewed > 0.30]\n",
    "skewed = skewed.index\n",
    "res_train[skewed] = np.log1p(res_train[skewed])\n",
    "res_test[skewed] = np.log1p(res_test[skewed])\n"
   ]
  },
  {
   "cell_type": "code",
   "execution_count": 0,
   "metadata": {
    "colab": {},
    "colab_type": "code",
    "id": "vyw08oGyPhig"
   },
   "outputs": [],
   "source": []
  },
  {
   "cell_type": "code",
   "execution_count": 161,
   "metadata": {
    "colab": {
     "base_uri": "https://localhost:8080/",
     "height": 299
    },
    "colab_type": "code",
    "id": "6z1Y4IoqH3JC",
    "outputId": "f06ec505-f97b-4d5d-b016-b56fcd7f23c4"
   },
   "outputs": [
    {
     "name": "stderr",
     "output_type": "stream",
     "text": [
      "/usr/local/lib/python3.6/dist-packages/matplotlib/axes/_axes.py:6521: MatplotlibDeprecationWarning: \n",
      "The 'normed' kwarg was deprecated in Matplotlib 2.1 and will be removed in 3.1. Use 'density' instead.\n",
      "  alternative=\"'density'\", removal=\"3.1\")\n"
     ]
    },
    {
     "data": {
      "text/plain": [
       "<seaborn.axisgrid.FacetGrid at 0x7f98cbf9acf8>"
      ]
     },
     "execution_count": 161,
     "metadata": {
      "tags": []
     },
     "output_type": "execute_result"
    },
    {
     "data": {
      "image/png": "[encoded data removed]",
      "text/plain": [
       "<Figure size 864x216 with 4 Axes>"
      ]
     },
     "metadata": {
      "tags": []
     },
     "output_type": "display_data"
    }
   ],
   "source": [
    "hist_cont(cont,res_train)"
   ]
  },
  {
   "cell_type": "code",
   "execution_count": 0,
   "metadata": {
    "colab": {},
    "colab_type": "code",
    "id": "BIHmbCts9TfS"
   },
   "outputs": [],
   "source": []
  },
  {
   "cell_type": "markdown",
   "metadata": {
    "colab_type": "text",
    "id": "TU7fwI6s2Cm0"
   },
   "source": [
    "Feature Engineering"
   ]
  },
  {
   "cell_type": "code",
   "execution_count": 0,
   "metadata": {
    "colab": {},
    "colab_type": "code",
    "id": "OfvPosUnH3Di"
   },
   "outputs": [],
   "source": [
    "def calculateDistribution(cat, res_train):\n",
    "  for c in cat:\n",
    "    print(c)\n",
    "    print((res_train[c].value_counts())/ len(res_train[c]))\n",
    "    print(\" \")"
   ]
  },
  {
   "cell_type": "code",
   "execution_count": 163,
   "metadata": {
    "colab": {
     "base_uri": "https://localhost:8080/",
     "height": 1442
    },
    "colab_type": "code",
    "id": "zb8bqVeAzSz9",
    "outputId": "82af2ded-6e6f-4be2-8b6e-9e88183465d0"
   },
   "outputs": [
    {
     "name": "stdout",
     "output_type": "stream",
     "text": [
      "legal_ownership_status\n",
      "Private          0.962939\n",
      "Public           0.021294\n",
      "Institutional    0.009940\n",
      "Other            0.005827\n",
      "Name: legal_ownership_status, dtype: float64\n",
      " \n",
      "land_surface_condition\n",
      "Flat              0.830164\n",
      "Moderate slope    0.137870\n",
      "Steep slope       0.031966\n",
      "Name: land_surface_condition, dtype: float64\n",
      " \n",
      "foundation_type\n",
      "Mud mortar-Stone/Brick    0.841331\n",
      "Bamboo/Timber             0.057590\n",
      "Cement-Stone/Brick        0.054574\n",
      "RC                        0.040962\n",
      "Other                     0.005543\n",
      "Name: foundation_type, dtype: float64\n",
      " \n",
      "roof_type\n",
      "Bamboo/Timber-Light roof    0.701973\n",
      "Bamboo/Timber-Heavy roof    0.235493\n",
      "RCC/RB/RBC                  0.062535\n",
      "Name: roof_type, dtype: float64\n",
      " \n",
      "ground_floor_type\n",
      "Mud            0.804121\n",
      "Brick/Stone    0.095558\n",
      "RC             0.094446\n",
      "Timber         0.003902\n",
      "Other          0.001974\n",
      "Name: ground_floor_type, dtype: float64\n",
      " \n",
      "other_floor_type\n",
      "TImber/Bamboo-Mud    0.632353\n",
      "Timber-Planck        0.168374\n",
      "Not applicable       0.152426\n",
      "RCC/RB/RBC           0.046847\n",
      "Name: other_floor_type, dtype: float64\n",
      " \n",
      "position\n",
      "Not attached       0.774600\n",
      "Attached-1 side    0.165042\n",
      "Attached-2 side    0.051155\n",
      "Attached-3 side    0.009203\n",
      "Name: position, dtype: float64\n",
      " \n",
      "plan_configuration\n",
      "Rectangular                        0.959290\n",
      "Square                             0.021969\n",
      "L-shape                            0.014263\n",
      "Multi-projected                    0.001309\n",
      "T-shape                            0.001208\n",
      "Others                             0.000966\n",
      "U-shape                            0.000562\n",
      "Building with Central Courtyard    0.000180\n",
      "E-shape                            0.000158\n",
      "H-shape                            0.000095\n",
      "Name: plan_configuration, dtype: float64\n",
      " \n",
      "condition_post_eq\n",
      "Damaged-Not used                           0.236775\n",
      "Damaged-Repaired and used                  0.200019\n",
      "Damaged-Used in risk                       0.178522\n",
      "Damaged-Rubble unclear                     0.138196\n",
      "Damaged-Rubble clear                       0.125818\n",
      "Not damaged                                0.068388\n",
      "Damaged-Rubble Clear-New building built    0.051846\n",
      "Covered by landslide                       0.000437\n",
      "Name: condition_post_eq, dtype: float64\n",
      " \n",
      "area_assesed\n",
      "Both                   0.606229\n",
      "Building removed       0.207905\n",
      "Exterior               0.156752\n",
      "Not able to inspect    0.026236\n",
      "Interior               0.002878\n",
      "Name: area_assesed, dtype: float64\n",
      " \n"
     ]
    }
   ],
   "source": [
    "calculateDistribution(cat,res_train)"
   ]
  },
  {
   "cell_type": "code",
   "execution_count": 164,
   "metadata": {
    "colab": {
     "base_uri": "https://localhost:8080/",
     "height": 244
    },
    "colab_type": "code",
    "id": "3B-KwqOzH29e",
    "outputId": "95417df3-e850-4a42-8227-dad41b8cbad8"
   },
   "outputs": [
    {
     "data": {
      "text/html": [
       "<div>\n",
       "<style scoped>\n",
       "    .dataframe tbody tr th:only-of-type {\n",
       "        vertical-align: middle;\n",
       "    }\n",
       "\n",
       "    .dataframe tbody tr th {\n",
       "        vertical-align: top;\n",
       "    }\n",
       "\n",
       "    .dataframe thead th {\n",
       "        text-align: right;\n",
       "    }\n",
       "</style>\n",
       "<table border=\"1\" class=\"dataframe\">\n",
       "  <thead>\n",
       "    <tr style=\"text-align: right;\">\n",
       "      <th></th>\n",
       "      <th>building_id</th>\n",
       "      <th>district_id_x</th>\n",
       "      <th>vdcmun_id_x</th>\n",
       "      <th>ward_id_x</th>\n",
       "      <th>legal_ownership_status</th>\n",
       "      <th>count_families</th>\n",
       "      <th>has_secondary_use</th>\n",
       "      <th>has_secondary_use_agriculture</th>\n",
       "      <th>has_secondary_use_hotel</th>\n",
       "      <th>has_secondary_use_rental</th>\n",
       "      <th>...</th>\n",
       "      <th>damage_grade</th>\n",
       "      <th>has_geotechnical_risk</th>\n",
       "      <th>has_geotechnical_risk_fault_crack</th>\n",
       "      <th>has_geotechnical_risk_flood</th>\n",
       "      <th>has_geotechnical_risk_land_settlement</th>\n",
       "      <th>has_geotechnical_risk_landslide</th>\n",
       "      <th>has_geotechnical_risk_liquefaction</th>\n",
       "      <th>has_geotechnical_risk_other</th>\n",
       "      <th>has_geotechnical_risk_rock_fall</th>\n",
       "      <th>has_repair_started</th>\n",
       "    </tr>\n",
       "  </thead>\n",
       "  <tbody>\n",
       "    <tr>\n",
       "      <th>0</th>\n",
       "      <td>a3380c4fd9</td>\n",
       "      <td>7</td>\n",
       "      <td>701</td>\n",
       "      <td>70102</td>\n",
       "      <td>Private</td>\n",
       "      <td>1.0</td>\n",
       "      <td>0.0</td>\n",
       "      <td>0</td>\n",
       "      <td>0</td>\n",
       "      <td>0</td>\n",
       "      <td>...</td>\n",
       "      <td>2</td>\n",
       "      <td>0.0</td>\n",
       "      <td>0</td>\n",
       "      <td>0</td>\n",
       "      <td>0</td>\n",
       "      <td>0</td>\n",
       "      <td>0</td>\n",
       "      <td>0</td>\n",
       "      <td>0</td>\n",
       "      <td>1.0</td>\n",
       "    </tr>\n",
       "    <tr>\n",
       "      <th>1</th>\n",
       "      <td>a3380c503e</td>\n",
       "      <td>7</td>\n",
       "      <td>701</td>\n",
       "      <td>70102</td>\n",
       "      <td>Private</td>\n",
       "      <td>1.0</td>\n",
       "      <td>0.0</td>\n",
       "      <td>0</td>\n",
       "      <td>0</td>\n",
       "      <td>0</td>\n",
       "      <td>...</td>\n",
       "      <td>3</td>\n",
       "      <td>0.0</td>\n",
       "      <td>0</td>\n",
       "      <td>0</td>\n",
       "      <td>0</td>\n",
       "      <td>0</td>\n",
       "      <td>0</td>\n",
       "      <td>0</td>\n",
       "      <td>0</td>\n",
       "      <td>1.0</td>\n",
       "    </tr>\n",
       "    <tr>\n",
       "      <th>2</th>\n",
       "      <td>a338a4e5f2</td>\n",
       "      <td>7</td>\n",
       "      <td>701</td>\n",
       "      <td>70103</td>\n",
       "      <td>Private</td>\n",
       "      <td>1.0</td>\n",
       "      <td>0.0</td>\n",
       "      <td>0</td>\n",
       "      <td>0</td>\n",
       "      <td>0</td>\n",
       "      <td>...</td>\n",
       "      <td>3</td>\n",
       "      <td>0.0</td>\n",
       "      <td>0</td>\n",
       "      <td>0</td>\n",
       "      <td>0</td>\n",
       "      <td>0</td>\n",
       "      <td>0</td>\n",
       "      <td>0</td>\n",
       "      <td>0</td>\n",
       "      <td>1.0</td>\n",
       "    </tr>\n",
       "    <tr>\n",
       "      <th>3</th>\n",
       "      <td>a338a4e71f</td>\n",
       "      <td>7</td>\n",
       "      <td>701</td>\n",
       "      <td>70103</td>\n",
       "      <td>Private</td>\n",
       "      <td>1.0</td>\n",
       "      <td>0.0</td>\n",
       "      <td>0</td>\n",
       "      <td>0</td>\n",
       "      <td>0</td>\n",
       "      <td>...</td>\n",
       "      <td>4</td>\n",
       "      <td>0.0</td>\n",
       "      <td>0</td>\n",
       "      <td>0</td>\n",
       "      <td>0</td>\n",
       "      <td>0</td>\n",
       "      <td>0</td>\n",
       "      <td>0</td>\n",
       "      <td>0</td>\n",
       "      <td>1.0</td>\n",
       "    </tr>\n",
       "    <tr>\n",
       "      <th>4</th>\n",
       "      <td>a339d612f3</td>\n",
       "      <td>7</td>\n",
       "      <td>701</td>\n",
       "      <td>70105</td>\n",
       "      <td>Private</td>\n",
       "      <td>1.0</td>\n",
       "      <td>0.0</td>\n",
       "      <td>0</td>\n",
       "      <td>0</td>\n",
       "      <td>0</td>\n",
       "      <td>...</td>\n",
       "      <td>3</td>\n",
       "      <td>0.0</td>\n",
       "      <td>0</td>\n",
       "      <td>0</td>\n",
       "      <td>0</td>\n",
       "      <td>0</td>\n",
       "      <td>0</td>\n",
       "      <td>0</td>\n",
       "      <td>0</td>\n",
       "      <td>1.0</td>\n",
       "    </tr>\n",
       "  </tbody>\n",
       "</table>\n",
       "<p>5 rows × 53 columns</p>\n",
       "</div>"
      ],
      "text/plain": [
       "  building_id  district_id_x  vdcmun_id_x  ward_id_x legal_ownership_status  \\\n",
       "0  a3380c4fd9              7          701      70102                Private   \n",
       "1  a3380c503e              7          701      70102                Private   \n",
       "2  a338a4e5f2              7          701      70103                Private   \n",
       "3  a338a4e71f              7          701      70103                Private   \n",
       "4  a339d612f3              7          701      70105                Private   \n",
       "\n",
       "   count_families  has_secondary_use  has_secondary_use_agriculture  \\\n",
       "0             1.0                0.0                              0   \n",
       "1             1.0                0.0                              0   \n",
       "2             1.0                0.0                              0   \n",
       "3             1.0                0.0                              0   \n",
       "4             1.0                0.0                              0   \n",
       "\n",
       "   has_secondary_use_hotel  has_secondary_use_rental         ...          \\\n",
       "0                        0                         0         ...           \n",
       "1                        0                         0         ...           \n",
       "2                        0                         0         ...           \n",
       "3                        0                         0         ...           \n",
       "4                        0                         0         ...           \n",
       "\n",
       "   damage_grade  has_geotechnical_risk  has_geotechnical_risk_fault_crack  \\\n",
       "0             2                    0.0                                  0   \n",
       "1             3                    0.0                                  0   \n",
       "2             3                    0.0                                  0   \n",
       "3             4                    0.0                                  0   \n",
       "4             3                    0.0                                  0   \n",
       "\n",
       "   has_geotechnical_risk_flood  has_geotechnical_risk_land_settlement  \\\n",
       "0                            0                                      0   \n",
       "1                            0                                      0   \n",
       "2                            0                                      0   \n",
       "3                            0                                      0   \n",
       "4                            0                                      0   \n",
       "\n",
       "   has_geotechnical_risk_landslide  has_geotechnical_risk_liquefaction  \\\n",
       "0                                0                                   0   \n",
       "1                                0                                   0   \n",
       "2                                0                                   0   \n",
       "3                                0                                   0   \n",
       "4                                0                                   0   \n",
       "\n",
       "   has_geotechnical_risk_other  has_geotechnical_risk_rock_fall  \\\n",
       "0                            0                                0   \n",
       "1                            0                                0   \n",
       "2                            0                                0   \n",
       "3                            0                                0   \n",
       "4                            0                                0   \n",
       "\n",
       "   has_repair_started  \n",
       "0                 1.0  \n",
       "1                 1.0  \n",
       "2                 1.0  \n",
       "3                 1.0  \n",
       "4                 1.0  \n",
       "\n",
       "[5 rows x 53 columns]"
      ]
     },
     "execution_count": 164,
     "metadata": {
      "tags": []
     },
     "output_type": "execute_result"
    }
   ],
   "source": [
    "res_train_copy = res_train\n",
    "res_train_copy.head()"
   ]
  },
  {
   "cell_type": "code",
   "execution_count": 165,
   "metadata": {
    "colab": {
     "base_uri": "https://localhost:8080/",
     "height": 278
    },
    "colab_type": "code",
    "id": "JjvXmfgC5epv",
    "outputId": "0f8edce8-ed62-46d4-ea70-a7de012d4970"
   },
   "outputs": [
    {
     "data": {
      "text/html": [
       "<div>\n",
       "<style scoped>\n",
       "    .dataframe tbody tr th:only-of-type {\n",
       "        vertical-align: middle;\n",
       "    }\n",
       "\n",
       "    .dataframe tbody tr th {\n",
       "        vertical-align: top;\n",
       "    }\n",
       "\n",
       "    .dataframe thead th {\n",
       "        text-align: right;\n",
       "    }\n",
       "</style>\n",
       "<table border=\"1\" class=\"dataframe\">\n",
       "  <thead>\n",
       "    <tr style=\"text-align: right;\">\n",
       "      <th></th>\n",
       "      <th>building_id</th>\n",
       "      <th>district_id_x</th>\n",
       "      <th>vdcmun_id_x</th>\n",
       "      <th>ward_id_x</th>\n",
       "      <th>legal_ownership_status</th>\n",
       "      <th>count_families</th>\n",
       "      <th>has_secondary_use</th>\n",
       "      <th>has_secondary_use_agriculture</th>\n",
       "      <th>has_secondary_use_hotel</th>\n",
       "      <th>has_secondary_use_rental</th>\n",
       "      <th>...</th>\n",
       "      <th>area_assesed</th>\n",
       "      <th>has_geotechnical_risk</th>\n",
       "      <th>has_geotechnical_risk_fault_crack</th>\n",
       "      <th>has_geotechnical_risk_flood</th>\n",
       "      <th>has_geotechnical_risk_land_settlement</th>\n",
       "      <th>has_geotechnical_risk_landslide</th>\n",
       "      <th>has_geotechnical_risk_liquefaction</th>\n",
       "      <th>has_geotechnical_risk_other</th>\n",
       "      <th>has_geotechnical_risk_rock_fall</th>\n",
       "      <th>has_repair_started</th>\n",
       "    </tr>\n",
       "  </thead>\n",
       "  <tbody>\n",
       "    <tr>\n",
       "      <th>0</th>\n",
       "      <td>a3380c4f75</td>\n",
       "      <td>7</td>\n",
       "      <td>701</td>\n",
       "      <td>70102</td>\n",
       "      <td>Private</td>\n",
       "      <td>1.0</td>\n",
       "      <td>0.0</td>\n",
       "      <td>0</td>\n",
       "      <td>0</td>\n",
       "      <td>0</td>\n",
       "      <td>...</td>\n",
       "      <td>Both</td>\n",
       "      <td>0.0</td>\n",
       "      <td>0</td>\n",
       "      <td>0</td>\n",
       "      <td>0</td>\n",
       "      <td>0</td>\n",
       "      <td>0</td>\n",
       "      <td>0</td>\n",
       "      <td>0</td>\n",
       "      <td>1.0</td>\n",
       "    </tr>\n",
       "    <tr>\n",
       "      <th>1</th>\n",
       "      <td>a338a4e653</td>\n",
       "      <td>7</td>\n",
       "      <td>701</td>\n",
       "      <td>70103</td>\n",
       "      <td>Private</td>\n",
       "      <td>1.0</td>\n",
       "      <td>0.0</td>\n",
       "      <td>0</td>\n",
       "      <td>0</td>\n",
       "      <td>0</td>\n",
       "      <td>...</td>\n",
       "      <td>Both</td>\n",
       "      <td>0.0</td>\n",
       "      <td>0</td>\n",
       "      <td>0</td>\n",
       "      <td>0</td>\n",
       "      <td>0</td>\n",
       "      <td>0</td>\n",
       "      <td>0</td>\n",
       "      <td>0</td>\n",
       "      <td>1.0</td>\n",
       "    </tr>\n",
       "    <tr>\n",
       "      <th>2</th>\n",
       "      <td>a338a4e6b7</td>\n",
       "      <td>7</td>\n",
       "      <td>701</td>\n",
       "      <td>70103</td>\n",
       "      <td>Private</td>\n",
       "      <td>1.0</td>\n",
       "      <td>0.0</td>\n",
       "      <td>0</td>\n",
       "      <td>0</td>\n",
       "      <td>0</td>\n",
       "      <td>...</td>\n",
       "      <td>Building removed</td>\n",
       "      <td>0.0</td>\n",
       "      <td>0</td>\n",
       "      <td>0</td>\n",
       "      <td>0</td>\n",
       "      <td>0</td>\n",
       "      <td>0</td>\n",
       "      <td>0</td>\n",
       "      <td>0</td>\n",
       "      <td>1.0</td>\n",
       "    </tr>\n",
       "    <tr>\n",
       "      <th>3</th>\n",
       "      <td>a33a6eaa3a</td>\n",
       "      <td>7</td>\n",
       "      <td>701</td>\n",
       "      <td>70106</td>\n",
       "      <td>Private</td>\n",
       "      <td>1.0</td>\n",
       "      <td>0.0</td>\n",
       "      <td>0</td>\n",
       "      <td>0</td>\n",
       "      <td>0</td>\n",
       "      <td>...</td>\n",
       "      <td>Both</td>\n",
       "      <td>0.0</td>\n",
       "      <td>0</td>\n",
       "      <td>0</td>\n",
       "      <td>0</td>\n",
       "      <td>0</td>\n",
       "      <td>0</td>\n",
       "      <td>0</td>\n",
       "      <td>0</td>\n",
       "      <td>1.0</td>\n",
       "    </tr>\n",
       "    <tr>\n",
       "      <th>4</th>\n",
       "      <td>a33b073ff6</td>\n",
       "      <td>7</td>\n",
       "      <td>701</td>\n",
       "      <td>70107</td>\n",
       "      <td>Private</td>\n",
       "      <td>1.0</td>\n",
       "      <td>0.0</td>\n",
       "      <td>0</td>\n",
       "      <td>0</td>\n",
       "      <td>0</td>\n",
       "      <td>...</td>\n",
       "      <td>Building removed</td>\n",
       "      <td>0.0</td>\n",
       "      <td>0</td>\n",
       "      <td>0</td>\n",
       "      <td>0</td>\n",
       "      <td>0</td>\n",
       "      <td>0</td>\n",
       "      <td>0</td>\n",
       "      <td>0</td>\n",
       "      <td>1.0</td>\n",
       "    </tr>\n",
       "  </tbody>\n",
       "</table>\n",
       "<p>5 rows × 52 columns</p>\n",
       "</div>"
      ],
      "text/plain": [
       "  building_id  district_id_x  vdcmun_id_x  ward_id_x legal_ownership_status  \\\n",
       "0  a3380c4f75              7          701      70102                Private   \n",
       "1  a338a4e653              7          701      70103                Private   \n",
       "2  a338a4e6b7              7          701      70103                Private   \n",
       "3  a33a6eaa3a              7          701      70106                Private   \n",
       "4  a33b073ff6              7          701      70107                Private   \n",
       "\n",
       "   count_families  has_secondary_use  has_secondary_use_agriculture  \\\n",
       "0             1.0                0.0                              0   \n",
       "1             1.0                0.0                              0   \n",
       "2             1.0                0.0                              0   \n",
       "3             1.0                0.0                              0   \n",
       "4             1.0                0.0                              0   \n",
       "\n",
       "   has_secondary_use_hotel  has_secondary_use_rental         ...          \\\n",
       "0                        0                         0         ...           \n",
       "1                        0                         0         ...           \n",
       "2                        0                         0         ...           \n",
       "3                        0                         0         ...           \n",
       "4                        0                         0         ...           \n",
       "\n",
       "       area_assesed  has_geotechnical_risk  has_geotechnical_risk_fault_crack  \\\n",
       "0              Both                    0.0                                  0   \n",
       "1              Both                    0.0                                  0   \n",
       "2  Building removed                    0.0                                  0   \n",
       "3              Both                    0.0                                  0   \n",
       "4  Building removed                    0.0                                  0   \n",
       "\n",
       "   has_geotechnical_risk_flood  has_geotechnical_risk_land_settlement  \\\n",
       "0                            0                                      0   \n",
       "1                            0                                      0   \n",
       "2                            0                                      0   \n",
       "3                            0                                      0   \n",
       "4                            0                                      0   \n",
       "\n",
       "   has_geotechnical_risk_landslide  has_geotechnical_risk_liquefaction  \\\n",
       "0                                0                                   0   \n",
       "1                                0                                   0   \n",
       "2                                0                                   0   \n",
       "3                                0                                   0   \n",
       "4                                0                                   0   \n",
       "\n",
       "   has_geotechnical_risk_other  has_geotechnical_risk_rock_fall  \\\n",
       "0                            0                                0   \n",
       "1                            0                                0   \n",
       "2                            0                                0   \n",
       "3                            0                                0   \n",
       "4                            0                                0   \n",
       "\n",
       "   has_repair_started  \n",
       "0                 1.0  \n",
       "1                 1.0  \n",
       "2                 1.0  \n",
       "3                 1.0  \n",
       "4                 1.0  \n",
       "\n",
       "[5 rows x 52 columns]"
      ]
     },
     "execution_count": 165,
     "metadata": {
      "tags": []
     },
     "output_type": "execute_result"
    }
   ],
   "source": [
    "res_test_copy = res_test\n",
    "res_test_copy.head()"
   ]
  },
  {
   "cell_type": "code",
   "execution_count": 0,
   "metadata": {
    "colab": {},
    "colab_type": "code",
    "id": "-WM2bewn5eyc"
   },
   "outputs": [],
   "source": [
    "#Legal Ownership Status\n",
    "# Private          0.962939\n",
    "# Public           0.021294\n",
    "# Institutional    0.009940\n",
    "# Other            0.005827\n",
    "\n",
    "res_train_copy['IsPrivate'] = (res_train_copy[\"legal_ownership_status\"] == \"Private\") * 1 \n",
    "res_test_copy['IsPrivate'] = (res_test_copy[\"legal_ownership_status\"] == \"Private\") * 1 \n"
   ]
  },
  {
   "cell_type": "code",
   "execution_count": 0,
   "metadata": {
    "colab": {},
    "colab_type": "code",
    "id": "efE0t15i5e2j"
   },
   "outputs": [],
   "source": [
    "#land_surface_condition\n",
    "# Flat              0.830164\n",
    "# Moderate slope    0.137870\n",
    "# Steep slope       0.031966\n",
    "res_train_copy['IsFlat'] = (res_train_copy[\"land_surface_condition\"] == \"Flat\") * 1\n",
    "res_test_copy['IsFlat'] = (res_test_copy[\"land_surface_condition\"] == \"Flat\") * 1"
   ]
  },
  {
   "cell_type": "code",
   "execution_count": 0,
   "metadata": {
    "colab": {},
    "colab_type": "code",
    "id": "QkCf9hBp5e9P"
   },
   "outputs": [],
   "source": [
    "# foundation_type\n",
    "# Mud mortar-Stone/Brick    0.841331\n",
    "# Bamboo/Timber             0.057590\n",
    "# Cement-Stone/Brick        0.054574\n",
    "# RC                        0.040962\n",
    "# Other                     0.005543\n",
    "\n",
    "res_train_copy['IsMudFoundation'] = (res_train_copy[\"foundation_type\"] == \"Mud mortar-Stone/Brick\") * 1\n",
    "res_test_copy['IsMudFoundation'] = (res_test_copy[\"foundation_type\"] == \"Mud mortar-Stone/Brick\") * 1"
   ]
  },
  {
   "cell_type": "code",
   "execution_count": 0,
   "metadata": {
    "colab": {},
    "colab_type": "code",
    "id": "bwlJ144P5fBD"
   },
   "outputs": [],
   "source": [
    "# roof_type\n",
    "# Bamboo/Timber-Light roof    0.701973\n",
    "# Bamboo/Timber-Heavy roof    0.235493\n",
    "# RCC/RB/RBC                  0.062535\n",
    "res_train_copy['IsBambooRoofLight'] = (res_train_copy[\"roof_type\"] == \"Bamboo/Timber-Light roof\") * 1\n",
    "res_test_copy['IsBambooRoofLight'] = (res_test_copy[\"roof_type\"] == \"Bamboo/Timber-Light roof\") * 1"
   ]
  },
  {
   "cell_type": "code",
   "execution_count": 0,
   "metadata": {
    "colab": {},
    "colab_type": "code",
    "id": "azneDiuX5evw"
   },
   "outputs": [],
   "source": [
    "# ground_floor_type\n",
    "# Mud            0.804121\n",
    "# Brick/Stone    0.095558\n",
    "# RC             0.094446\n",
    "# Timber         0.003902\n",
    "# Other          0.001974\n",
    "res_train_copy['IsFloorTypeMud'] = (res_train_copy[\"ground_floor_type\"] == \"Mud\") * 1\n",
    "res_test_copy['IsFloorTypeMud'] = (res_test_copy[\"ground_floor_type\"] == \"Mud\") * 1\n"
   ]
  },
  {
   "cell_type": "code",
   "execution_count": 0,
   "metadata": {
    "colab": {},
    "colab_type": "code",
    "id": "4q15Fjrg5etr"
   },
   "outputs": [],
   "source": [
    "# other_floor_type\n",
    "# TImber/Bamboo-Mud    0.632353\n",
    "# Timber-Planck        0.168374\n",
    "# Not applicable       0.152426\n",
    "# RCC/RB/RBC           0.046847\n",
    "res_train_copy['OtherFloorTypeMud'] = (res_train_copy[\"other_floor_type\"] == \"TImber/Bamboo-Mud\") * 1\n",
    "res_test_copy['OtherFloorTypeMud'] = (res_test_copy[\"other_floor_type\"] == \"TImber/Bamboo-Mud\") * 1"
   ]
  },
  {
   "cell_type": "code",
   "execution_count": 0,
   "metadata": {
    "colab": {},
    "colab_type": "code",
    "id": "-HTREDpMH219"
   },
   "outputs": [],
   "source": [
    "# position\n",
    "# Not attached       0.774600\n",
    "# Attached-1 side    0.165042\n",
    "# Attached-2 side    0.051155\n",
    "# Attached-3 side    0.009203\n",
    "\n",
    "res_train_copy['IsNotAttached'] = (res_train_copy[\"position\"] == \"Not attached\") * 1\n",
    "res_test_copy['IsNotAttached'] = (res_test_copy[\"position\"] == \"Not attached\") * 1"
   ]
  },
  {
   "cell_type": "code",
   "execution_count": 0,
   "metadata": {
    "colab": {},
    "colab_type": "code",
    "id": "xcAeYXZLP8g_"
   },
   "outputs": [],
   "source": [
    "# plan_configuration\n",
    "# Rectangular                        0.959290\n",
    "# Square                             0.021969\n",
    "# L-shape                            0.014263\n",
    "# Multi-projected                    0.001309\n",
    "# T-shape                            0.001208\n",
    "# Others                             0.000966\n",
    "# U-shape                            0.000562\n",
    "# Building with Central Courtyard    0.000180\n",
    "# E-shape                            0.000158\n",
    "# H-shape                            0.000095\n",
    "res_train_copy['IsPlanConfigRectangular'] = (res_train_copy[\"plan_configuration\"] == \"Rectangular\") * 1\n",
    "res_test_copy['IsPlanConfigRectangular'] = (res_test_copy[\"plan_configuration\"] == \"Rectangular\") * 1"
   ]
  },
  {
   "cell_type": "code",
   "execution_count": 0,
   "metadata": {
    "colab": {},
    "colab_type": "code",
    "id": "AOpL-M__P8mz"
   },
   "outputs": [],
   "source": [
    "res_train_copy['count_floors_change'] = (res_train_copy['count_floors_post_eq'] - res_train_copy['count_floors_pre_eq'])\n",
    "res_train_copy['height_ft_change'] = (res_train_copy['height_ft_post_eq'] - res_train_copy['height_ft_pre_eq'])\n",
    "res_test_copy['count_floors_change'] = (res_test_copy['count_floors_post_eq'] - res_test_copy['count_floors_pre_eq'])\n",
    "res_test_copy['height_ft_change'] = (res_test_copy['height_ft_post_eq'] - res_test_copy['height_ft_pre_eq'])"
   ]
  },
  {
   "cell_type": "code",
   "execution_count": 0,
   "metadata": {
    "colab": {},
    "colab_type": "code",
    "id": "95rKBY8QQEYS"
   },
   "outputs": [],
   "source": []
  },
  {
   "cell_type": "code",
   "execution_count": 175,
   "metadata": {
    "colab": {
     "base_uri": "https://localhost:8080/",
     "height": 244
    },
    "colab_type": "code",
    "id": "WgNmUFUxP8rY",
    "outputId": "cc98b510-8673-472a-e3fe-f3376f5cd026"
   },
   "outputs": [
    {
     "data": {
      "text/html": [
       "<div>\n",
       "<style scoped>\n",
       "    .dataframe tbody tr th:only-of-type {\n",
       "        vertical-align: middle;\n",
       "    }\n",
       "\n",
       "    .dataframe tbody tr th {\n",
       "        vertical-align: top;\n",
       "    }\n",
       "\n",
       "    .dataframe thead th {\n",
       "        text-align: right;\n",
       "    }\n",
       "</style>\n",
       "<table border=\"1\" class=\"dataframe\">\n",
       "  <thead>\n",
       "    <tr style=\"text-align: right;\">\n",
       "      <th></th>\n",
       "      <th>building_id</th>\n",
       "      <th>district_id_x</th>\n",
       "      <th>vdcmun_id_x</th>\n",
       "      <th>ward_id_x</th>\n",
       "      <th>legal_ownership_status</th>\n",
       "      <th>count_families</th>\n",
       "      <th>has_secondary_use</th>\n",
       "      <th>has_secondary_use_agriculture</th>\n",
       "      <th>has_secondary_use_hotel</th>\n",
       "      <th>has_secondary_use_rental</th>\n",
       "      <th>...</th>\n",
       "      <th>IsPrivate</th>\n",
       "      <th>IsFlat</th>\n",
       "      <th>IsMudFoundation</th>\n",
       "      <th>IsBambooRoofLight</th>\n",
       "      <th>IsFloorTypeMud</th>\n",
       "      <th>OtherFloorTypeMud</th>\n",
       "      <th>IsNotAttached</th>\n",
       "      <th>IsPlanConfigRectangular</th>\n",
       "      <th>count_floors_change</th>\n",
       "      <th>height_ft_change</th>\n",
       "    </tr>\n",
       "  </thead>\n",
       "  <tbody>\n",
       "    <tr>\n",
       "      <th>0</th>\n",
       "      <td>a3380c4fd9</td>\n",
       "      <td>7</td>\n",
       "      <td>701</td>\n",
       "      <td>70102</td>\n",
       "      <td>Private</td>\n",
       "      <td>1.0</td>\n",
       "      <td>0.0</td>\n",
       "      <td>0</td>\n",
       "      <td>0</td>\n",
       "      <td>0</td>\n",
       "      <td>...</td>\n",
       "      <td>1</td>\n",
       "      <td>0</td>\n",
       "      <td>1</td>\n",
       "      <td>1</td>\n",
       "      <td>1</td>\n",
       "      <td>0</td>\n",
       "      <td>0</td>\n",
       "      <td>1</td>\n",
       "      <td>0</td>\n",
       "      <td>0.0</td>\n",
       "    </tr>\n",
       "    <tr>\n",
       "      <th>1</th>\n",
       "      <td>a3380c503e</td>\n",
       "      <td>7</td>\n",
       "      <td>701</td>\n",
       "      <td>70102</td>\n",
       "      <td>Private</td>\n",
       "      <td>1.0</td>\n",
       "      <td>0.0</td>\n",
       "      <td>0</td>\n",
       "      <td>0</td>\n",
       "      <td>0</td>\n",
       "      <td>...</td>\n",
       "      <td>1</td>\n",
       "      <td>0</td>\n",
       "      <td>1</td>\n",
       "      <td>1</td>\n",
       "      <td>1</td>\n",
       "      <td>1</td>\n",
       "      <td>0</td>\n",
       "      <td>1</td>\n",
       "      <td>0</td>\n",
       "      <td>0.0</td>\n",
       "    </tr>\n",
       "    <tr>\n",
       "      <th>2</th>\n",
       "      <td>a338a4e5f2</td>\n",
       "      <td>7</td>\n",
       "      <td>701</td>\n",
       "      <td>70103</td>\n",
       "      <td>Private</td>\n",
       "      <td>1.0</td>\n",
       "      <td>0.0</td>\n",
       "      <td>0</td>\n",
       "      <td>0</td>\n",
       "      <td>0</td>\n",
       "      <td>...</td>\n",
       "      <td>1</td>\n",
       "      <td>0</td>\n",
       "      <td>1</td>\n",
       "      <td>1</td>\n",
       "      <td>1</td>\n",
       "      <td>1</td>\n",
       "      <td>0</td>\n",
       "      <td>1</td>\n",
       "      <td>0</td>\n",
       "      <td>0.0</td>\n",
       "    </tr>\n",
       "    <tr>\n",
       "      <th>3</th>\n",
       "      <td>a338a4e71f</td>\n",
       "      <td>7</td>\n",
       "      <td>701</td>\n",
       "      <td>70103</td>\n",
       "      <td>Private</td>\n",
       "      <td>1.0</td>\n",
       "      <td>0.0</td>\n",
       "      <td>0</td>\n",
       "      <td>0</td>\n",
       "      <td>0</td>\n",
       "      <td>...</td>\n",
       "      <td>1</td>\n",
       "      <td>0</td>\n",
       "      <td>1</td>\n",
       "      <td>1</td>\n",
       "      <td>1</td>\n",
       "      <td>0</td>\n",
       "      <td>0</td>\n",
       "      <td>1</td>\n",
       "      <td>0</td>\n",
       "      <td>0.0</td>\n",
       "    </tr>\n",
       "    <tr>\n",
       "      <th>4</th>\n",
       "      <td>a339d612f3</td>\n",
       "      <td>7</td>\n",
       "      <td>701</td>\n",
       "      <td>70105</td>\n",
       "      <td>Private</td>\n",
       "      <td>1.0</td>\n",
       "      <td>0.0</td>\n",
       "      <td>0</td>\n",
       "      <td>0</td>\n",
       "      <td>0</td>\n",
       "      <td>...</td>\n",
       "      <td>1</td>\n",
       "      <td>0</td>\n",
       "      <td>1</td>\n",
       "      <td>1</td>\n",
       "      <td>1</td>\n",
       "      <td>0</td>\n",
       "      <td>0</td>\n",
       "      <td>1</td>\n",
       "      <td>0</td>\n",
       "      <td>0.0</td>\n",
       "    </tr>\n",
       "  </tbody>\n",
       "</table>\n",
       "<p>5 rows × 63 columns</p>\n",
       "</div>"
      ],
      "text/plain": [
       "  building_id  district_id_x  vdcmun_id_x  ward_id_x legal_ownership_status  \\\n",
       "0  a3380c4fd9              7          701      70102                Private   \n",
       "1  a3380c503e              7          701      70102                Private   \n",
       "2  a338a4e5f2              7          701      70103                Private   \n",
       "3  a338a4e71f              7          701      70103                Private   \n",
       "4  a339d612f3              7          701      70105                Private   \n",
       "\n",
       "   count_families  has_secondary_use  has_secondary_use_agriculture  \\\n",
       "0             1.0                0.0                              0   \n",
       "1             1.0                0.0                              0   \n",
       "2             1.0                0.0                              0   \n",
       "3             1.0                0.0                              0   \n",
       "4             1.0                0.0                              0   \n",
       "\n",
       "   has_secondary_use_hotel  has_secondary_use_rental        ...         \\\n",
       "0                        0                         0        ...          \n",
       "1                        0                         0        ...          \n",
       "2                        0                         0        ...          \n",
       "3                        0                         0        ...          \n",
       "4                        0                         0        ...          \n",
       "\n",
       "   IsPrivate  IsFlat  IsMudFoundation  IsBambooRoofLight  IsFloorTypeMud  \\\n",
       "0          1       0                1                  1               1   \n",
       "1          1       0                1                  1               1   \n",
       "2          1       0                1                  1               1   \n",
       "3          1       0                1                  1               1   \n",
       "4          1       0                1                  1               1   \n",
       "\n",
       "   OtherFloorTypeMud  IsNotAttached  IsPlanConfigRectangular  \\\n",
       "0                  0              0                        1   \n",
       "1                  1              0                        1   \n",
       "2                  1              0                        1   \n",
       "3                  0              0                        1   \n",
       "4                  0              0                        1   \n",
       "\n",
       "   count_floors_change  height_ft_change  \n",
       "0                    0               0.0  \n",
       "1                    0               0.0  \n",
       "2                    0               0.0  \n",
       "3                    0               0.0  \n",
       "4                    0               0.0  \n",
       "\n",
       "[5 rows x 63 columns]"
      ]
     },
     "execution_count": 175,
     "metadata": {
      "tags": []
     },
     "output_type": "execute_result"
    }
   ],
   "source": [
    "res_train_copy.head()"
   ]
  },
  {
   "cell_type": "code",
   "execution_count": 0,
   "metadata": {
    "colab": {},
    "colab_type": "code",
    "id": "GNtApWchP82Q"
   },
   "outputs": [],
   "source": [
    "res_train_copy.drop(['count_floors_pre_eq', 'height_ft_pre_eq'], axis=1, inplace=True)\n",
    "res_test_copy.drop(['count_floors_pre_eq', 'height_ft_pre_eq'], axis=1, inplace=True)"
   ]
  },
  {
   "cell_type": "code",
   "execution_count": 0,
   "metadata": {
    "colab": {},
    "colab_type": "code",
    "id": "cL1BfQeOl_RU"
   },
   "outputs": [],
   "source": []
  },
  {
   "cell_type": "code",
   "execution_count": 0,
   "metadata": {
    "colab": {},
    "colab_type": "code",
    "id": "KtY6OoheP86f"
   },
   "outputs": [],
   "source": [
    "remove_columns = [\"legal_ownership_status\",\"land_surface_condition\",\"foundation_type\",\"roof_type\",\"ground_floor_type\",\"other_floor_type\",\"position\",\"plan_configuration\",\"count_floors_post_eq\",\"height_ft_post_eq\"]\n",
    "def dropColumns(res_train_copy,res_test_copy,remove_columns):\n",
    "  for i in remove_columns:\n",
    "    res_train_copy.drop([i],axis = 1, inplace = True)\n",
    "    res_test_copy.drop([i],axis = 1, inplace = True)\n",
    "    \n",
    "  return res_train_copy,res_test_copy"
   ]
  },
  {
   "cell_type": "code",
   "execution_count": 0,
   "metadata": {
    "colab": {},
    "colab_type": "code",
    "id": "WkDCPlQtP8ks"
   },
   "outputs": [],
   "source": [
    "res_train_copy, res_test_copy = dropColumns(res_train_copy,res_test_copy,remove_columns)"
   ]
  },
  {
   "cell_type": "code",
   "execution_count": 179,
   "metadata": {
    "colab": {
     "base_uri": "https://localhost:8080/",
     "height": 34
    },
    "colab_type": "code",
    "id": "2vbaJX9RP8ex",
    "outputId": "94184cad-0b0f-4b5d-f1b3-fc8eb458afd4"
   },
   "outputs": [
    {
     "data": {
      "text/plain": [
       "(631761, 51)"
      ]
     },
     "execution_count": 179,
     "metadata": {
      "tags": []
     },
     "output_type": "execute_result"
    }
   ],
   "source": [
    "res_train_copy.shape"
   ]
  },
  {
   "cell_type": "code",
   "execution_count": 180,
   "metadata": {
    "colab": {
     "base_uri": "https://localhost:8080/",
     "height": 34
    },
    "colab_type": "code",
    "id": "2-o5u_LAP8bW",
    "outputId": "f41021c6-6359-4934-a3be-8a848f1e260b"
   },
   "outputs": [
    {
     "data": {
      "text/plain": [
       "(421175, 50)"
      ]
     },
     "execution_count": 180,
     "metadata": {
      "tags": []
     },
     "output_type": "execute_result"
    }
   ],
   "source": [
    "res_test_copy.shape"
   ]
  },
  {
   "cell_type": "code",
   "execution_count": 0,
   "metadata": {
    "colab": {},
    "colab_type": "code",
    "id": "icuzHg0BV_Jm"
   },
   "outputs": [],
   "source": [
    "res_train_copy.drop(['building_id'], axis = 1, inplace = True)\n",
    "res_test_copy.drop(['building_id'], axis = 1, inplace = True)\n"
   ]
  },
  {
   "cell_type": "code",
   "execution_count": 0,
   "metadata": {
    "colab": {},
    "colab_type": "code",
    "id": "k6Nx9mwfV_lT"
   },
   "outputs": [],
   "source": [
    "#res_train_copy.dtypes"
   ]
  },
  {
   "cell_type": "markdown",
   "metadata": {
    "colab_type": "text",
    "id": "PsoFwuXcxrPG"
   },
   "source": [
    "Handling Missing Values"
   ]
  },
  {
   "cell_type": "code",
   "execution_count": 183,
   "metadata": {
    "colab": {
     "base_uri": "https://localhost:8080/",
     "height": 136
    },
    "colab_type": "code",
    "id": "y7BO79CjV_0-",
    "outputId": "bbe37fdc-9114-4036-ead4-65d4ebc5135f"
   },
   "outputs": [
    {
     "data": {
      "text/html": [
       "<div>\n",
       "<style scoped>\n",
       "    .dataframe tbody tr th:only-of-type {\n",
       "        vertical-align: middle;\n",
       "    }\n",
       "\n",
       "    .dataframe tbody tr th {\n",
       "        vertical-align: top;\n",
       "    }\n",
       "\n",
       "    .dataframe thead th {\n",
       "        text-align: right;\n",
       "    }\n",
       "</style>\n",
       "<table border=\"1\" class=\"dataframe\">\n",
       "  <thead>\n",
       "    <tr style=\"text-align: right;\">\n",
       "      <th></th>\n",
       "      <th>count</th>\n",
       "      <th>Name</th>\n",
       "    </tr>\n",
       "    <tr>\n",
       "      <th>Name</th>\n",
       "      <th></th>\n",
       "      <th></th>\n",
       "    </tr>\n",
       "  </thead>\n",
       "  <tbody>\n",
       "    <tr>\n",
       "      <th>count_families</th>\n",
       "      <td>0.000002</td>\n",
       "      <td>count_families</td>\n",
       "    </tr>\n",
       "    <tr>\n",
       "      <th>has_repair_started</th>\n",
       "      <td>0.052895</td>\n",
       "      <td>has_repair_started</td>\n",
       "    </tr>\n",
       "  </tbody>\n",
       "</table>\n",
       "</div>"
      ],
      "text/plain": [
       "                       count                Name\n",
       "Name                                            \n",
       "count_families      0.000002      count_families\n",
       "has_repair_started  0.052895  has_repair_started"
      ]
     },
     "execution_count": 183,
     "metadata": {
      "tags": []
     },
     "output_type": "execute_result"
    }
   ],
   "source": [
    "miss"
   ]
  },
  {
   "cell_type": "code",
   "execution_count": 0,
   "metadata": {
    "colab": {},
    "colab_type": "code",
    "id": "UiWbeqc1V_71"
   },
   "outputs": [],
   "source": [
    "res_train_copy['count_families'].fillna(res_train_copy['count_families'].mode()[0],inplace=True)\n",
    "res_test_copy['count_families'].fillna(res_test_copy['count_families'].mode()[0],inplace=True)"
   ]
  },
  {
   "cell_type": "code",
   "execution_count": 0,
   "metadata": {
    "colab": {},
    "colab_type": "code",
    "id": "E-Uxg3z1_GlD"
   },
   "outputs": [],
   "source": []
  },
  {
   "cell_type": "code",
   "execution_count": 185,
   "metadata": {
    "colab": {
     "base_uri": "https://localhost:8080/",
     "height": 122
    },
    "colab_type": "code",
    "id": "Cc9HyfR1yPjc",
    "outputId": "db5595a8-0765-4bc5-e8d5-c78a655b2874"
   },
   "outputs": [
    {
     "name": "stdout",
     "output_type": "stream",
     "text": [
      "0.0    409222\n",
      "1.0    189122\n",
      "Name: has_repair_started, dtype: int64\n",
      "0.0    273041\n",
      "1.0    126212\n",
      "Name: has_repair_started, dtype: int64\n"
     ]
    }
   ],
   "source": [
    "print(res_train_copy['has_repair_started'].value_counts())\n",
    "print(res_test_copy['has_repair_started'].value_counts())"
   ]
  },
  {
   "cell_type": "code",
   "execution_count": 0,
   "metadata": {
    "colab": {},
    "colab_type": "code",
    "id": "pXldKLiXV_sp"
   },
   "outputs": [],
   "source": [
    "res_train_copy['has_repair_started'].fillna(False,inplace=True)\n",
    "res_test_copy['has_repair_started'].fillna(False,inplace=True)"
   ]
  },
  {
   "cell_type": "code",
   "execution_count": 0,
   "metadata": {
    "colab": {},
    "colab_type": "code",
    "id": "-TXydKtSF_1a"
   },
   "outputs": [],
   "source": [
    "res_train_copy['has_repair_started'] = res_train_copy['has_repair_started'].astype('int64')"
   ]
  },
  {
   "cell_type": "code",
   "execution_count": 0,
   "metadata": {
    "colab": {},
    "colab_type": "code",
    "id": "BlrYYwnzKQ9p"
   },
   "outputs": [],
   "source": [
    "res_test_copy['has_repair_started'] = res_test_copy['has_repair_started'].astype('int64')"
   ]
  },
  {
   "cell_type": "code",
   "execution_count": 189,
   "metadata": {
    "colab": {
     "base_uri": "https://localhost:8080/",
     "height": 52
    },
    "colab_type": "code",
    "id": "uXVQuQL_V_ia",
    "outputId": "499ff458-bd7c-4b7d-a962-b810425a0397"
   },
   "outputs": [
    {
     "data": {
      "text/plain": [
       "array(['Both', 'Building removed', 'Not able to inspect', 'Exterior',\n",
       "       'Interior'], dtype=object)"
      ]
     },
     "execution_count": 189,
     "metadata": {
      "tags": []
     },
     "output_type": "execute_result"
    }
   ],
   "source": [
    "res_train_copy['area_assesed'].unique()"
   ]
  },
  {
   "cell_type": "code",
   "execution_count": 0,
   "metadata": {
    "colab": {},
    "colab_type": "code",
    "id": "GbgRj8EIHBo7"
   },
   "outputs": [],
   "source": []
  },
  {
   "cell_type": "code",
   "execution_count": 190,
   "metadata": {
    "colab": {
     "base_uri": "https://localhost:8080/",
     "height": 87
    },
    "colab_type": "code",
    "id": "VuOLo9yI2FlA",
    "outputId": "390b008e-7956-4f6c-9170-4b556aeee543"
   },
   "outputs": [
    {
     "data": {
      "text/plain": [
       "array(['Damaged-Repaired and used', 'Damaged-Not used',\n",
       "       'Damaged-Rubble clear', 'Damaged-Rubble Clear-New building built',\n",
       "       'Damaged-Used in risk', 'Damaged-Rubble unclear', 'Not damaged',\n",
       "       'Covered by landslide'], dtype=object)"
      ]
     },
     "execution_count": 190,
     "metadata": {
      "tags": []
     },
     "output_type": "execute_result"
    }
   ],
   "source": [
    "res_train_copy['condition_post_eq'].unique()"
   ]
  },
  {
   "cell_type": "code",
   "execution_count": 0,
   "metadata": {
    "colab": {},
    "colab_type": "code",
    "id": "4IqUK-KwI6UL"
   },
   "outputs": [],
   "source": [
    "y_train = res_train_copy['damage_grade']\n",
    "res_train_copy.drop(['damage_grade'], axis = 1, inplace = True)"
   ]
  },
  {
   "cell_type": "code",
   "execution_count": 0,
   "metadata": {
    "colab": {},
    "colab_type": "code",
    "id": "HNcLYzrV2Frl"
   },
   "outputs": [],
   "source": [
    "from sklearn.ensemble import RandomForestRegressor, RandomForestClassifier\n",
    "from sklearn import tree"
   ]
  },
  {
   "cell_type": "code",
   "execution_count": 0,
   "metadata": {
    "colab": {},
    "colab_type": "code",
    "id": "nQcT1CYj2FhD"
   },
   "outputs": [],
   "source": [
    "res_train_one_hot = pd.get_dummies(res_train_copy)\n"
   ]
  },
  {
   "cell_type": "code",
   "execution_count": 0,
   "metadata": {
    "colab": {},
    "colab_type": "code",
    "id": "NwU4jry9KCbc"
   },
   "outputs": [],
   "source": [
    "res_test_one_hot = pd.get_dummies(res_test_copy)"
   ]
  },
  {
   "cell_type": "code",
   "execution_count": 0,
   "metadata": {
    "colab": {},
    "colab_type": "code",
    "id": "JM4W-ykC2Fbp"
   },
   "outputs": [],
   "source": [
    "res_train_one_hot.drop([\"district_id_x\",\"vdcmun_id_x\",\"ward_id_x\"],axis = 1, inplace = True)\n",
    "res_test_one_hot.drop([\"district_id_x\",\"vdcmun_id_x\",\"ward_id_x\"],axis = 1, inplace = True)"
   ]
  },
  {
   "cell_type": "code",
   "execution_count": 196,
   "metadata": {
    "colab": {
     "base_uri": "https://localhost:8080/",
     "height": 278
    },
    "colab_type": "code",
    "id": "NOfiAdSxItvd",
    "outputId": "b26bddaa-9528-4867-d773-1250106dddfa"
   },
   "outputs": [
    {
     "data": {
      "text/html": [
       "<div>\n",
       "<style scoped>\n",
       "    .dataframe tbody tr th:only-of-type {\n",
       "        vertical-align: middle;\n",
       "    }\n",
       "\n",
       "    .dataframe tbody tr th {\n",
       "        vertical-align: top;\n",
       "    }\n",
       "\n",
       "    .dataframe thead th {\n",
       "        text-align: right;\n",
       "    }\n",
       "</style>\n",
       "<table border=\"1\" class=\"dataframe\">\n",
       "  <thead>\n",
       "    <tr style=\"text-align: right;\">\n",
       "      <th></th>\n",
       "      <th>count_families</th>\n",
       "      <th>has_secondary_use</th>\n",
       "      <th>has_secondary_use_agriculture</th>\n",
       "      <th>has_secondary_use_hotel</th>\n",
       "      <th>has_secondary_use_rental</th>\n",
       "      <th>has_secondary_use_institution</th>\n",
       "      <th>has_secondary_use_school</th>\n",
       "      <th>has_secondary_use_industry</th>\n",
       "      <th>has_secondary_use_health_post</th>\n",
       "      <th>has_secondary_use_gov_office</th>\n",
       "      <th>...</th>\n",
       "      <th>condition_post_eq_Damaged-Rubble Clear-New building built</th>\n",
       "      <th>condition_post_eq_Damaged-Rubble clear</th>\n",
       "      <th>condition_post_eq_Damaged-Rubble unclear</th>\n",
       "      <th>condition_post_eq_Damaged-Used in risk</th>\n",
       "      <th>condition_post_eq_Not damaged</th>\n",
       "      <th>area_assesed_Both</th>\n",
       "      <th>area_assesed_Building removed</th>\n",
       "      <th>area_assesed_Exterior</th>\n",
       "      <th>area_assesed_Interior</th>\n",
       "      <th>area_assesed_Not able to inspect</th>\n",
       "    </tr>\n",
       "  </thead>\n",
       "  <tbody>\n",
       "    <tr>\n",
       "      <th>0</th>\n",
       "      <td>1.0</td>\n",
       "      <td>0.0</td>\n",
       "      <td>0</td>\n",
       "      <td>0</td>\n",
       "      <td>0</td>\n",
       "      <td>0</td>\n",
       "      <td>0</td>\n",
       "      <td>0</td>\n",
       "      <td>0</td>\n",
       "      <td>0</td>\n",
       "      <td>...</td>\n",
       "      <td>0</td>\n",
       "      <td>0</td>\n",
       "      <td>0</td>\n",
       "      <td>0</td>\n",
       "      <td>0</td>\n",
       "      <td>1</td>\n",
       "      <td>0</td>\n",
       "      <td>0</td>\n",
       "      <td>0</td>\n",
       "      <td>0</td>\n",
       "    </tr>\n",
       "    <tr>\n",
       "      <th>1</th>\n",
       "      <td>1.0</td>\n",
       "      <td>0.0</td>\n",
       "      <td>0</td>\n",
       "      <td>0</td>\n",
       "      <td>0</td>\n",
       "      <td>0</td>\n",
       "      <td>0</td>\n",
       "      <td>0</td>\n",
       "      <td>0</td>\n",
       "      <td>0</td>\n",
       "      <td>...</td>\n",
       "      <td>0</td>\n",
       "      <td>0</td>\n",
       "      <td>0</td>\n",
       "      <td>0</td>\n",
       "      <td>0</td>\n",
       "      <td>1</td>\n",
       "      <td>0</td>\n",
       "      <td>0</td>\n",
       "      <td>0</td>\n",
       "      <td>0</td>\n",
       "    </tr>\n",
       "    <tr>\n",
       "      <th>2</th>\n",
       "      <td>1.0</td>\n",
       "      <td>0.0</td>\n",
       "      <td>0</td>\n",
       "      <td>0</td>\n",
       "      <td>0</td>\n",
       "      <td>0</td>\n",
       "      <td>0</td>\n",
       "      <td>0</td>\n",
       "      <td>0</td>\n",
       "      <td>0</td>\n",
       "      <td>...</td>\n",
       "      <td>0</td>\n",
       "      <td>0</td>\n",
       "      <td>0</td>\n",
       "      <td>0</td>\n",
       "      <td>0</td>\n",
       "      <td>1</td>\n",
       "      <td>0</td>\n",
       "      <td>0</td>\n",
       "      <td>0</td>\n",
       "      <td>0</td>\n",
       "    </tr>\n",
       "    <tr>\n",
       "      <th>3</th>\n",
       "      <td>1.0</td>\n",
       "      <td>0.0</td>\n",
       "      <td>0</td>\n",
       "      <td>0</td>\n",
       "      <td>0</td>\n",
       "      <td>0</td>\n",
       "      <td>0</td>\n",
       "      <td>0</td>\n",
       "      <td>0</td>\n",
       "      <td>0</td>\n",
       "      <td>...</td>\n",
       "      <td>0</td>\n",
       "      <td>0</td>\n",
       "      <td>0</td>\n",
       "      <td>0</td>\n",
       "      <td>0</td>\n",
       "      <td>1</td>\n",
       "      <td>0</td>\n",
       "      <td>0</td>\n",
       "      <td>0</td>\n",
       "      <td>0</td>\n",
       "    </tr>\n",
       "    <tr>\n",
       "      <th>4</th>\n",
       "      <td>1.0</td>\n",
       "      <td>0.0</td>\n",
       "      <td>0</td>\n",
       "      <td>0</td>\n",
       "      <td>0</td>\n",
       "      <td>0</td>\n",
       "      <td>0</td>\n",
       "      <td>0</td>\n",
       "      <td>0</td>\n",
       "      <td>0</td>\n",
       "      <td>...</td>\n",
       "      <td>0</td>\n",
       "      <td>0</td>\n",
       "      <td>0</td>\n",
       "      <td>0</td>\n",
       "      <td>0</td>\n",
       "      <td>1</td>\n",
       "      <td>0</td>\n",
       "      <td>0</td>\n",
       "      <td>0</td>\n",
       "      <td>0</td>\n",
       "    </tr>\n",
       "  </tbody>\n",
       "</table>\n",
       "<p>5 rows × 57 columns</p>\n",
       "</div>"
      ],
      "text/plain": [
       "   count_families  has_secondary_use  has_secondary_use_agriculture  \\\n",
       "0             1.0                0.0                              0   \n",
       "1             1.0                0.0                              0   \n",
       "2             1.0                0.0                              0   \n",
       "3             1.0                0.0                              0   \n",
       "4             1.0                0.0                              0   \n",
       "\n",
       "   has_secondary_use_hotel  has_secondary_use_rental  \\\n",
       "0                        0                         0   \n",
       "1                        0                         0   \n",
       "2                        0                         0   \n",
       "3                        0                         0   \n",
       "4                        0                         0   \n",
       "\n",
       "   has_secondary_use_institution  has_secondary_use_school  \\\n",
       "0                              0                         0   \n",
       "1                              0                         0   \n",
       "2                              0                         0   \n",
       "3                              0                         0   \n",
       "4                              0                         0   \n",
       "\n",
       "   has_secondary_use_industry  has_secondary_use_health_post  \\\n",
       "0                           0                              0   \n",
       "1                           0                              0   \n",
       "2                           0                              0   \n",
       "3                           0                              0   \n",
       "4                           0                              0   \n",
       "\n",
       "   has_secondary_use_gov_office                ...                 \\\n",
       "0                             0                ...                  \n",
       "1                             0                ...                  \n",
       "2                             0                ...                  \n",
       "3                             0                ...                  \n",
       "4                             0                ...                  \n",
       "\n",
       "   condition_post_eq_Damaged-Rubble Clear-New building built  \\\n",
       "0                                                  0           \n",
       "1                                                  0           \n",
       "2                                                  0           \n",
       "3                                                  0           \n",
       "4                                                  0           \n",
       "\n",
       "   condition_post_eq_Damaged-Rubble clear  \\\n",
       "0                                       0   \n",
       "1                                       0   \n",
       "2                                       0   \n",
       "3                                       0   \n",
       "4                                       0   \n",
       "\n",
       "   condition_post_eq_Damaged-Rubble unclear  \\\n",
       "0                                         0   \n",
       "1                                         0   \n",
       "2                                         0   \n",
       "3                                         0   \n",
       "4                                         0   \n",
       "\n",
       "   condition_post_eq_Damaged-Used in risk  condition_post_eq_Not damaged  \\\n",
       "0                                       0                              0   \n",
       "1                                       0                              0   \n",
       "2                                       0                              0   \n",
       "3                                       0                              0   \n",
       "4                                       0                              0   \n",
       "\n",
       "   area_assesed_Both  area_assesed_Building removed  area_assesed_Exterior  \\\n",
       "0                  1                              0                      0   \n",
       "1                  1                              0                      0   \n",
       "2                  1                              0                      0   \n",
       "3                  1                              0                      0   \n",
       "4                  1                              0                      0   \n",
       "\n",
       "   area_assesed_Interior  area_assesed_Not able to inspect  \n",
       "0                      0                                 0  \n",
       "1                      0                                 0  \n",
       "2                      0                                 0  \n",
       "3                      0                                 0  \n",
       "4                      0                                 0  \n",
       "\n",
       "[5 rows x 57 columns]"
      ]
     },
     "execution_count": 196,
     "metadata": {
      "tags": []
     },
     "output_type": "execute_result"
    }
   ],
   "source": [
    "res_train_one_hot.head()"
   ]
  },
  {
   "cell_type": "code",
   "execution_count": 0,
   "metadata": {
    "colab": {},
    "colab_type": "code",
    "id": "ji-Uhg0Pp0-C"
   },
   "outputs": [],
   "source": [
    "clf = tree.DecisionTreeClassifier()\n",
    "clf = clf.fit(res_train_one_hot, y_train)"
   ]
  },
  {
   "cell_type": "code",
   "execution_count": 0,
   "metadata": {
    "colab": {},
    "colab_type": "code",
    "id": "TZ0KRoPrp-eQ"
   },
   "outputs": [],
   "source": [
    "y_preds_tree = clf.predict(res_test_one_hot)"
   ]
  },
  {
   "cell_type": "code",
   "execution_count": 0,
   "metadata": {
    "colab": {},
    "colab_type": "code",
    "id": "isD7JA2cqTJx"
   },
   "outputs": [],
   "source": [
    "prediction=pd.DataFrame({'building_id': test['building_id'], 'damage_grade':y_preds_tree})"
   ]
  },
  {
   "cell_type": "code",
   "execution_count": 0,
   "metadata": {
    "colab": {},
    "colab_type": "code",
    "id": "yeKDAFiHqjWM"
   },
   "outputs": [],
   "source": [
    "target = {1: 'Grade 1', 2: 'Grade 2', 3: 'Grade 3', 4: 'Grade 4', 5: 'Grade 5'}\n",
    "prediction.damage_grade.replace(target, inplace=True)"
   ]
  },
  {
   "cell_type": "code",
   "execution_count": 219,
   "metadata": {
    "colab": {
     "base_uri": "https://localhost:8080/",
     "height": 34
    },
    "colab_type": "code",
    "id": "R3B_Ny7Gqoyb",
    "outputId": "8deda6ce-218e-498e-f359-c50a8f82f0d3"
   },
   "outputs": [
    {
     "data": {
      "text/plain": [
       "71.20033240339527"
      ]
     },
     "execution_count": 219,
     "metadata": {
      "tags": []
     },
     "output_type": "execute_result"
    }
   ],
   "source": [
    "sklearn.metrics.accuracy_score(y_true['damage_grade'],prediction['damage_grade']) * 100"
   ]
  },
  {
   "cell_type": "code",
   "execution_count": 0,
   "metadata": {
    "colab": {},
    "colab_type": "code",
    "id": "FLcd7RTz2FYd"
   },
   "outputs": [],
   "source": [
    "rf = RandomForestClassifier(n_estimators=200, min_samples_leaf = 2)"
   ]
  },
  {
   "cell_type": "code",
   "execution_count": 198,
   "metadata": {
    "colab": {
     "base_uri": "https://localhost:8080/",
     "height": 140
    },
    "colab_type": "code",
    "id": "aktf2omFnYUj",
    "outputId": "0c902396-ddb4-45bd-898f-98393689113f"
   },
   "outputs": [
    {
     "data": {
      "text/plain": [
       "RandomForestClassifier(bootstrap=True, class_weight=None, criterion='gini',\n",
       "            max_depth=None, max_features='auto', max_leaf_nodes=None,\n",
       "            min_impurity_decrease=0.0, min_impurity_split=None,\n",
       "            min_samples_leaf=2, min_samples_split=2,\n",
       "            min_weight_fraction_leaf=0.0, n_estimators=200, n_jobs=None,\n",
       "            oob_score=False, random_state=None, verbose=0,\n",
       "            warm_start=False)"
      ]
     },
     "execution_count": 198,
     "metadata": {
      "tags": []
     },
     "output_type": "execute_result"
    }
   ],
   "source": [
    "rf.fit(res_train_one_hot, y_train)"
   ]
  },
  {
   "cell_type": "code",
   "execution_count": 220,
   "metadata": {
    "colab": {
     "base_uri": "https://localhost:8080/",
     "height": 34
    },
    "colab_type": "code",
    "id": "yAEq3u6HVYte",
    "outputId": "7ab233f3-ce9e-4a45-a536-f3139b81e440"
   },
   "outputs": [
    {
     "data": {
      "text/plain": [
       "81.90391619615646"
      ]
     },
     "execution_count": 220,
     "metadata": {
      "tags": []
     },
     "output_type": "execute_result"
    }
   ],
   "source": [
    "rf.score(res_train_one_hot, y_train)*100"
   ]
  },
  {
   "cell_type": "code",
   "execution_count": 200,
   "metadata": {
    "colab": {
     "base_uri": "https://localhost:8080/",
     "height": 122
    },
    "colab_type": "code",
    "id": "KbfkB9g7eC0R",
    "outputId": "4b8e8b90-e0cd-456f-db4b-2a75622cf2bb"
   },
   "outputs": [
    {
     "data": {
      "text/plain": [
       "height_ft_change                      0.208800\n",
       "count_floors_change                   0.126005\n",
       "condition_post_eq_Not damaged         0.091257\n",
       "area_assesed_Building removed         0.065183\n",
       "condition_post_eq_Damaged-Not used    0.059226\n",
       "dtype: float64"
      ]
     },
     "execution_count": 200,
     "metadata": {
      "tags": []
     },
     "output_type": "execute_result"
    }
   ],
   "source": [
    "feature_imp = pd.Series(rf.feature_importances_,index=res_train_one_hot.columns).sort_values(ascending=False)\n",
    "feature_imp.head()"
   ]
  },
  {
   "cell_type": "code",
   "execution_count": 0,
   "metadata": {
    "colab": {},
    "colab_type": "code",
    "id": "05qYBa6MYHFF"
   },
   "outputs": [],
   "source": []
  },
  {
   "cell_type": "code",
   "execution_count": 201,
   "metadata": {
    "colab": {
     "base_uri": "https://localhost:8080/",
     "height": 357
    },
    "colab_type": "code",
    "id": "Ss5FGy5SewWC",
    "outputId": "36e6df29-d3e4-4430-c510-099724d4999e"
   },
   "outputs": [
    {
     "name": "stderr",
     "output_type": "stream",
     "text": [
      "/usr/local/lib/python3.6/dist-packages/seaborn/categorical.py:1428: FutureWarning: remove_na is deprecated and is a private function. Do not use.\n",
      "  stat_data = remove_na(group_data)\n",
      "No handles with labels found to put in legend.\n"
     ]
    },
    {
     "data": {
      "image/png": "[encoded data removed]",
      "text/plain": [
       "<Figure size 432x288 with 1 Axes>"
      ]
     },
     "metadata": {
      "tags": []
     },
     "output_type": "display_data"
    }
   ],
   "source": [
    "import matplotlib.pyplot as plt\n",
    "import seaborn as sns\n",
    "%matplotlib inline\n",
    "# Creating a bar plot\n",
    "sns.barplot(x=feature_imp, y=feature_imp.index)\n",
    "# Add labels to your graph\n",
    "plt.xlabel('Feature Importance Score')\n",
    "plt.ylabel('Features')\n",
    "plt.title(\"Visualizing Important Features\")\n",
    "plt.legend()\n",
    "plt.show()"
   ]
  },
  {
   "cell_type": "code",
   "execution_count": 0,
   "metadata": {
    "colab": {},
    "colab_type": "code",
    "id": "d96bzJ132FVR"
   },
   "outputs": [],
   "source": [
    "ypreds = rf.predict(res_test_one_hot)"
   ]
  },
  {
   "cell_type": "code",
   "execution_count": 0,
   "metadata": {
    "colab": {},
    "colab_type": "code",
    "id": "owGOyDwJimKL"
   },
   "outputs": [],
   "source": [
    "y_true = pd.read_csv('/content/sample_data/f094981623-submission.csv')"
   ]
  },
  {
   "cell_type": "code",
   "execution_count": 207,
   "metadata": {
    "colab": {
     "base_uri": "https://localhost:8080/",
     "height": 195
    },
    "colab_type": "code",
    "id": "O8wZwMsSkB4z",
    "outputId": "f52724cd-e1dd-4c65-ccc7-19d5c40698ed"
   },
   "outputs": [
    {
     "data": {
      "text/html": [
       "<div>\n",
       "<style scoped>\n",
       "    .dataframe tbody tr th:only-of-type {\n",
       "        vertical-align: middle;\n",
       "    }\n",
       "\n",
       "    .dataframe tbody tr th {\n",
       "        vertical-align: top;\n",
       "    }\n",
       "\n",
       "    .dataframe thead th {\n",
       "        text-align: right;\n",
       "    }\n",
       "</style>\n",
       "<table border=\"1\" class=\"dataframe\">\n",
       "  <thead>\n",
       "    <tr style=\"text-align: right;\">\n",
       "      <th></th>\n",
       "      <th>building_id</th>\n",
       "      <th>damage_grade</th>\n",
       "    </tr>\n",
       "  </thead>\n",
       "  <tbody>\n",
       "    <tr>\n",
       "      <th>0</th>\n",
       "      <td>a3380c4f75</td>\n",
       "      <td>Grade 3</td>\n",
       "    </tr>\n",
       "    <tr>\n",
       "      <th>1</th>\n",
       "      <td>a338a4e653</td>\n",
       "      <td>Grade 5</td>\n",
       "    </tr>\n",
       "    <tr>\n",
       "      <th>2</th>\n",
       "      <td>a338a4e6b7</td>\n",
       "      <td>Grade 5</td>\n",
       "    </tr>\n",
       "    <tr>\n",
       "      <th>3</th>\n",
       "      <td>a33a6eaa3a</td>\n",
       "      <td>Grade 3</td>\n",
       "    </tr>\n",
       "    <tr>\n",
       "      <th>4</th>\n",
       "      <td>a33b073ff6</td>\n",
       "      <td>Grade 5</td>\n",
       "    </tr>\n",
       "  </tbody>\n",
       "</table>\n",
       "</div>"
      ],
      "text/plain": [
       "  building_id damage_grade\n",
       "0  a3380c4f75      Grade 3\n",
       "1  a338a4e653      Grade 5\n",
       "2  a338a4e6b7      Grade 5\n",
       "3  a33a6eaa3a      Grade 3\n",
       "4  a33b073ff6      Grade 5"
      ]
     },
     "execution_count": 207,
     "metadata": {
      "tags": []
     },
     "output_type": "execute_result"
    }
   ],
   "source": [
    "y_true.head()"
   ]
  },
  {
   "cell_type": "code",
   "execution_count": 0,
   "metadata": {
    "colab": {},
    "colab_type": "code",
    "id": "C8xY8ThPqZ5U"
   },
   "outputs": [],
   "source": [
    "target = {1: 'Grade 1', 2: 'Grade 2', 3: 'Grade 3', 4: 'Grade 4', 5: 'Grade 5'}\n",
    "prediction.damage_grade.replace(target, inplace=True)"
   ]
  },
  {
   "cell_type": "code",
   "execution_count": 0,
   "metadata": {
    "colab": {},
    "colab_type": "code",
    "id": "1WDWU09Z1E1t"
   },
   "outputs": [],
   "source": [
    "prediction=pd.DataFrame({'building_id': test['building_id'], 'damage_grade':ypreds})"
   ]
  },
  {
   "cell_type": "code",
   "execution_count": 213,
   "metadata": {
    "colab": {
     "base_uri": "https://localhost:8080/",
     "height": 34
    },
    "colab_type": "code",
    "id": "VqLkrS-G1EvU",
    "outputId": "bb239520-6237-44a5-c868-d2363e826a95"
   },
   "outputs": [
    {
     "data": {
      "text/plain": [
       "84.09046120971094"
      ]
     },
     "execution_count": 213,
     "metadata": {
      "tags": []
     },
     "output_type": "execute_result"
    }
   ],
   "source": [
    "sklearn.metrics.accuracy_score(y_true['damage_grade'],prediction['damage_grade']) * 100"
   ]
  },
  {
   "cell_type": "code",
   "execution_count": 0,
   "metadata": {
    "colab": {},
    "colab_type": "code",
    "id": "q11TSOhU1EyX"
   },
   "outputs": [],
   "source": [
    "prediction.to_csv('submission.csv', index=False)"
   ]
  },
  {
   "cell_type": "code",
   "execution_count": 211,
   "metadata": {
    "colab": {
     "base_uri": "https://localhost:8080/",
     "height": 195
    },
    "colab_type": "code",
    "id": "a6N9S9EoqQWE",
    "outputId": "74ace931-c0f7-4211-907d-b4c8a4bb898d"
   },
   "outputs": [
    {
     "data": {
      "text/html": [
       "<div>\n",
       "<style scoped>\n",
       "    .dataframe tbody tr th:only-of-type {\n",
       "        vertical-align: middle;\n",
       "    }\n",
       "\n",
       "    .dataframe tbody tr th {\n",
       "        vertical-align: top;\n",
       "    }\n",
       "\n",
       "    .dataframe thead th {\n",
       "        text-align: right;\n",
       "    }\n",
       "</style>\n",
       "<table border=\"1\" class=\"dataframe\">\n",
       "  <thead>\n",
       "    <tr style=\"text-align: right;\">\n",
       "      <th></th>\n",
       "      <th>building_id</th>\n",
       "      <th>damage_grade</th>\n",
       "    </tr>\n",
       "  </thead>\n",
       "  <tbody>\n",
       "    <tr>\n",
       "      <th>0</th>\n",
       "      <td>a3380c4f75</td>\n",
       "      <td>Grade 3</td>\n",
       "    </tr>\n",
       "    <tr>\n",
       "      <th>1</th>\n",
       "      <td>a338a4e653</td>\n",
       "      <td>Grade 5</td>\n",
       "    </tr>\n",
       "    <tr>\n",
       "      <th>2</th>\n",
       "      <td>a338a4e6b7</td>\n",
       "      <td>Grade 5</td>\n",
       "    </tr>\n",
       "    <tr>\n",
       "      <th>3</th>\n",
       "      <td>a33a6eaa3a</td>\n",
       "      <td>Grade 3</td>\n",
       "    </tr>\n",
       "    <tr>\n",
       "      <th>4</th>\n",
       "      <td>a33b073ff6</td>\n",
       "      <td>Grade 5</td>\n",
       "    </tr>\n",
       "  </tbody>\n",
       "</table>\n",
       "</div>"
      ],
      "text/plain": [
       "  building_id damage_grade\n",
       "0  a3380c4f75      Grade 3\n",
       "1  a338a4e653      Grade 5\n",
       "2  a338a4e6b7      Grade 5\n",
       "3  a33a6eaa3a      Grade 3\n",
       "4  a33b073ff6      Grade 5"
      ]
     },
     "execution_count": 211,
     "metadata": {
      "tags": []
     },
     "output_type": "execute_result"
    }
   ],
   "source": [
    "prediction.head()"
   ]
  }
 ],
 "metadata": {
  "colab": {
   "collapsed_sections": [
    "_TbeagHsfzHC"
   ],
   "name": "kernel_Earthquake_Damage.ipynb",
   "provenance": [],
   "toc_visible": true,
   "version": "0.3.2"
  },
  "kernelspec": {
   "display_name": "Python 3",
   "language": "python",
   "name": "python3"
  },
  "language_info": {
   "codemirror_mode": {
    "name": "ipython",
    "version": 3
   },
   "file_extension": ".py",
   "mimetype": "text/x-python",
   "name": "python",
   "nbconvert_exporter": "python",
   "pygments_lexer": "ipython3",
   "version": "3.6.5"
  }
 },
 "nbformat": 4,
 "nbformat_minor": 1
}
